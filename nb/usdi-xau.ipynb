{
  "cells": [
    {
      "cell_type": "markdown",
      "source": [
        "# Gold and USD inflation\n",
        "Using monthly data we will explore the relationship between gold prices and\n",
        "inflation.\n",
        "\n",
        "### Inspirations\n",
        "- [The FRED® Blog: Is gold a good hedge against inflation?](https://fredblog.stlouisfed.org/2019/03/is-gold-a-good-hedge-against-inflation/)\n",
        "\n",
        "### Definitions\n",
        "- Gold: The ICE Benchmark Administration Limited (IBA), Gold Fixing Price in\n",
        "the London Bullion Market, based in U.S. Dollars, retrieved from FRED,\n",
        "Federal Reserve Bank of St. Louis\n",
        "- CPI inflation: Consumer Price Index, seasonally adjusted monthly since 1947,\n",
        ", retrieved from FRED, Federal Reserve Bank of St. Louis\n",
        "- PCE inflation: Personal Consumption Expenditure, seasonally adjusted monthly\n",
        "since 1959, retrieved from FRED, Federal Reserve Bank of St. Louis\n",
        "- SYN inflation: Synthetic Inflation, normalized and averaged over CPI,\n",
        "CPI Core, PCE and PCE Core inflation measures, retrieved from FRED, Federal\n",
        "Reserve Bank of St. Louis\n",
        "\n",
        "### Dependencies:\n",
        "- Python: datetime, fecon236, matplotlib, numpy, pandas, pandas_datareader,\n",
        "sklearn, statsmodels, sympy, seaborn\n",
        "- Written using Python 3.8.5, Atom 1.51, Hydrogen 2.14.4\n",
        "\n",
        "### General To Do List:\n",
        "- Understand cluster analysis in greater detail\n",
        "- Review peer work"
      ],
      "metadata": {
        "nteract": {
          "transient": {
            "deleting": false
          }
        }
      }
    },
    {
      "cell_type": "markdown",
      "source": [
        "## 0. Preamble: Code Setup and Function Definitions"
      ],
      "metadata": {
        "nteract": {
          "transient": {
            "deleting": false
          }
        }
      }
    },
    {
      "cell_type": "markdown",
      "source": [
        "### 0.1 Check if required modules are installed in the kernel; and if not install them"
      ],
      "metadata": {
        "nteract": {
          "transient": {
            "deleting": false
          }
        }
      }
    },
    {
      "cell_type": "code",
      "source": [
        "import sys\n",
        "import subprocess\n",
        "import pkg_resources\n",
        "required = {'datetime', 'fecon236', 'matplotlib', 'numpy', 'pandas',\n",
        "            'pandas_datareader', 'sklearn', 'statsmodels', 'sympy', 'seaborn'}\n",
        "installed = {pkg.key for pkg in pkg_resources.working_set}\n",
        "missing = required - installed\n",
        "if missing:\n",
        "    python = sys.executable\n",
        "    subprocess.check_call([python, '-m', 'pip', 'install', *missing],\n",
        "                           stdout=subprocess.DEVNULL)"
      ],
      "outputs": [],
      "execution_count": null,
      "metadata": {
        "collapsed": true,
        "jupyter": {
          "source_hidden": false,
          "outputs_hidden": false
        },
        "nteract": {
          "transient": {
            "deleting": false
          }
        }
      }
    },
    {
      "cell_type": "code",
      "source": [
        "# fecon236 is a useful econometrics python module for access and using U.S.\n",
        "# Federal Reserve and related data\n",
        "import fecon236 as fe\n",
        "fe.system.specs()\n",
        "#  If a module is modified, automatically reload it:\n",
        "%load_ext autoreload\n",
        "%autoreload 2   # Use 0 to disable this feature."
      ],
      "outputs": [],
      "execution_count": null,
      "metadata": {
        "collapsed": true,
        "jupyter": {
          "source_hidden": false,
          "outputs_hidden": false
        },
        "nteract": {
          "transient": {
            "deleting": false
          }
        }
      }
    },
    {
      "cell_type": "markdown",
      "source": [
        "### 0.2 Import useful modules for data wrangling"
      ],
      "metadata": {
        "nteract": {
          "transient": {
            "deleting": false
          }
        }
      }
    },
    {
      "cell_type": "code",
      "source": [
        "import numpy as np\n",
        "import math\n",
        "import datetime as dt"
      ],
      "outputs": [],
      "execution_count": null,
      "metadata": {
        "collapsed": true,
        "jupyter": {
          "source_hidden": false,
          "outputs_hidden": false
        },
        "nteract": {
          "transient": {
            "deleting": false
          }
        }
      }
    },
    {
      "cell_type": "code",
      "source": [
        "# Will use sklearn and statsmodels for model development and testing\n",
        "from sklearn import mixture\n",
        "from sklearn.cluster import OPTICS, cluster_optics_dbscan\n",
        "# from sklearn.preprocessing import PolynomialFeatures\n",
        "from sklearn.cluster import MeanShift, estimate_bandwidth, MiniBatchKMeans, KMeans\n",
        "from sklearn.metrics.pairwise import pairwise_distances_argmin\n",
        "# from sklearn.datasets import make_blobs\n",
        "import statsmodels.api as sm"
      ],
      "outputs": [],
      "execution_count": null,
      "metadata": {
        "collapsed": true,
        "jupyter": {
          "source_hidden": false,
          "outputs_hidden": false
        },
        "nteract": {
          "transient": {
            "deleting": false
          }
        }
      }
    },
    {
      "cell_type": "code",
      "source": [
        "# Notebook display and formatting options\n",
        "# Represent pandas DataFrames as text; not HTML representation:\n",
        "import pandas as pd\n",
        "pd.set_option('display.notebook_repr_html', False)\n",
        "# Alter Jupyter option for the pretty display of variables\n",
        "from IPython.core.interactiveshell import InteractiveShell\n",
        "InteractiveShell.ast_node_interactivity = \"all\"\n",
        "# Import matplotlib and seaborn for plotting\n",
        "from matplotlib import pyplot as plt\n",
        "from matplotlib.colors import LogNorm   ### CAN WE GET RID OF THIS WITH SEABORN\n",
        "#  Generate plots inside notebook, \"inline\" generates static png\n",
        "%matplotlib inline\n",
        "# Use seaborn for to make matplotlib pretty and set the default theme styles\n",
        "import seaborn as sns\n",
        "sns.set_theme()\n",
        "sns.set_style(\"whitegrid\")"
      ],
      "outputs": [],
      "execution_count": null,
      "metadata": {
        "collapsed": true,
        "jupyter": {
          "source_hidden": false,
          "outputs_hidden": false
        },
        "nteract": {
          "transient": {
            "deleting": false
          }
        }
      }
    },
    {
      "cell_type": "code",
      "source": [
        "# Custom module containing a series of helper functions for processing\n",
        "# and displaying the data\n",
        "import sys\n",
        "sys.path.append('../lib/')  # Append module directory so Jupyter can find it\n",
        "import tools as yt"
      ],
      "outputs": [],
      "execution_count": null,
      "metadata": {
        "collapsed": true,
        "jupyter": {
          "source_hidden": false,
          "outputs_hidden": false
        },
        "nteract": {
          "transient": {
            "deleting": false
          }
        }
      }
    },
    {
      "cell_type": "code",
      "source": [
        "# ### Variable Naming Schema:\n",
        "# {series}_{type}_{period, optional}_{descriptor, optional}\n",
        "# {series}\n",
        "# dt    datetime\n",
        "# in    inflation\n",
        "# au    gold\n",
        "#\n",
        "# {type}\n",
        "# idx   an index\n",
        "# nom   nominal prices in USD\n",
        "# rel   real (inflation adjusted) prices in USD\n",
        "# lvl   levels e.g. prices, index values\n",
        "# ppc   period on period percentage change\n",
        "# fcd   fe module FRED codes\n",
        "#\n",
        "# {period}\n",
        "# m     monthly\n",
        "# y     yearly\n",
        "#\n",
        "# {descriptor}\n",
        "# cln   column name\n",
        "# var   variable identification"
      ],
      "outputs": [],
      "execution_count": null,
      "metadata": {
        "collapsed": true,
        "jupyter": {
          "source_hidden": false,
          "outputs_hidden": false
        },
        "nteract": {
          "transient": {
            "deleting": false
          }
        }
      }
    },
    {
      "cell_type": "markdown",
      "source": [
        "## 1. Retrieve Data, Calculate Monthly & Annual Data for Nominal & Real Gold Prices"
      ],
      "metadata": {
        "nteract": {
          "transient": {
            "deleting": false
          }
        }
      }
    },
    {
      "cell_type": "markdown",
      "source": [
        "**Get gold and inflation rates, both as monthly frequency**"
      ],
      "metadata": {
        "nteract": {
          "transient": {
            "deleting": false
          }
        }
      }
    },
    {
      "cell_type": "code",
      "source": [
        "# Notes: fecon236 uses median to resample (instead of say mean) and also\n",
        "# replaces FRED empty data (marked with a \".\") with data from previously\n",
        "# occurring period; These adjustments will drive some small differences to\n",
        "# the analysis on the FRED blog"
      ],
      "outputs": [],
      "execution_count": null,
      "metadata": {
        "collapsed": true,
        "jupyter": {
          "source_hidden": false,
          "outputs_hidden": false
        },
        "nteract": {
          "transient": {
            "deleting": false
          }
        }
      }
    },
    {
      "cell_type": "code",
      "source": [
        "# Daily London AM gold fix, nominal USD, converted to monthly\n",
        "dtau_nom_m = fe.monthly(fe.get('GOLDAMGBD228NLBM'))\n",
        "# Daily London PM gold fix, nominal USD, converted to monthly\n",
        "# au_nom_m = fe.get(fe.m4xau)"
      ],
      "outputs": [],
      "execution_count": null,
      "metadata": {
        "collapsed": true,
        "jupyter": {
          "source_hidden": false,
          "outputs_hidden": false
        },
        "nteract": {
          "transient": {
            "deleting": false
          }
        }
      }
    },
    {
      "cell_type": "code",
      "source": [
        "# Inflation in use\n",
        "in_fcd = fe.m4cpi      # FRED code 'CPIAUCSL'\n",
        "# in_fcd = fe.m4pce    # FRED code 'PCEPI'\n",
        "# Synthetic average of 'CPIAUCSL', 'CPILFESL', 'PCEPI', 'CPILFESL'\n",
        "# in_fcd = fe.m4infl\n",
        "dtin_idx_m = fe.get (fe.m4cpi)  # Returns the index, not percentage change"
      ],
      "outputs": [],
      "execution_count": null,
      "metadata": {
        "collapsed": true,
        "jupyter": {
          "source_hidden": false,
          "outputs_hidden": false
        },
        "nteract": {
          "transient": {
            "deleting": false
          }
        }
      }
    },
    {
      "cell_type": "code",
      "source": [
        "# Gold with USD inflation removed i.e. in real USD\n",
        "# First, calculate rebased inflation index\n",
        "in_basedate = '2020-08-01'              # The base date for our index\n",
        "in_base = dtin_idx_m['Y'][in_basedate]\n",
        "dtin_idx_rebased = fe.div(dtin_idx_m, in_base)"
      ],
      "outputs": [],
      "execution_count": null,
      "metadata": {
        "collapsed": true,
        "jupyter": {
          "source_hidden": false,
          "outputs_hidden": false
        },
        "nteract": {
          "transient": {
            "deleting": false
          }
        }
      }
    },
    {
      "cell_type": "code",
      "source": [
        "# Find the first and last overlapping dates for the two data series where\n",
        "# we are using values\n",
        "dt_stp_lvl_m = max(fe.head(dtau_nom_m, 1).index[0],\n",
        "                   fe.head(dtin_idx_m, 1).index[0])\n",
        "dt_edp_lvl_m = min(fe.tail(dtau_nom_m, 1).index[0],\n",
        "                   fe.tail(dtin_idx_m, 1).index[0])"
      ],
      "outputs": [],
      "execution_count": null,
      "metadata": {
        "collapsed": true,
        "jupyter": {
          "source_hidden": false,
          "outputs_hidden": false
        },
        "nteract": {
          "transient": {
            "deleting": false
          }
        }
      }
    },
    {
      "cell_type": "code",
      "source": [
        "# Calculate the real adjusted for inflation gold price\n",
        "dtau_rel_m = fe.div(dtau_nom_m.loc[dt_stp_lvl_m:dt_edp_lvl_m],\n",
        "                    dtin_idx_rebased.loc[dt_stp_lvl_m:dt_edp_lvl_m])"
      ],
      "outputs": [],
      "execution_count": null,
      "metadata": {
        "collapsed": true,
        "jupyter": {
          "source_hidden": false,
          "outputs_hidden": false
        },
        "nteract": {
          "transient": {
            "deleting": false
          }
        }
      }
    },
    {
      "cell_type": "markdown",
      "source": [
        "**Determine period on period percentage changes**"
      ],
      "metadata": {
        "nteract": {
          "transient": {
            "deleting": false
          }
        }
      }
    },
    {
      "cell_type": "code",
      "source": [
        "# Percentage calculation for month on month i.e. frequency = 1\n",
        "freq = 1\n",
        "dtin_ppc_m = fe.nona(fe.pcent(dtin_idx_m, freq))\n",
        "dtau_nomppc_m = fe.nona(fe.pcent(dtau_nom_m, freq))\n",
        "dtau_relppc_m = fe.nona(fe.pcent(dtau_rel_m, freq))"
      ],
      "outputs": [],
      "execution_count": null,
      "metadata": {
        "collapsed": true,
        "jupyter": {
          "source_hidden": false,
          "outputs_hidden": false
        },
        "nteract": {
          "transient": {
            "deleting": false
          }
        }
      }
    },
    {
      "cell_type": "code",
      "source": [
        "# Find the first and last overlapping dates the monthly change data\n",
        "dt_stp_ppc_m = max(fe.head(dtau_relppc_m, 1).index[0],\n",
        "                   fe.head(dtin_ppc_m, 1).index[0])\n",
        "dt_edp_ppc_m = min(fe.tail(dtau_relppc_m, 1).index[0],\n",
        "                   fe.tail(dtin_ppc_m, 1).index[0])"
      ],
      "outputs": [],
      "execution_count": null,
      "metadata": {
        "collapsed": true,
        "jupyter": {
          "source_hidden": false,
          "outputs_hidden": false
        },
        "nteract": {
          "transient": {
            "deleting": false
          }
        }
      }
    },
    {
      "cell_type": "code",
      "source": [
        "# Change percentage calculation to every 12 months for year on year changes\n",
        "freq = 12\n",
        "dtau_relppc_y = fe.nona(fe.pcent(dtau_rel_m, freq))\n",
        "dtin_ppc_y = fe.nona(fe.pcent(dtin_idx_m, freq))"
      ],
      "outputs": [],
      "execution_count": null,
      "metadata": {
        "collapsed": true,
        "jupyter": {
          "source_hidden": false,
          "outputs_hidden": false
        },
        "nteract": {
          "transient": {
            "deleting": false
          }
        }
      }
    },
    {
      "cell_type": "code",
      "source": [
        "# Find the first and last overlapping dates the yearly change data\n",
        "dt_stp_ppc_y = max(fe.head(dtau_relppc_y, 1).index[0],\n",
        "                   fe.head(dtin_ppc_y, 1).index[0])\n",
        "dt_edp_ppc_y = min(fe.tail(dtau_relppc_y, 1).index[0],\n",
        "                   fe.tail(dtin_ppc_y, 1).index[0])"
      ],
      "outputs": [],
      "execution_count": null,
      "metadata": {
        "collapsed": true,
        "jupyter": {
          "source_hidden": false,
          "outputs_hidden": false
        },
        "nteract": {
          "transient": {
            "deleting": false
          }
        }
      }
    },
    {
      "cell_type": "markdown",
      "source": [
        "## 2. Plot and Review Time Series of Monthly Inflation and Gold Price Levels"
      ],
      "metadata": {
        "nteract": {
          "transient": {
            "deleting": false
          }
        }
      }
    },
    {
      "cell_type": "markdown",
      "source": [
        "### 2.1 Time series of the inflation index and gold prices in nominal and real terms"
      ],
      "metadata": {
        "nteract": {
          "transient": {
            "deleting": false
          }
        }
      }
    },
    {
      "cell_type": "code",
      "source": [
        "# Create figure and axes\n",
        "fig, (ax0, ax1, ax2) = plt.subplots(ncols=3, figsize=(16, 5));\n",
        "# Plot chart on each axes\n",
        "ax0.plot(dtin_idx_m.index, dtin_idx_m);\n",
        "ax1.plot(dtau_nom_m.index, dtau_nom_m);\n",
        "ax2.plot(dtau_rel_m.index, dtau_rel_m);\n",
        "# Update titles\n",
        "ax0.set_title('Inflation Index');\n",
        "ax1.set_title('Gold Price (Nom. USD)');\n",
        "ax2.set_title('Gold Price (Real USD)');"
      ],
      "outputs": [],
      "execution_count": null,
      "metadata": {
        "collapsed": true,
        "jupyter": {
          "source_hidden": false,
          "outputs_hidden": false
        },
        "nteract": {
          "transient": {
            "deleting": false
          }
        }
      }
    },
    {
      "cell_type": "markdown",
      "source": [
        "**2020-09-22 Results Discussion**\n",
        "\n",
        "1. So we see a gradually increasing inflation index, a gold price in\n",
        "nominal terms that has a spike in ~1980, a second spike in ~2012, and a\n",
        "third spike in 2020; and lastly, looking at the gold price in real\n",
        "inflation adjusted terms, we see the three spikes again, but this time the\n",
        "spikes each roughly have the same maximum value at approx. $2,000\n",
        "(in current USD)\n",
        "\n",
        "2. Taking a step back, one claim for gold is that it acts as a hedge against\n",
        "inflation i.e. as a nominal $100 decreasing in value due to inflation, the\n",
        "the value of a set amount of gold stays the same in real inflation adjusted\n",
        "currency terms. This relationship may hold out over very long time frames\n",
        "(i.e. centuries), but in the shorter term, the obvious volatility in the\n",
        "nominal and real prices indicates that there are many other factors at play\n",
        "in determining the gold price, and holding gold as purely an inflation hedge\n",
        "would be a poor investment decision.\n",
        "\n",
        "*Nonetheless, time to look at some analysis in greater detail to see if\n",
        "there is anything interesting in the data.*"
      ],
      "metadata": {
        "nteract": {
          "transient": {
            "deleting": false
          }
        }
      }
    },
    {
      "cell_type": "markdown",
      "source": [
        "### 2.2 Time series of the change in the inflation index and gold prices in nominal and real terms"
      ],
      "metadata": {
        "nteract": {
          "transient": {
            "deleting": false
          }
        }
      }
    },
    {
      "cell_type": "markdown",
      "source": [
        "**Monthly nominal gold price data**"
      ],
      "metadata": {
        "nteract": {
          "transient": {
            "deleting": false
          }
        }
      }
    },
    {
      "cell_type": "code",
      "source": [
        "# Combine monthly inflation with nominal gold price data\n",
        "dtinau_nomppc_m = pd.concat([dtin_ppc_m[dt_stp_ppc_m:dt_edp_ppc_m],\n",
        "                             dtau_nomppc_m[dt_stp_ppc_m:dt_edp_ppc_m]], axis=1)\n",
        "in_cln = 'Inflation'\n",
        "au_nomppc_m_cln = 'MoM Nom. USD % Change'\n",
        "dtinau_nomppc_m.columns = [in_cln, au_nomppc_m_cln]\n",
        "dtinau_nomppc_m = pd.melt(dtinau_nomppc_m, ignore_index=False,\n",
        "                          value_vars=[in_cln, au_nomppc_m_cln])"
      ],
      "outputs": [],
      "execution_count": null,
      "metadata": {
        "collapsed": true,
        "jupyter": {
          "source_hidden": false,
          "outputs_hidden": false
        },
        "nteract": {
          "transient": {
            "deleting": false
          }
        }
      }
    },
    {
      "cell_type": "code",
      "source": [
        "# Update column names\n",
        "inau_var_cln = 'Infl or Gold Price'\n",
        "inau_m_val_cln = 'MoM % Change'\n",
        "dtinau_nomppc_m.columns = [inau_var_cln, inau_m_val_cln]"
      ],
      "outputs": [],
      "execution_count": null,
      "metadata": {
        "collapsed": true,
        "jupyter": {
          "source_hidden": false,
          "outputs_hidden": false
        },
        "nteract": {
          "transient": {
            "deleting": false
          }
        }
      }
    },
    {
      "cell_type": "code",
      "source": [
        "# Set palette for use\n",
        "clrpalette = sns.color_palette(palette='husl', n_colors=2)"
      ],
      "outputs": [],
      "execution_count": null,
      "metadata": {
        "collapsed": true,
        "jupyter": {
          "source_hidden": false,
          "outputs_hidden": false
        },
        "nteract": {
          "transient": {
            "deleting": false
          }
        }
      }
    },
    {
      "cell_type": "code",
      "source": [
        "# Plot and format axis labels\n",
        "fcg = sns.relplot(data=dtinau_nomppc_m, x=dtinau_nomppc_m.index,\n",
        "                  y=inau_m_val_cln, hue=inau_var_cln, alpha=0.5,\n",
        "                  palette=clrpalette, kind='line');\n",
        "yt.frmt_yaxislbls(fcg, fmt='{:.0f}', fmt0='{:.0%}', tickscle=1, tickscle0=0.01)"
      ],
      "outputs": [],
      "execution_count": null,
      "metadata": {
        "collapsed": true,
        "jupyter": {
          "source_hidden": false,
          "outputs_hidden": false
        },
        "nteract": {
          "transient": {
            "deleting": false
          }
        }
      }
    },
    {
      "cell_type": "markdown",
      "source": [
        "**Monthly real gold price data**"
      ],
      "metadata": {
        "nteract": {
          "transient": {
            "deleting": false
          }
        }
      }
    },
    {
      "cell_type": "code",
      "source": [
        "# Combine monthly inflation with real gold price data\n",
        "dtinau_relppc_m = pd.concat([dtin_ppc_m[dt_stp_ppc_m:dt_edp_ppc_m],\n",
        "                             dtau_relppc_m[dt_stp_ppc_m:dt_edp_ppc_m]], axis=1)\n",
        "au_relppc_m_cln = 'MoM Real USD % Change'\n",
        "dtinau_relppc_m.columns = [in_cln, au_relppc_m_cln]\n",
        "dtinau_relppc_m = pd.melt(dtinau_relppc_m, ignore_index=False,\n",
        "                          value_vars=[in_cln, au_relppc_m_cln])"
      ],
      "outputs": [],
      "execution_count": null,
      "metadata": {
        "collapsed": true,
        "jupyter": {
          "source_hidden": false,
          "outputs_hidden": false
        },
        "nteract": {
          "transient": {
            "deleting": false
          }
        }
      }
    },
    {
      "cell_type": "code",
      "source": [
        "# Update column names\n",
        "dtinau_relppc_m.columns = [inau_var_cln, inau_m_val_cln]"
      ],
      "outputs": [],
      "execution_count": null,
      "metadata": {
        "collapsed": true,
        "jupyter": {
          "source_hidden": false,
          "outputs_hidden": false
        },
        "nteract": {
          "transient": {
            "deleting": false
          }
        }
      }
    },
    {
      "cell_type": "code",
      "source": [
        "# Plot and format axis labels\n",
        "fcg = sns.relplot(data=dtinau_relppc_m, x=dtinau_relppc_m.index,\n",
        "                  y=inau_m_val_cln, hue=inau_var_cln, alpha=0.5,\n",
        "                  palette=clrpalette, kind='line');\n",
        "yt.frmt_yaxislbls(fcg, fmt='{:.0f}', fmt0='{:.0%}', tickscle=1, tickscle0=0.01)"
      ],
      "outputs": [],
      "execution_count": null,
      "metadata": {
        "collapsed": true,
        "jupyter": {
          "source_hidden": false,
          "outputs_hidden": false
        },
        "nteract": {
          "transient": {
            "deleting": false
          }
        }
      }
    },
    {
      "cell_type": "markdown",
      "source": [
        "**Yearly real gold price data**"
      ],
      "metadata": {
        "nteract": {
          "transient": {
            "deleting": false
          }
        }
      }
    },
    {
      "cell_type": "code",
      "source": [
        "# Combine yearly inflation with real gold price data\n",
        "dtinau_relppc_y = pd.concat([dtin_ppc_y[dt_stp_ppc_y:dt_edp_ppc_y], dtau_relppc_y[dt_stp_ppc_y:dt_edp_ppc_y]], axis=1)\n",
        "in_ppc_y_cln = 'Inflation'\n",
        "au_relppc_y_cln = 'YoY Real USD % Change'\n",
        "dtinau_relppc_y.columns = [in_ppc_y_cln, au_relppc_y_cln]\n",
        "dtinau_relppc_y = pd.melt(dtinau_relppc_y, ignore_index=False,\n",
        "                          value_vars=[in_ppc_y_cln, au_relppc_y_cln])"
      ],
      "outputs": [],
      "execution_count": null,
      "metadata": {
        "collapsed": true,
        "jupyter": {
          "source_hidden": false,
          "outputs_hidden": false
        },
        "nteract": {
          "transient": {
            "deleting": false
          }
        }
      }
    },
    {
      "cell_type": "code",
      "source": [
        "# Update column names\n",
        "inau_y_val_cln = 'YoY % Change'\n",
        "dtinau_relppc_y.columns = [inau_var_cln, inau_y_val_cln]"
      ],
      "outputs": [],
      "execution_count": null,
      "metadata": {
        "collapsed": true,
        "jupyter": {
          "source_hidden": false,
          "outputs_hidden": false
        },
        "nteract": {
          "transient": {
            "deleting": false
          }
        }
      }
    },
    {
      "cell_type": "code",
      "source": [
        "# Plot and format axis labels\n",
        "fcg = sns.relplot(data=dtinau_relppc_y, x=dtinau_relppc_y.index,\n",
        "                  y=inau_y_val_cln, hue=inau_var_cln, alpha=0.5,\n",
        "                  palette=clrpalette, kind='line');\n",
        "yt.frmt_yaxislbls(fcg, fmt='{:.0f}', fmt0='{:.0%}', tickscle=1, tickscle0=0.01)"
      ],
      "outputs": [],
      "execution_count": null,
      "metadata": {
        "collapsed": true,
        "jupyter": {
          "source_hidden": false,
          "outputs_hidden": false
        },
        "nteract": {
          "transient": {
            "deleting": false
          }
        }
      }
    },
    {
      "cell_type": "markdown",
      "source": [
        "**2020-09-23 Results Discussion**\n",
        "\n",
        "Difficult to identify any particular trends looking at the data this way.\n",
        "Likely easier to plot the data as scatter plots with inflation on the x-axis\n",
        "and change in gold price on the y-axis."
      ],
      "metadata": {
        "nteract": {
          "transient": {
            "deleting": false
          }
        }
      }
    },
    {
      "cell_type": "markdown",
      "source": [
        "## 3. Plot and Review Change in Inflation and Gold Price Levels\n",
        "### 3.1 Monthly Data"
      ],
      "metadata": {
        "nteract": {
          "transient": {
            "deleting": false
          }
        }
      }
    },
    {
      "cell_type": "code",
      "source": [
        "# Add the real data onto the inflation and noimnal data\n",
        "dtinau_nomrelppc_m = dtinau_nomppc_m.append(dtinau_relppc_m.loc[dtinau_relppc_m[inau_var_cln] == au_relppc_m_cln])\n",
        "# Pivot the table back into  multiple columns then melt and rename\n",
        "inau_nomrelppc_m = dtinau_nomrelppc_m.pivot_table(values = inau_m_val_cln,\n",
        "                                                  columns = inau_var_cln,\n",
        "                                                  index = dtinau_nomrelppc_m.index)\n",
        "inau_nomrelppc_m = pd.melt(inau_nomrelppc_m, ignore_index=False, id_vars=in_cln,\n",
        "                          value_vars=[au_nomppc_m_cln, au_relppc_m_cln])\n",
        "inau_nomrelppc_m.rename(columns={'value':inau_m_val_cln}, inplace=True)"
      ],
      "outputs": [],
      "execution_count": null,
      "metadata": {
        "collapsed": true,
        "jupyter": {
          "source_hidden": false,
          "outputs_hidden": false
        },
        "nteract": {
          "transient": {
            "deleting": false
          }
        }
      }
    },
    {
      "cell_type": "code",
      "source": [
        "# Display the charts\n",
        "fcg_nomrelppc_m = yt.snslmplot(data=inau_nomrelppc_m, xcol=in_cln,\n",
        "                            ycol=inau_m_val_cln, yidcol=inau_var_cln, degree=1,\n",
        "                            col_wrap=2, aspect=1.1)\n",
        "plt_nomrelppc_m_title = ' vs. Inflation {} to {}'\n",
        "plt_nomrelppc_m_title =  plt_nomrelppc_m_title.format(dt_stp_ppc_m.strftime(\"%b %Y\"),\n",
        "                                                      dt_edp_ppc_m.strftime(\"%b %Y\"))\n",
        "fcg_nomrelppc_m = fcg_nomrelppc_m.set_titles(col_template=\"{col_name}\" +\n",
        "                                             plt_nomrelppc_m_title)"
      ],
      "outputs": [],
      "execution_count": null,
      "metadata": {
        "collapsed": true,
        "jupyter": {
          "source_hidden": false,
          "outputs_hidden": false
        },
        "nteract": {
          "transient": {
            "deleting": false
          }
        }
      }
    },
    {
      "cell_type": "markdown",
      "source": [
        "**2020-09-22 Results Discussion** *(See Appendices for Statistics)*\n",
        "\n",
        "1. For nominal prices, the low correlation coefficient (~0.15), poor ability\n",
        "of the model to explain movements (low R-squared and adjusted R-squareds of\n",
        "~0.02) indicate that inflation explains only a small amount of the movement\n",
        "in nominal gold prices. The t-stat and p-values are erroneously high as\n",
        "changes in inflation will be included in the nominal price. To correct for\n",
        "this we need to remove inflation and use real prices.\n",
        "2. For real prices, all model statistics show a weaker link as expected."
      ],
      "metadata": {
        "nteract": {
          "transient": {
            "deleting": false
          }
        }
      }
    },
    {
      "cell_type": "markdown",
      "source": [
        "### 3.2 Yearly Data"
      ],
      "metadata": {
        "nteract": {
          "transient": {
            "deleting": false
          }
        }
      }
    },
    {
      "cell_type": "code",
      "source": [
        "# Pivot the dataframe from it's current melted shape\n",
        "dtinau_relppc_y = dtinau_relppc_y.pivot_table(values=inau_y_val_cln,\n",
        "                                              index=dtinau_relppc_y.index,\n",
        "                                              columns=inau_var_cln)"
      ],
      "outputs": [],
      "execution_count": null,
      "metadata": {
        "collapsed": true,
        "jupyter": {
          "source_hidden": false,
          "outputs_hidden": false
        },
        "nteract": {
          "transient": {
            "deleting": false
          }
        }
      }
    },
    {
      "cell_type": "code",
      "source": [
        "# Display the chart\n",
        "fcg_relppc_y = yt.snslmplot(data=dtinau_relppc_y, xcol=in_ppc_y_cln,\n",
        "                         ycol=au_relppc_y_cln, degree=1)\n",
        "plt_relppc_y_title = 'Yearly Change in Gold Price (Real USD) vs. Inflation {} to {}'\n",
        "plt_relppc_y_title =  plt_relppc_y_title.format(dt_stp_ppc_y.strftime(\"%b %Y\"),\n",
        "                                                dt_edp_ppc_y.strftime(\"%b %Y\"))\n",
        "for ax in fcg_relppc_y.axes.flat:\n",
        "    fcg_relppc_y_ax = ax.set_title(plt_relppc_y_title)"
      ],
      "outputs": [],
      "execution_count": null,
      "metadata": {
        "collapsed": true,
        "jupyter": {
          "source_hidden": false,
          "outputs_hidden": false
        },
        "nteract": {
          "transient": {
            "deleting": false
          }
        }
      }
    },
    {
      "cell_type": "markdown",
      "source": [
        "**2020-09-22 Results Discussion** *(See Appendices for Statistics)*\n",
        "\n",
        "1. A correlation coefficient of approx. 0.31 and a significant t-stat for the\n",
        "coefficient indicates that a yearly model is of better use than a monthly\n",
        "view. However, the r-squared and adjusted r-squareds are still small\n",
        "(approx. 0.1) indicating that the model is missing many other factors in\n",
        "determining the changes in gold price.\n",
        "\n",
        "2. Of some interest is the group of data points in the upper right hand\n",
        "side of the chart. Does this indicate that gold prices change significantly\n",
        "when inflation is much higher than normal? First will explore if there is\n",
        "a grouping of certain time periods to the data e.g. do we see the years\n",
        "bunch together or spread apart?"
      ],
      "metadata": {
        "nteract": {
          "transient": {
            "deleting": false
          }
        }
      }
    },
    {
      "cell_type": "markdown",
      "source": [
        "### 3.3 Reviewing Data by Year"
      ],
      "metadata": {
        "nteract": {
          "transient": {
            "deleting": false
          }
        }
      }
    },
    {
      "cell_type": "code",
      "source": [
        "# Add a column for calendar year\n",
        "yr_var_cln = 'Year'\n",
        "dtinau_nomrelppc_m[yr_var_cln] = dtinau_nomrelppc_m.index.year\n",
        "dtinau_relppc_y[yr_var_cln] = dtinau_relppc_y.index.year\n",
        "# Calculate mean by year for inflation, nominal and real gold prices\n",
        "inau_nomrelppcmn_m = dtinau_nomrelppc_m.groupby([inau_var_cln, yr_var_cln], as_index=False).mean()\n",
        "inau_relppcmn_y = dtinau_relppc_y.groupby([yr_var_cln], as_index=False).mean()"
      ],
      "outputs": [],
      "execution_count": null,
      "metadata": {
        "collapsed": true,
        "jupyter": {
          "source_hidden": false,
          "outputs_hidden": false
        },
        "nteract": {
          "transient": {
            "deleting": false
          }
        }
      }
    },
    {
      "cell_type": "code",
      "source": [
        "n_colors = len(np.unique(dtinau_relppc_y.loc[:, yr_var_cln]))\n",
        "sns.set_palette(\"cubehelix\", n_colors=n_colors)\n",
        "# Display the chart\n",
        "fcg = sns.lmplot(data=dtinau_relppc_y, x=in_ppc_y_cln, y=au_relppc_y_cln,\n",
        "                 order=1, hue=yr_var_cln, height=6, aspect=1.7)\n",
        "# Adjust the legend\n",
        "fcg.legend.remove()\n",
        "plt.subplots_adjust(wspace = 0.5)\n",
        "_ = plt.legend(loc='lower center', ncol=10, bbox_to_anchor=(0.50, -0.37));\n",
        "# Fomat the axes\n",
        "_ = yt.frmt_xaxislbls(fcg, fmt='{:.1f}', fmt0='{:.1%}', tickscle=1, tickscle0=0.01)\n",
        "_ = yt.frmt_yaxislbls(fcg, fmt='{:.0f}', fmt0='{:.0%}', tickscle=1, tickscle0=0.01)\n",
        "# Add text label for each year\n",
        "rows, cols = inau_relppcmn_y.shape\n",
        "for row in range(rows):\n",
        "    _ = fcg.axes[0][0].annotate('{}'.format(inau_relppcmn_y.iloc[row, 0]), xy=(inau_relppcmn_y.iloc[row, 1], inau_relppcmn_y.iloc[row, 2]))"
      ],
      "outputs": [],
      "execution_count": null,
      "metadata": {
        "collapsed": true,
        "jupyter": {
          "source_hidden": false,
          "outputs_hidden": false
        },
        "nteract": {
          "transient": {
            "deleting": false
          }
        }
      }
    },
    {
      "cell_type": "markdown",
      "source": [
        "**2020-09-25 Results Discussion**\n",
        "\n",
        "So a little difficult to read, but it looks like a positive relationship\n",
        "between high inflation and increases in gold prices is essentially driven\n",
        "by one year, 1980. Interesting to note that 1982 still sees high inflation,\n",
        "but declining gold prices."
      ],
      "metadata": {
        "nteract": {
          "transient": {
            "deleting": false
          }
        }
      }
    },
    {
      "cell_type": "markdown",
      "source": [
        "### 3.3 Yearly Data with Higher Order Polynomials"
      ],
      "metadata": {
        "nteract": {
          "transient": {
            "deleting": false
          }
        }
      }
    },
    {
      "cell_type": "code",
      "source": [
        "sns.set_palette('muted')\n",
        "deg = 2     # Start at degree=2\n",
        "fig, axs = plt.subplots(ncols=2, nrows=2, figsize=(13.3, 10));\n",
        "for axx in axs:\n",
        "    for ax in axx:\n",
        "        fcg = sns.regplot(data=dtinau_relppc_y, x='Inflation',\n",
        "                          y=au_relppc_y_cln, order=deg, ax=ax)\n",
        "        _ = ax.set_title('Polynomial Order: {0}'.format(deg))\n",
        "        if deg != 4:\n",
        "            _ = ax.set_xlabel('')\n",
        "            _ = ax.set_ylabel('')\n",
        "        else:\n",
        "            _ = yt.frmt_xaxislbls(ax, fmt='{:.1%}', fmt0='{:.1%}', tickscle=0.01, tickscle0=0.01)\n",
        "            _ = yt.frmt_yaxislbls(ax, fmt='{:.0%}', fmt0='{:.0%}', tickscle=0.01, tickscle0=0.01)\n",
        "        deg += 1\n",
        "# Provide some more white space to allow the plots to breathe\n",
        "plt.subplots_adjust(wspace = 0.2)\n",
        "plt.subplots_adjust(hspace = 0.2)"
      ],
      "outputs": [],
      "execution_count": null,
      "metadata": {
        "collapsed": true,
        "jupyter": {
          "source_hidden": false,
          "outputs_hidden": false
        },
        "nteract": {
          "transient": {
            "deleting": false
          }
        }
      }
    },
    {
      "cell_type": "markdown",
      "source": [
        "**2020-09-22 Results Discussion** *(See Appendices for Statistics)*\n",
        "\n",
        "Adding more features sees the statistics improve suggesting higher order\n",
        "polynomial models are a better fit (see number discussion below). However, a\n",
        "polynomial of order 2 or 4 are not intuitively obvious given their\n",
        "implications of both high inflation and high deflation leading to a high\n",
        "positive change in the gold price. Polynomials of order 1, 3 and 5 are\n",
        "more intuitively understandable, with high inflation leading to a high\n",
        "positive increase in gold prices, and high inflation leading to a high\n",
        "negative decrease in gold prices.\n",
        "\n",
        "The issue with higher order polynomials is one of over-fit, with the BIC\n",
        "number indicating that order 3 may be the sweet spot.\n",
        "\n",
        "Going with a order 3 polynomial model implies that gold prices do not\n",
        "really do anything during low to moderate inflation (perhaps up to ~8%\n",
        "just by eyeballing the data), but really takes off when inflation is high.\n",
        "\n",
        "**So, in 2020, are we in the foreseeable future likely to have high inflation\n",
        "reminiscent of the 1970's?** Unlikely in my view.\n",
        "\n",
        "Model statistics detail: The r-squared and adjusted r-squared's move higher\n",
        "to values of ~0.21 for `order=2`, to ~0.28 for `order=[3,4,5]`. The\n",
        "coefficient t-starts and p-values are significant for `order=[2,3]`, but not\n",
        "for 'order=[4,5]'. Reviewing the Bayesian Information Criterion (BIC),\n",
        "indicates that 'order=3' is the preferred model. The Akaike Information\n",
        "Criterion (AIC) indicates either 'order=[4,5]', with `order=3` a second\n",
        "choice."
      ],
      "metadata": {
        "nteract": {
          "transient": {
            "deleting": false
          }
        }
      }
    },
    {
      "cell_type": "markdown",
      "source": [
        "## 4 Cluster Analysis"
      ],
      "metadata": {
        "nteract": {
          "transient": {
            "deleting": false
          }
        }
      }
    },
    {
      "cell_type": "code",
      "source": [
        "# Create NumPy array to hold data without the time series column\n",
        "inau_relppc_y = np.column_stack((dtin_ppc_y['Y'][dt_stp_ppc_y:dt_edp_ppc_y], dtau_relppc_y['Y'][dt_stp_ppc_y:dt_edp_ppc_y]))"
      ],
      "outputs": [],
      "execution_count": null,
      "metadata": {
        "collapsed": true,
        "jupyter": {
          "source_hidden": false,
          "outputs_hidden": false
        },
        "nteract": {
          "transient": {
            "deleting": false
          }
        }
      }
    },
    {
      "cell_type": "markdown",
      "source": [
        "### 4.1 Expectation-Maximization"
      ],
      "metadata": {
        "nteract": {
          "transient": {
            "deleting": false
          }
        }
      }
    },
    {
      "cell_type": "markdown",
      "source": [
        "The Expectation-Maximization Algorithm, or EM algorithm for short, is an\n",
        "approach for maximum likelihood estimation in the presence of latent\n",
        "variables."
      ],
      "metadata": {
        "nteract": {
          "transient": {
            "deleting": false
          }
        }
      }
    },
    {
      "cell_type": "code",
      "source": [
        "# Set up variables to determine the min and max plotting contour colours\n",
        "# Start and stop take log values so a value of 2 is 100 (assuming base 10)\n",
        "# Default choice\n",
        "# start = 0\n",
        "# stop = 2\n",
        "# Based on knowing limits of Zln\n",
        "# np.amin(Zln)\n",
        "# np.amax(Zln)\n",
        "start = math.log(10, 10)\n",
        "stop = math.log(70, 10)"
      ],
      "outputs": [],
      "execution_count": null,
      "metadata": {
        "collapsed": true,
        "jupyter": {
          "source_hidden": false,
          "outputs_hidden": false
        },
        "nteract": {
          "transient": {
            "deleting": false
          }
        }
      }
    },
    {
      "cell_type": "code",
      "source": [
        "# Define number of components to use\n",
        "n_cpts = [1, 2, 4, 6, 8, 10]\n",
        "# Set up the figure for the subplots\n",
        "ncols = 2\n",
        "nrows = math.ceil(len(n_cpts) / ncols)\n",
        "fit = plt.figure(figsize=(15, 25))\n",
        "# Run through each number of component to use\n",
        "for axi in range(1, len(n_cpts) + 1):\n",
        "    n_cpt = n_cpts[axi - 1]\n",
        "    ax = plt.subplot(nrows, ncols, axi)\n",
        "    # fit a GMM\n",
        "    gmmmdl = mixture.GaussianMixture(n_components=n_cpt, covariance_type='full');\n",
        "    _ = gmmmdl.fit(inau_relppc_y);\n",
        "    # display predicted scores by the model as a contour plot\n",
        "    xln = np.linspace(math.floor(min(inau_relppc_y[:, 0])),\n",
        "                      math.ceil(max(inau_relppc_y[:, 0])))\n",
        "    yln = np.linspace(math.floor(min(inau_relppc_y[:, 1])),\n",
        "                      math.ceil(max(inau_relppc_y[:, 1])))\n",
        "    Xln, Yln = np.meshgrid(xln, yln)\n",
        "    XX = np.array([Xln.ravel(), Yln.ravel()]).T\n",
        "    Zln = -gmmmdl.score_samples(XX)\n",
        "    Zln = Zln.reshape(Xln.shape);\n",
        "    # Create and display the plot\n",
        "    CS = ax.contour(Xln, Yln, Zln, norm=LogNorm(vmin=1, vmax=100.0),\n",
        "                     levels=np.logspace(start=0.3, stop=1.845, num=20, base=10));\n",
        "    fcg = ax.scatter(inau_relppc_y[:, 0], inau_relppc_y[:, 1], .8);\n",
        "    _ = ax.set_title('No. Components: {0}'.format(n_cpt));\n",
        "    # Labels on second last figure...assuming even number of figures\n",
        "    if n_cpt == n_cpts[-2]:\n",
        "        _ = ax.set_xlabel(in_cln)\n",
        "        _ = ax.set_ylabel(inau_y_val_cln)\n",
        "        _ = yt.frmt_xaxislbls(ax, fmt='{:.1%}', fmt0='{:.1%}', tickscle=0.01, tickscle0=0.01)\n",
        "        _ = yt.frmt_yaxislbls(ax, fmt='{:.0%}', fmt0='{:.0%}', tickscle=0.01, tickscle0=0.01)\n",
        "# Provide some more white space to allow the plots to breathe\n",
        "plt.subplots_adjust(wspace = 0.1)\n",
        "plt.subplots_adjust(hspace = 0.25)"
      ],
      "outputs": [],
      "execution_count": null,
      "metadata": {
        "collapsed": true,
        "jupyter": {
          "source_hidden": false,
          "outputs_hidden": false
        },
        "nteract": {
          "transient": {
            "deleting": false
          }
        }
      }
    },
    {
      "cell_type": "markdown",
      "source": [
        "**2020-09-22 Results Discussion**\n",
        "\n",
        "For 2 components EM essentially places a high likelihood\n",
        "around the cluster of data centred on [2.5, 0]. As we increase the number of\n",
        "components, EM starts to place more weight on the high-inflation,\n",
        "high-positive change in gold prices. However, no significant 'peak' forms\n",
        "in the upper-left, to me indicating that this method does not see much value\n",
        "in bisecting the data."
      ],
      "metadata": {
        "nteract": {
          "transient": {
            "deleting": false
          }
        }
      }
    },
    {
      "cell_type": "markdown",
      "source": [
        "### 4.2 K-Means"
      ],
      "metadata": {
        "nteract": {
          "transient": {
            "deleting": false
          }
        }
      }
    },
    {
      "cell_type": "code",
      "source": [
        "# Compute the clustering with k-means\n",
        "# Define number of clusters to use\n",
        "n_clusters = [2, 3, 4, 5]\n",
        "# Set up the figure for the subplots\n",
        "colours = sns.color_palette('muted')\n",
        "ncols = 2\n",
        "nrows = math.ceil(len(n_clusters) / ncols)\n",
        "fit = plt.figure(figsize=(13, 10))\n",
        "# Run through each number of clusters to use\n",
        "for axi in range(1, len(n_clusters) + 1):\n",
        "    nci = n_clusters[axi - 1]\n",
        "    ax = plt.subplot(nrows, ncols, axi)\n",
        "    # Fit the model\n",
        "    ppc_y_kmeans = KMeans(init='k-means++',\n",
        "                          n_clusters=nci, n_init=10).fit(inau_relppc_y)\n",
        "    kmeans_cluster_centers = ppc_y_kmeans.cluster_centers_\n",
        "    kmeans_lbls = pairwise_distances_argmin(inau_relppc_y, kmeans_cluster_centers)\n",
        "    # Plot the results\n",
        "    for k, col in zip(range(nci), colours):\n",
        "        my_members = kmeans_lbls == k\n",
        "        cluster_center = kmeans_cluster_centers[k]\n",
        "        fcg = ax.plot(inau_relppc_y[my_members, 0], inau_relppc_y[my_members, 1],\n",
        "                       'w', markerfacecolor=col, marker='.')\n",
        "        fcg = ax.plot(cluster_center[0], cluster_center[1], 'o',\n",
        "                       markerfacecolor=col, markeredgecolor='k', markersize=6)\n",
        "\n",
        "    _ = ax.set_title('No. of Clusters: {0}'.format(nci));\n",
        "    # Labels on second last figure...assuming even number of figures\n",
        "    if nci == n_clusters[-2]:\n",
        "        _ = ax.set_xlabel(in_cln)\n",
        "        _ = ax.set_ylabel(inau_y_val_cln)\n",
        "        _ = yt.frmt_xaxislbls(ax, fmt='{:.1%}', fmt0='{:.1%}', tickscle=0.01, tickscle0=0.01)\n",
        "        _ = yt.frmt_yaxislbls(ax, fmt='{:.0%}', fmt0='{:.0%}', tickscle=0.01, tickscle0=0.01)\n",
        "# Provide some more white space to allow the plots to breathe\n",
        "plt.subplots_adjust(wspace = 0.1)\n",
        "plt.subplots_adjust(hspace = 0.25)"
      ],
      "outputs": [],
      "execution_count": null,
      "metadata": {
        "collapsed": true,
        "jupyter": {
          "source_hidden": false,
          "outputs_hidden": false
        },
        "nteract": {
          "transient": {
            "deleting": false
          }
        }
      }
    },
    {
      "cell_type": "markdown",
      "source": [
        "**2020-09-15 Results Discussion**\n",
        "\n",
        "For `n_clusters = 2`, k-means splits the data essentially along\n",
        "horizontal axis, separating when the gold price change into two halves of\n",
        "when it is positive vs. negative. For `n_clusters = 3`, the data is further\n",
        "dissected along a horizontal line for gold change at approximately 50%.\n",
        "A similar trend occurs for `n_clusters = 4` with a further horizontal\n",
        "bisection. In summary, it is not obvious that horizontal clustering provides\n",
        "any insight into the gold vs. inflation relationship."
      ],
      "metadata": {
        "nteract": {
          "transient": {
            "deleting": false
          }
        }
      }
    },
    {
      "cell_type": "markdown",
      "source": [
        "### 4.3 OPTICS and DBSCAN"
      ],
      "metadata": {
        "nteract": {
          "transient": {
            "deleting": false
          }
        }
      }
    },
    {
      "cell_type": "code",
      "source": [
        "# Define the fit parameters to use\n",
        "clust = OPTICS(min_samples=20, xi=0.01, min_cluster_size=0.01)\n",
        "# Run the fit\n",
        "_ = clust.fit(inau_relppc_y)\n",
        "space = np.arange(len(inau_relppc_y))\n",
        "reachability = clust.reachability_[clust.ordering_]\n",
        "labels = clust.labels_[clust.ordering_]"
      ],
      "outputs": [],
      "execution_count": null,
      "metadata": {
        "collapsed": true,
        "jupyter": {
          "source_hidden": false,
          "outputs_hidden": false
        },
        "nteract": {
          "transient": {
            "deleting": false
          }
        }
      }
    },
    {
      "cell_type": "code",
      "source": [
        "# Define the labels\n",
        "eps = [0.1, 0.5, 1.0, 1.5, 2.0]\n",
        "epslabels = []\n",
        "for e in eps:\n",
        "    _ = epslabels.append(cluster_optics_dbscan(reachability=clust.reachability_,\n",
        "                                               core_distances=clust.core_distances_,\n",
        "                                               ordering=clust.ordering_,\n",
        "                                               eps=e));"
      ],
      "outputs": [],
      "execution_count": null,
      "metadata": {
        "collapsed": true,
        "jupyter": {
          "source_hidden": false,
          "outputs_hidden": false
        },
        "nteract": {
          "transient": {
            "deleting": false
          }
        }
      }
    },
    {
      "cell_type": "code",
      "source": [
        "# Set up the figure for the reachability plot\n",
        "colours = sns.color_palette('muted')\n",
        "fig, ax = plt.subplots(figsize=(12, 8))\n",
        "# Reachability plot\n",
        "for klass, colour in zip(range(0, 10), colours):\n",
        "    Xk = space[labels == klass]\n",
        "    Rk = reachability[labels == klass]\n",
        "    _ = ax.plot(Xk, Rk, ls='-', marker='.', color=colour, alpha=1)\n",
        "_ = ax.plot(space[labels == -1], reachability[labels == -1], ls='', marker='.', color='k', alpha=0.2)\n",
        "_ = ax.plot(space, np.full_like(space, 0.5, dtype=float), ls='-.', marker='', color='k', alpha=0.5)\n",
        "_ = ax.plot(space, np.full_like(space, 1.0, dtype=float), ls='-', marker='', color='k', alpha=0.5)\n",
        "_ = ax.plot(space, np.full_like(space, 2.0, dtype=float), ls='--', marker='', color='k', alpha=0.5)\n",
        "_ = ax.set_ylim(0, 3)\n",
        "_ = ax.set_ylabel('Reachability (epsilon distance)')\n",
        "_ = ax.set_title('Reachability Plot')"
      ],
      "outputs": [],
      "execution_count": null,
      "metadata": {
        "collapsed": true,
        "jupyter": {
          "source_hidden": false,
          "outputs_hidden": false
        },
        "nteract": {
          "transient": {
            "deleting": false
          }
        }
      }
    },
    {
      "cell_type": "markdown",
      "source": [
        "**2020-09-24 Results Discussion**\n",
        "\n",
        "So with `OPTICS(min_samples=20, xi=0.01, min_cluster_size=0.01)` it appears\n",
        "that an `epsilon=1.5` may yield good results. Increasing `min_samples`\n",
        "increases epsilon (roughly the distance to other points within the same\n",
        "cluster) which broadens the criteria too far in my opinion. To reduce\n",
        "epsilon we can reduce the sample size. However, I think that reducing the\n",
        "sample size below approx. 20 reduces it too far loosing any relevance.\n",
        "\n",
        "Looking at different values for `xi=0.01, min_cluster_size=0.01` alter the\n",
        "location and cutoff for the reachability clusters (correct terminology?).\n",
        "Values of `0.01` seem to be the best compromise for this dataset.\n",
        "\n",
        "**For reference from the Wikipedia pages on [DBSCAN](https://en.wikipedia.org/wiki/DBSCAN)\n",
        "and  [OPTICS](https://en.wikipedia.org/wiki/OPTICS_algorithm)**\n",
        "\n",
        "Good values of ε are where this plot shows an elbow; if epsilon is chosen\n",
        "much too small, a large part of the data will not be clustered; whereas for a\n",
        "too high value of epsilon, clusters will merge and the majority of objects\n",
        "will be in the same cluster. In general, small values of epsilon are\n",
        "preferable,and as a rule of thumb only a small fraction of points should be\n",
        "within this distance of each other.\n",
        "\n",
        "As a general rule for `min_samples` estimation, more points are generally\n",
        "required for noisy data and for data that contains many duplicates (as a rule\n",
        "of thumb, `min_samples` can be derived from the number of dimensions in the\n",
        "data set). As we've seen in earlier analysis, and as expected for typical\n",
        "financial trading data, there is a lot of noise in this dataset, hence\n",
        "`min_samples` should be large.\n",
        "\n",
        "Note, that there are different algorithms that try to detect the valleys by\n",
        "steepness, knee detection, or local maxima."
      ],
      "metadata": {
        "nteract": {
          "transient": {
            "deleting": false
          }
        }
      }
    },
    {
      "cell_type": "code",
      "source": [
        "# Set up the figure for the subplots\n",
        "\n",
        "ncols = 2\n",
        "nrows = math.ceil((len(eps) + 1)/ ncols)\n",
        "fit = plt.figure(figsize=(13, 16))\n",
        "# Run through each combination of the fit parameters\n",
        "for axi in range(1, len(eps) + 2):\n",
        "    ax = plt.subplot(nrows, ncols, axi)\n",
        "    # Create and display the plot using OPTICS\n",
        "    if axi == 1:\n",
        "        for klass, colour in zip(range(0, 5), colours):\n",
        "            inau_relppc_y_k = inau_relppc_y[clust.labels_ == klass]\n",
        "            fcg = ax.plot(inau_relppc_y_k[:, 0], inau_relppc_y_k[:, 1], color=colour,\n",
        "                         marker='o', ls='', alpha=0.3);\n",
        "        fcg = ax.plot(inau_relppc_y[clust.labels_ == -1, 0],\n",
        "                 inau_relppc_y[clust.labels_ == -1, 1], 'k+', alpha=0.1);\n",
        "        title = ax.set_title('Automatic Clustering: OPTICS')\n",
        "    # Create and display the plot using DBSCAN at eps\n",
        "    else:\n",
        "        epslabel = epslabels[axi - 2]\n",
        "        for klass, colour in zip(range(0, 4), colours):\n",
        "            inau_relppc_y_k = inau_relppc_y[epslabel == klass]\n",
        "            fcg = ax.plot(inau_relppc_y_k[:, 0], inau_relppc_y_k[:, 1], color=colour,\n",
        "                           marker='o', ls='', alpha=0.3)\n",
        "        fcg = ax.plot(inau_relppc_y[epslabel == -1, 0],\n",
        "                       inau_relppc_y[epslabel == -1, 1], 'k+', alpha=0.1);\n",
        "        title = 'Clustering at {0:.2f} epsilon cut: DBSCAN'.format(eps[axi - 2])\n",
        "        fcg = ax.set_title(title)\n",
        "    # Labels on second last figure...assuming even number of figures\n",
        "    if axi - 2 == len(epslabels) - 2:\n",
        "        _ = ax.set_xlabel(in_cln)\n",
        "        _ = ax.set_ylabel(inau_y_val_cln)\n",
        "        _ = yt.frmt_xaxislbls(ax, fmt='{:.1%}', fmt0='{:.1%}', tickscle=0.01, tickscle0=0.01)\n",
        "        _ = yt.frmt_yaxislbls(ax, fmt='{:.0%}', fmt0='{:.0%}', tickscle=0.01, tickscle0=0.01)\n",
        "# Provide some more white space to allow the plots to breathe\n",
        "plt.subplots_adjust(wspace = 0.1);\n",
        "plt.subplots_adjust(hspace = 0.25);"
      ],
      "outputs": [],
      "execution_count": null,
      "metadata": {
        "collapsed": true,
        "jupyter": {
          "source_hidden": false,
          "outputs_hidden": false
        },
        "nteract": {
          "transient": {
            "deleting": false
          }
        }
      }
    },
    {
      "cell_type": "markdown",
      "source": [
        "**2020-09-24 Results Discussion**\n",
        "\n",
        "The `DBSCAN` seems to slign with `OPTICS` at for an epsilon of approx. 1.5.\n",
        "\n",
        "More broadly the methods appear to split the data horizontally similar to\n",
        "the EM and K-Means methods."
      ],
      "metadata": {
        "nteract": {
          "transient": {
            "deleting": false
          }
        }
      }
    },
    {
      "cell_type": "markdown",
      "source": [
        "### 4.4 Mean-Shift (MS)"
      ],
      "metadata": {
        "nteract": {
          "transient": {
            "deleting": false
          }
        }
      }
    },
    {
      "cell_type": "code",
      "source": [
        "# Define the quantiles to use\n",
        "quants = [0.1, 0.15, 0.2, 0.25, 0.3, 0.4]"
      ],
      "outputs": [],
      "execution_count": null,
      "metadata": {
        "collapsed": true,
        "jupyter": {
          "source_hidden": false,
          "outputs_hidden": false
        },
        "nteract": {
          "transient": {
            "deleting": false
          }
        }
      }
    },
    {
      "cell_type": "code",
      "source": [
        "# Set up the figure for the subplots\n",
        "colours = sns.color_palette('muted')\n",
        "ncols = 2\n",
        "nrows = math.ceil((len(quants) + 1)/ ncols)\n",
        "fig = plt.figure(figsize=(13, 20))\n",
        "# Run through each combination of the fit parameters\n",
        "for axi in range(1, len(quants) + 1):\n",
        "    ax = plt.subplot(nrows, ncols, axi)\n",
        "    quant = quants[axi - 1]\n",
        "    # Calculate the MS\n",
        "    bandwidth = estimate_bandwidth(inau_relppc_y, quantile=quant);\n",
        "    apc_ms = MeanShift(bandwidth=bandwidth, bin_seeding=True);\n",
        "    _ = apc_ms.fit(inau_relppc_y);\n",
        "    lbls = apc_ms.labels_;\n",
        "    cluster_centers = apc_ms.cluster_centers_;\n",
        "    lbls_unique = np.unique(lbls);\n",
        "    n_clusters_ = len(lbls_unique);\n",
        "    # Plot result\n",
        "    for k, colour in zip(range(n_clusters_), colours):\n",
        "        my_members = lbls == k;\n",
        "        cluster_center = cluster_centers[k];\n",
        "        _ = ax.plot(inau_relppc_y[my_members, 0],\n",
        "                       inau_relppc_y[my_members, 1],\n",
        "                       color=colour, marker='o', ls='', alpha=0.3)\n",
        "        _ = ax.plot(cluster_center[0], cluster_center[1], 'o',\n",
        "                       markerfacecolor=colour, markeredgecolor='k', markersize=14)\n",
        "    _ = ax.set_title('Quant of {} :: Est. clusters: {}'.format(quant, n_clusters_))\n",
        "    if quant == quants[-2]:\n",
        "        _ = ax.set_xlabel(in_cln)\n",
        "        _ = ax.set_ylabel(inau_y_val_cln)\n",
        "        _ = yt.frmt_xaxislbls(ax, fmt='{:.1%}', fmt0='{:.1%}', tickscle=0.01, tickscle0=0.01)\n",
        "        _ = yt.frmt_yaxislbls(ax, fmt='{:.0%}', fmt0='{:.0%}', tickscle=0.01, tickscle0=0.01)"
      ],
      "outputs": [],
      "execution_count": null,
      "metadata": {
        "collapsed": true,
        "jupyter": {
          "source_hidden": false,
          "outputs_hidden": false
        },
        "nteract": {
          "transient": {
            "deleting": false
          }
        }
      }
    },
    {
      "cell_type": "code",
      "source": [
        "# Provide some more white space to allow the plots to breathe\n",
        "plt.subplots_adjust(wspace = 0.1);\n",
        "plt.subplots_adjust(hspace = 0.25);"
      ],
      "outputs": [],
      "execution_count": null,
      "metadata": {
        "collapsed": true,
        "jupyter": {
          "source_hidden": false,
          "outputs_hidden": false
        },
        "nteract": {
          "transient": {
            "deleting": false
          }
        }
      }
    },
    {
      "cell_type": "markdown",
      "source": [
        "2020-09-15: And so the same story continues, clustering appears as horizontal\n",
        "bisections"
      ],
      "metadata": {
        "nteract": {
          "transient": {
            "deleting": false
          }
        }
      }
    },
    {
      "cell_type": "markdown",
      "source": [
        "## Appendices\n",
        "### A.1 Inflation vs. nominal gold prices, monthly, polynomial order = 1"
      ],
      "metadata": {
        "nteract": {
          "transient": {
            "deleting": false
          }
        }
      }
    },
    {
      "cell_type": "code",
      "source": [
        "# Pivot the dataframe from it's current melted shape\n",
        "dtinau_nomppc_m = dtinau_nomppc_m.pivot_table(values=inau_m_val_cln,\n",
        "                                              index=dtinau_nomppc_m.index,\n",
        "                                              columns=inau_var_cln)"
      ],
      "outputs": [],
      "execution_count": null,
      "metadata": {
        "collapsed": true,
        "jupyter": {
          "source_hidden": false,
          "outputs_hidden": false
        },
        "nteract": {
          "transient": {
            "deleting": false
          }
        }
      }
    },
    {
      "cell_type": "code",
      "source": [
        "yt.dispmodel(dtinau_nomppc_m, degree=1)"
      ],
      "outputs": [],
      "execution_count": null,
      "metadata": {
        "collapsed": true,
        "jupyter": {
          "source_hidden": false,
          "outputs_hidden": false
        },
        "nteract": {
          "transient": {
            "deleting": false
          }
        }
      }
    },
    {
      "cell_type": "markdown",
      "source": [
        "### A.2 Inflation vs. real gold prices, monthly, polynomial order = 1"
      ],
      "metadata": {
        "nteract": {
          "transient": {
            "deleting": false
          }
        }
      }
    },
    {
      "cell_type": "code",
      "source": [
        "# Pivot the dataframe from it's current melted shape\n",
        "dtinau_relppc_m = dtinau_relppc_m.pivot_table(values=inau_m_val_cln,\n",
        "                                              index=dtinau_relppc_m.index,\n",
        "                                              columns=inau_var_cln)"
      ],
      "outputs": [],
      "execution_count": null,
      "metadata": {
        "collapsed": true,
        "jupyter": {
          "source_hidden": false,
          "outputs_hidden": false
        },
        "nteract": {
          "transient": {
            "deleting": false
          }
        }
      }
    },
    {
      "cell_type": "code",
      "source": [
        "yt.dispmodel(dtinau_relppc_m)"
      ],
      "outputs": [],
      "execution_count": null,
      "metadata": {
        "collapsed": true,
        "jupyter": {
          "source_hidden": false,
          "outputs_hidden": false
        },
        "nteract": {
          "transient": {
            "deleting": false
          }
        }
      }
    },
    {
      "cell_type": "markdown",
      "source": [
        "### A.3 Inflation vs. real gold prices, yearly, polynomial order = 1"
      ],
      "metadata": {
        "nteract": {
          "transient": {
            "deleting": false
          }
        }
      }
    },
    {
      "cell_type": "code",
      "source": [
        "yt.dispmodel(dtinau_relppc_y, degree=1)"
      ],
      "outputs": [],
      "execution_count": null,
      "metadata": {
        "collapsed": true,
        "jupyter": {
          "source_hidden": false,
          "outputs_hidden": false
        },
        "nteract": {
          "transient": {
            "deleting": false
          }
        }
      }
    },
    {
      "cell_type": "markdown",
      "source": [
        "### A.4 Inflation vs. real gold prices, yearly, polynomial order = 2"
      ],
      "metadata": {
        "nteract": {
          "transient": {
            "deleting": false
          }
        }
      }
    },
    {
      "cell_type": "code",
      "source": [
        "yt.dispmodel(dtinau_relppc_y, degree=2)"
      ],
      "outputs": [],
      "execution_count": null,
      "metadata": {
        "collapsed": true,
        "jupyter": {
          "source_hidden": false,
          "outputs_hidden": false
        },
        "nteract": {
          "transient": {
            "deleting": false
          }
        }
      }
    },
    {
      "cell_type": "markdown",
      "source": [
        "### A.5 Inflation vs. real gold prices, yearly, polynomial order = 3"
      ],
      "metadata": {
        "nteract": {
          "transient": {
            "deleting": false
          }
        }
      }
    },
    {
      "cell_type": "code",
      "source": [
        "yt.dispmodel(dtinau_relppc_y, degree=3)"
      ],
      "outputs": [],
      "execution_count": null,
      "metadata": {
        "collapsed": true,
        "jupyter": {
          "source_hidden": false,
          "outputs_hidden": false
        },
        "nteract": {
          "transient": {
            "deleting": false
          }
        }
      }
    },
    {
      "cell_type": "markdown",
      "source": [
        "### A.6 Inflation vs. real gold prices, yearly, polynomial order = 4"
      ],
      "metadata": {
        "nteract": {
          "transient": {
            "deleting": false
          }
        }
      }
    },
    {
      "cell_type": "code",
      "source": [
        "yt.dispmodel(dtinau_relppc_y, degree=4)"
      ],
      "outputs": [],
      "execution_count": null,
      "metadata": {
        "collapsed": true,
        "jupyter": {
          "source_hidden": false,
          "outputs_hidden": false
        },
        "nteract": {
          "transient": {
            "deleting": false
          }
        }
      }
    },
    {
      "cell_type": "markdown",
      "source": [
        "### A.7 Inflation vs. real gold prices, yearly, polynomial order = 5"
      ],
      "metadata": {
        "nteract": {
          "transient": {
            "deleting": false
          }
        }
      }
    },
    {
      "cell_type": "code",
      "source": [
        "yt.dispmodel(dtinau_relppc_y, degree=5)"
      ],
      "outputs": [],
      "execution_count": null,
      "metadata": {
        "collapsed": true,
        "jupyter": {
          "source_hidden": false,
          "outputs_hidden": false
        },
        "nteract": {
          "transient": {
            "deleting": false
          }
        }
      }
    },
    {
      "cell_type": "markdown",
      "source": [
        "### End Of File"
      ],
      "metadata": {
        "nteract": {
          "transient": {
            "deleting": false
          }
        }
      }
    }
  ],
  "metadata": {
    "kernelspec": {
      "argv": [
        "C:\\Users\\Tom\\AppData\\Local\\Programs\\Python\\Python38-32\\python.exe",
        "-m",
        "ipykernel_launcher",
        "-f",
        "{connection_file}"
      ],
      "display_name": "Python 3",
      "language": "python",
      "name": "python3"
    }
  },
  "nbformat": 4,
  "nbformat_minor": 0
}