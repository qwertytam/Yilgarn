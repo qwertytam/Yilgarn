{
  "cells": [
    {
      "cell_type": "markdown",
      "source": [
        "# Gold and USD inflation\n",
        "Using monthly data we will explore the relationship between gold prices and\n",
        "inflation.\n",
        "\n",
        "### Inspirations\n",
        "- [The FRED® Blog: Is gold a good hedge against inflation?]\n",
        "(https://fredblog.stlouisfed.org/2019/03/is-gold-a-good-hedge-against-inflation/)\n",
        "\n",
        "### Definitions\n",
        "- Gold: The ICE Benchmark Administration Limited (IBA), Gold Fixing Price in\n",
        "the London Bullion Market, based in U.S. Dollars, retrieved from FRED,\n",
        "Federal Reserve Bank of St. Louis\n",
        "- CPI inflation: Consumer Price Index, seasonally adjusted monthly since 1947,\n",
        ", retrieved from FRED, Federal Reserve Bank of St. Louis\n",
        "- PCE inflation: Personal Consumption Expenditure, seasonally adjusted monthly\n",
        "since 1959, retrieved from FRED, Federal Reserve Bank of St. Louis\n",
        "- SYN inflation: Synthetic Inflation, normalized and averaged over CPI,\n",
        "CPI Core, PCE and PCE Core inflation measures, retrieved from FRED, Federal\n",
        "Reserve Bank of St. Louis\n",
        "\n",
        "### Dependencies:\n",
        "- Python: datetime, fecon236, matplotlib, numpy, pandas, pandas_datareader,\n",
        "sklearn, statsmodels, sympy, seaborn\n",
        "- Written using Python 3.8.5, Atom 1.51, Hydrogen 2.14.4\n",
        "\n",
        "### General To Do List:\n",
        "- Understand cluster analysis in greater detail\n",
        "- Review peer work"
      ],
      "metadata": {
        "nteract": {
          "transient": {
            "deleting": false
          }
        }
      }
    },
    {
      "cell_type": "markdown",
      "source": [
        "## 0. Preamble: Code Setup and Function Definitions"
      ],
      "metadata": {
        "nteract": {
          "transient": {
            "deleting": false
          }
        }
      }
    },
    {
      "cell_type": "markdown",
      "source": [
        "### Check if required modules are installed in the kernel; and if not install them"
      ],
      "metadata": {
        "nteract": {
          "transient": {
            "deleting": false
          }
        }
      }
    },
    {
      "cell_type": "code",
      "source": [
        "import sys\n",
        "import subprocess\n",
        "import pkg_resources\n",
        "required = {'datetime', 'fecon236', 'matplotlib', 'numpy', 'pandas',\n",
        "            'pandas_datareader', 'sklearn', 'statsmodels', 'sympy', 'seaborn'}\n",
        "installed = {pkg.key for pkg in pkg_resources.working_set}\n",
        "missing = required - installed\n",
        "if missing:\n",
        "    python = sys.executable\n",
        "    subprocess.check_call([python, '-m', 'pip', 'install', *missing],\n",
        "                           stdout=subprocess.DEVNULL)"
      ],
      "outputs": [],
      "execution_count": null,
      "metadata": {
        "collapsed": true,
        "jupyter": {
          "source_hidden": false,
          "outputs_hidden": false
        },
        "nteract": {
          "transient": {
            "deleting": false
          }
        }
      }
    },
    {
      "cell_type": "code",
      "source": [
        "# fecon236 is a useful econometrics python module for access and using U.S.\n",
        "# Federal Reserve and related data\n",
        "import fecon236 as fe\n",
        "fe.system.specs()\n",
        "#  If a module is modified, automatically reload it:\n",
        "%load_ext autoreload\n",
        "%autoreload 2   # Use 0 to disable this feature."
      ],
      "outputs": [],
      "execution_count": null,
      "metadata": {
        "collapsed": true,
        "jupyter": {
          "source_hidden": false,
          "outputs_hidden": false
        },
        "nteract": {
          "transient": {
            "deleting": false
          }
        }
      }
    },
    {
      "cell_type": "markdown",
      "source": [
        "### Import useful modules for data wrangling"
      ],
      "metadata": {
        "nteract": {
          "transient": {
            "deleting": false
          }
        }
      }
    },
    {
      "cell_type": "code",
      "source": [
        "import numpy as np\n",
        "import math\n",
        "import datetime as dt"
      ],
      "outputs": [],
      "execution_count": null,
      "metadata": {
        "collapsed": true,
        "jupyter": {
          "source_hidden": false,
          "outputs_hidden": false
        },
        "nteract": {
          "transient": {
            "deleting": false
          }
        }
      }
    },
    {
      "cell_type": "code",
      "source": [
        "# Will use sklearn and statsmodels for model development and testing\n",
        "from sklearn import mixture\n",
        "from sklearn.cluster import OPTICS, cluster_optics_dbscan\n",
        "# from sklearn.preprocessing import PolynomialFeatures\n",
        "from sklearn.cluster import MeanShift, estimate_bandwidth, MiniBatchKMeans, KMeans\n",
        "from sklearn.metrics.pairwise import pairwise_distances_argmin\n",
        "# from sklearn.datasets import make_blobs\n",
        "import statsmodels.api as sm"
      ],
      "outputs": [],
      "execution_count": null,
      "metadata": {
        "collapsed": true,
        "jupyter": {
          "source_hidden": false,
          "outputs_hidden": false
        },
        "nteract": {
          "transient": {
            "deleting": false
          }
        }
      }
    },
    {
      "cell_type": "code",
      "source": [
        "# Notebook display and formatting options\n",
        "# Represent pandas DataFrames as text; not HTML representation:\n",
        "import pandas as pd\n",
        "pd.set_option('display.notebook_repr_html', False)\n",
        "# Alter Jupyter option for the pretty display of variables\n",
        "from IPython.core.interactiveshell import InteractiveShell\n",
        "InteractiveShell.ast_node_interactivity = \"all\"\n",
        "# Import matplotlib and seaborn for plotting\n",
        "from matplotlib import pyplot as plt\n",
        "from matplotlib.colors import LogNorm   ### CAN WE GET RID OF THIS WITH SEABORN\n",
        "#  Generate plots inside notebook, \"inline\" generates static png\n",
        "%matplotlib inline\n",
        "# Use seaborn for to make matplotlib pretty and set the default theme styles\n",
        "import seaborn as sns\n",
        "sns.set_theme()\n",
        "sns.set_style(\"whitegrid\")"
      ],
      "outputs": [],
      "execution_count": null,
      "metadata": {
        "collapsed": true,
        "jupyter": {
          "source_hidden": false,
          "outputs_hidden": false
        },
        "nteract": {
          "transient": {
            "deleting": false
          }
        }
      }
    },
    {
      "cell_type": "code",
      "source": [
        "# Custom module containing a series of helper functions for processing\n",
        "# and displaying the data\n",
        "import sys\n",
        "sys.path.append('../lib/')  # Append module directory so Jupyter can find it\n",
        "import tools as yt"
      ],
      "outputs": [],
      "execution_count": null,
      "metadata": {
        "collapsed": true,
        "jupyter": {
          "source_hidden": false,
          "outputs_hidden": false
        },
        "nteract": {
          "transient": {
            "deleting": false
          }
        }
      }
    },
    {
      "cell_type": "code",
      "source": [
        "# ### Variable Naming Schema:\n",
        "# {series}_{type}_{period, optional}_{descriptor, optional}\n",
        "# {series}\n",
        "# dt    datetime\n",
        "# in    inflation\n",
        "# au    gold\n",
        "#\n",
        "# {type}\n",
        "# idx   an index\n",
        "# nom   nominal prices in USD\n",
        "# rel   real (inflation adjusted) prices in USD\n",
        "# lvl   levels e.g. prices, index values\n",
        "# ppc   period on period percentage change\n",
        "# fcd   fe module FRED codes\n",
        "#\n",
        "# {period}\n",
        "# m     monthly\n",
        "# y     yearly\n",
        "#\n",
        "# {descriptor}\n",
        "# cln   column name\n",
        "# var   variable identification"
      ],
      "outputs": [],
      "execution_count": null,
      "metadata": {
        "collapsed": true,
        "jupyter": {
          "source_hidden": false,
          "outputs_hidden": false
        },
        "nteract": {
          "transient": {
            "deleting": false
          }
        }
      }
    },
    {
      "cell_type": "markdown",
      "source": [
        "## 1. Retrieve Data, Calculate Monthly & Annual Data for Nominal & Real Gold Prices"
      ],
      "metadata": {
        "nteract": {
          "transient": {
            "deleting": false
          }
        }
      }
    },
    {
      "cell_type": "markdown",
      "source": [
        "**Get gold and inflation rates, both as monthly frequency**"
      ],
      "metadata": {
        "nteract": {
          "transient": {
            "deleting": false
          }
        }
      }
    },
    {
      "cell_type": "code",
      "source": [
        "# Notes: fecon236 uses median to resample (instead of say mean) and also\n",
        "# replaces FRED empty data (marked with a \".\") with data from previously\n",
        "# occurring period; These adjustments will drive some small differences to\n",
        "# the analysis on the FRED blog"
      ],
      "outputs": [],
      "execution_count": null,
      "metadata": {
        "collapsed": true,
        "jupyter": {
          "source_hidden": false,
          "outputs_hidden": false
        },
        "nteract": {
          "transient": {
            "deleting": false
          }
        }
      }
    },
    {
      "cell_type": "code",
      "source": [
        "# Daily London AM gold fix, nominal USD, converted to monthly\n",
        "dtau_nom_m = fe.monthly(fe.get('GOLDAMGBD228NLBM'))\n",
        "# Daily London PM gold fix, nominal USD, converted to monthly\n",
        "# au_nom_m = fe.get(fe.m4xau)"
      ],
      "outputs": [],
      "execution_count": null,
      "metadata": {
        "collapsed": true,
        "jupyter": {
          "source_hidden": false,
          "outputs_hidden": false
        },
        "nteract": {
          "transient": {
            "deleting": false
          }
        }
      }
    },
    {
      "cell_type": "code",
      "source": [
        "# Inflation in use\n",
        "in_fcd = fe.m4cpi      # FRED code 'CPIAUCSL'\n",
        "# in_fcd = fe.m4pce    # FRED code 'PCEPI'\n",
        "# Synthetic average of 'CPIAUCSL', 'CPILFESL', 'PCEPI', 'CPILFESL'\n",
        "# in_fcd = fe.m4infl\n",
        "dtin_idx_m = fe.get (fe.m4cpi)        # Returns the index, not percentage change"
      ],
      "outputs": [],
      "execution_count": null,
      "metadata": {
        "collapsed": true,
        "jupyter": {
          "source_hidden": false,
          "outputs_hidden": false
        },
        "nteract": {
          "transient": {
            "deleting": false
          }
        }
      }
    },
    {
      "cell_type": "code",
      "source": [
        "# Gold with USD inflation removed i.e. in real USD\n",
        "# First, calculate rebased inflation index\n",
        "in_basedate = '2020-08-01'              # The base date for our index\n",
        "in_base = dtin_idx_m['Y'][in_basedate]\n",
        "dtin_idx_rebased = fe.div(dtin_idx_m, in_base)"
      ],
      "outputs": [],
      "execution_count": null,
      "metadata": {
        "collapsed": true,
        "jupyter": {
          "source_hidden": false,
          "outputs_hidden": false
        },
        "nteract": {
          "transient": {
            "deleting": false
          }
        }
      }
    },
    {
      "cell_type": "code",
      "source": [
        "# Find the first and last overlapping dates for the two data series where\n",
        "# we are using values\n",
        "dt_stp_lvl_m = max(fe.head(dtau_nom_m, 1).index[0],\n",
        "                   fe.head(dtin_idx_m, 1).index[0])\n",
        "dt_edp_lvl_m = min(fe.tail(dtau_nom_m, 1).index[0],\n",
        "                   fe.tail(dtin_idx_m, 1).index[0])"
      ],
      "outputs": [],
      "execution_count": null,
      "metadata": {
        "collapsed": true,
        "jupyter": {
          "source_hidden": false,
          "outputs_hidden": false
        },
        "nteract": {
          "transient": {
            "deleting": false
          }
        }
      }
    },
    {
      "cell_type": "code",
      "source": [
        "# Calculate the real gold price\n",
        "dtau_rel_m = fe.div(dtau_nom_m.loc[dt_stp_lvl_m:dt_edp_lvl_m],\n",
        "                    dtin_idx_rebased.loc[dt_stp_lvl_m:dt_edp_lvl_m])"
      ],
      "outputs": [],
      "execution_count": null,
      "metadata": {
        "collapsed": true,
        "jupyter": {
          "source_hidden": false,
          "outputs_hidden": false
        },
        "nteract": {
          "transient": {
            "deleting": false
          }
        }
      }
    },
    {
      "cell_type": "markdown",
      "source": [
        "**Determine period on period percentage changes**"
      ],
      "metadata": {
        "nteract": {
          "transient": {
            "deleting": false
          }
        }
      }
    },
    {
      "cell_type": "code",
      "source": [
        "# Percentage calculation for month on month i.e. frequency = 1\n",
        "freq = 1\n",
        "dtin_ppc_m = fe.nona(fe.pcent(dtin_idx_m, freq))\n",
        "dtau_nomppc_m = fe.nona(fe.pcent(dtau_nom_m, freq))\n",
        "dtau_relppc_m = fe.nona(fe.pcent(dtau_rel_m, freq))"
      ],
      "outputs": [],
      "execution_count": null,
      "metadata": {
        "collapsed": true,
        "jupyter": {
          "source_hidden": false,
          "outputs_hidden": false
        },
        "nteract": {
          "transient": {
            "deleting": false
          }
        }
      }
    },
    {
      "cell_type": "code",
      "source": [
        "# Find the first and last overlapping dates the monthly change data\n",
        "dt_stp_ppc_m = max(fe.head(dtau_relppc_m, 1).index[0],\n",
        "                   fe.head(dtin_ppc_m, 1).index[0])\n",
        "dt_edp_ppc_m = min(fe.tail(dtau_relppc_m, 1).index[0],\n",
        "                   fe.tail(dtin_ppc_m, 1).index[0])"
      ],
      "outputs": [],
      "execution_count": null,
      "metadata": {
        "collapsed": true,
        "jupyter": {
          "source_hidden": false,
          "outputs_hidden": false
        },
        "nteract": {
          "transient": {
            "deleting": false
          }
        }
      }
    },
    {
      "cell_type": "code",
      "source": [
        "# Change percentage calculation to every 12 months for year on year changes\n",
        "freq = 12\n",
        "dtau_relppc_y = fe.nona(fe.pcent(dtau_rel_m, freq))\n",
        "dtin_ppc_y = fe.nona(fe.pcent(dtin_idx_m, freq))"
      ],
      "outputs": [],
      "execution_count": null,
      "metadata": {
        "collapsed": true,
        "jupyter": {
          "source_hidden": false,
          "outputs_hidden": false
        },
        "nteract": {
          "transient": {
            "deleting": false
          }
        }
      }
    },
    {
      "cell_type": "code",
      "source": [
        "# Find the first and last overlapping dates the yearly change data\n",
        "dt_stp_ppc_y = max(fe.head(dtau_relppc_y, 1).index[0],\n",
        "                   fe.head(dtin_ppc_y, 1).index[0])\n",
        "dt_edp_ppc_y = min(fe.tail(dtau_relppc_y, 1).index[0],\n",
        "                   fe.tail(dtin_ppc_y, 1).index[0])"
      ],
      "outputs": [],
      "execution_count": null,
      "metadata": {
        "collapsed": true,
        "jupyter": {
          "source_hidden": false,
          "outputs_hidden": false
        },
        "nteract": {
          "transient": {
            "deleting": false
          }
        }
      }
    },
    {
      "cell_type": "code",
      "source": [
        "# Combine inflation monthly inflation with nominal gold price data\n",
        "dtinau_nomppc_m = pd.concat([dtin_ppc_m[dt_stp_ppc_m:dt_edp_ppc_m],\n",
        "                             dtau_nomppc_m[dt_stp_ppc_m:dt_edp_ppc_m]], axis=1)\n",
        "inau_nomppc_m_cln = 'Inflation'\n",
        "au_nomppc_m_cln = 'MoM Nom. USD % Change'\n",
        "dtinau_nomppc_m.columns = [inau_nomppc_m_cln, au_nomppc_m_cln]"
      ],
      "outputs": [],
      "execution_count": null,
      "metadata": {
        "collapsed": true,
        "jupyter": {
          "source_hidden": false,
          "outputs_hidden": false
        },
        "nteract": {
          "transient": {
            "deleting": false
          }
        }
      }
    },
    {
      "cell_type": "code",
      "source": [
        "# Combine inflation monthly inflation with real gold price data\n",
        "dtinau_relppc_m = pd.concat([dtin_ppc_m[dt_stp_ppc_m:dt_edp_ppc_m],\n",
        "                             dtau_relppc_m[dt_stp_ppc_m:dt_edp_ppc_m]], axis=1)\n",
        "au_relppc_m_cln = 'MoM Real USD % Change'\n",
        "dtinau_relppc_m.columns = [inau_nomppc_m_cln, au_relppc_m_cln]"
      ],
      "outputs": [],
      "execution_count": null,
      "metadata": {
        "collapsed": true,
        "jupyter": {
          "source_hidden": false,
          "outputs_hidden": false
        },
        "nteract": {
          "transient": {
            "deleting": false
          }
        }
      }
    },
    {
      "cell_type": "code",
      "source": [
        "# Join and melt the data together for use later by the plotting functions\n",
        "dtinau_nomrelppc_m = dtinau_nomppc_m.join(dtinau_relppc_m.loc[:, dtinau_relppc_m.columns != inau_nomppc_m_cln],\n",
        "                                          how='inner', sort=True)\n",
        "dtinau_nomppc_m = pd.melt(dtinau_nomrelppc_m, ignore_index=False,\n",
        "                          value_vars=[inau_nomppc_m_cln, au_nomppc_m_cln])\n",
        "dtinau_relppc_m = pd.melt(dtinau_nomrelppc_m, ignore_index=False,\n",
        "                          value_vars=[inau_nomppc_m_cln, au_relppc_m_cln])\n",
        "inau_nomrelppc_m = pd.melt(dtinau_nomrelppc_m, id_vars=inau_nomppc_m_cln,\n",
        "                           value_vars=[au_nomppc_m_cln, au_relppc_m_cln])"
      ],
      "outputs": [],
      "execution_count": null,
      "metadata": {
        "collapsed": true,
        "jupyter": {
          "source_hidden": false,
          "outputs_hidden": false
        },
        "nteract": {
          "transient": {
            "deleting": false
          }
        }
      }
    },
    {
      "cell_type": "code",
      "source": [
        "# Update column names\n",
        "inau_var_cln = 'Infl or Gold Price'\n",
        "inau_m_val_cln = 'MoM % Change'\n",
        "dtinau_nomppc_m.columns = [inau_var_cln, inau_m_val_cln]\n",
        "dtinau_relppc_m.columns = [inau_var_cln, inau_m_val_cln]\n",
        "\n",
        "au_var = 'Nom. or Real'\n",
        "au_nomrelppc_cln = 'MoM Gold Price % Change'\n",
        "inau_nomrelppc_m.columns = [inau_nomppc_m_cln, au_var, au_nomrelppc_cln]"
      ],
      "outputs": [],
      "execution_count": null,
      "metadata": {
        "collapsed": true,
        "jupyter": {
          "source_hidden": false,
          "outputs_hidden": false
        },
        "nteract": {
          "transient": {
            "deleting": false
          }
        }
      }
    },
    {
      "cell_type": "code",
      "source": [
        "# Shorten the column names and melt data\n",
        "dtinau_nomrelppc_m = pd.melt(dtinau_nomrelppc_m, ignore_index=False,\n",
        "                             id_vars=inau_nomppc_m_cln,\n",
        "                             value_vars=[au_nomppc_m_cln, au_relppc_m_cln])"
      ],
      "outputs": [],
      "execution_count": null,
      "metadata": {
        "collapsed": true,
        "jupyter": {
          "source_hidden": false,
          "outputs_hidden": false
        },
        "nteract": {
          "transient": {
            "deleting": false
          }
        }
      }
    },
    {
      "cell_type": "code",
      "source": [
        "# Combine inflation yearly inflation with real gold price data\n",
        "# Show same analysis as above\n",
        "dtinau_relppc_y = pd.concat([dtin_ppc_y[dt_stp_ppc_y:dt_edp_ppc_y],\n",
        "                             dtau_relppc_y[dt_stp_ppc_y:dt_edp_ppc_y]], axis=1)\n",
        "in_ppc_y_cln = 'Inflation'\n",
        "au_relppc_y_cln = 'YoY Real USD % Change'\n",
        "dtinau_relppc_y.columns = [in_ppc_y_cln, au_relppc_y_cln]\n",
        "dtinau_relppc_y = pd.melt(dtinau_relppc_y, ignore_index=False,\n",
        "                          value_vars=[in_ppc_y_cln, au_relppc_y_cln])\n",
        "inau_y_val_cln = 'YoY % Change'\n",
        "dtinau_relppc_y.columns = [inau_var_cln, inau_y_val_cln]"
      ],
      "outputs": [],
      "execution_count": null,
      "metadata": {
        "collapsed": true,
        "jupyter": {
          "source_hidden": false,
          "outputs_hidden": false
        },
        "nteract": {
          "transient": {
            "deleting": false
          }
        }
      }
    },
    {
      "cell_type": "markdown",
      "source": [
        "## 2. Plot and Review Time Series of Monthly Inflation and Gold Price Levels"
      ],
      "metadata": {
        "nteract": {
          "transient": {
            "deleting": false
          }
        }
      }
    },
    {
      "cell_type": "markdown",
      "source": [
        "### Time series of the inflation index and gold prices in nominal and real terms"
      ],
      "metadata": {
        "nteract": {
          "transient": {
            "deleting": false
          }
        }
      }
    },
    {
      "cell_type": "code",
      "source": [
        "# Create figure and axes\n",
        "fig, (ax0, ax1, ax2) = plt.subplots(ncols=3, figsize=(16, 5));\n",
        "# Plot chart on each axes\n",
        "ax0.plot(dtin_idx_m.index, dtin_idx_m);\n",
        "ax1.plot(dtau_nom_m.index, dtau_nom_m);\n",
        "ax2.plot(dtau_rel_m.index, dtau_rel_m);\n",
        "# Update titles\n",
        "ax0.set_title('Inflation Index');\n",
        "ax1.set_title('Gold Price (Nom. USD)');\n",
        "ax2.set_title('Gold Price (Real USD)');"
      ],
      "outputs": [],
      "execution_count": null,
      "metadata": {
        "collapsed": true,
        "jupyter": {
          "source_hidden": false,
          "outputs_hidden": false
        },
        "nteract": {
          "transient": {
            "deleting": false
          }
        }
      }
    },
    {
      "cell_type": "markdown",
      "source": [
        "**2020-09-22 Results Discussion**\n",
        "\n",
        "1. So we see a gradually increasing inflation index, a gold price in\n",
        "nominal terms that has a spike in ~1980, a second spike in ~2012, and a\n",
        "third spike in 2020; and lastly, looking at the gold price in real\n",
        "inflation adjusted terms, we see the three spikes again, but this time the\n",
        "spikes each roughly have the same maximum value at approx. $2,000\n",
        "(in current USD)\n",
        "\n",
        "2. Taking a step back, one claim for gold is that it acts as a hedge against\n",
        "inflation i.e. as a nominal $100 decreasing in value due to inflation, the\n",
        "the value of a set amount of gold stays the same in real inflation adjusted\n",
        "currency terms. This relationship may hold out over very long time frames\n",
        "(i.e. centuries), but in the shorter term, the obvious volatility in the\n",
        "nominal and real prices indicates that there are many other factors at play\n",
        "in determining the gold price, and holding gold as purely an inflation hedge\n",
        "would be a poor investment decision.\n",
        "\n",
        "*Nonetheless, time to look at some analysis in greater detail to see if\n",
        "there is anything interesting in the data.*"
      ],
      "metadata": {
        "nteract": {
          "transient": {
            "deleting": false
          }
        }
      }
    },
    {
      "cell_type": "markdown",
      "source": [
        "### Time series of the change in the inflation index and gold prices in nominal and real terms"
      ],
      "metadata": {
        "nteract": {
          "transient": {
            "deleting": false
          }
        }
      }
    },
    {
      "cell_type": "markdown",
      "source": [
        "**Monthly nominal gold price data**"
      ],
      "metadata": {
        "nteract": {
          "transient": {
            "deleting": false
          }
        }
      }
    },
    {
      "cell_type": "code",
      "source": [
        "# Set palette for use\n",
        "clrpalette = sns.color_palette(palette='husl', n_colors=2)"
      ],
      "outputs": [],
      "execution_count": null,
      "metadata": {
        "collapsed": true,
        "jupyter": {
          "source_hidden": false,
          "outputs_hidden": false
        },
        "nteract": {
          "transient": {
            "deleting": false
          }
        }
      }
    },
    {
      "cell_type": "code",
      "source": [
        "# Plot and format axis labels\n",
        "fcg = sns.relplot(data=dtinau_nomppc_m, x=dtinau_nomppc_m.index,\n",
        "                  y=inau_m_val_cln, hue=inau_var_cln, alpha=0.5,\n",
        "                  palette=clrpalette, kind='line');\n",
        "yt.frmt_yaxislbls(fcg, fmt='{:.0f}', fmt0='{:.0%}', tickscle=1, tickscle0=0.01)"
      ],
      "outputs": [],
      "execution_count": null,
      "metadata": {
        "collapsed": true,
        "jupyter": {
          "source_hidden": false,
          "outputs_hidden": false
        },
        "nteract": {
          "transient": {
            "deleting": false
          }
        }
      }
    },
    {
      "cell_type": "markdown",
      "source": [
        "**Monthly real gold price data**"
      ],
      "metadata": {
        "nteract": {
          "transient": {
            "deleting": false
          }
        }
      }
    },
    {
      "cell_type": "code",
      "source": [
        "# Plot and format axis labels\n",
        "fcg = sns.relplot(data=dtinau_relppc_m, x=dtinau_relppc_m.index,\n",
        "                  y=inau_m_val_cln, hue=inau_var_cln, alpha=0.5,\n",
        "                  palette=clrpalette, kind='line');\n",
        "yt.frmt_yaxislbls(fcg, fmt='{:.0f}', fmt0='{:.0%}', tickscle=1, tickscle0=0.01)"
      ],
      "outputs": [],
      "execution_count": null,
      "metadata": {
        "collapsed": true,
        "jupyter": {
          "source_hidden": false,
          "outputs_hidden": false
        },
        "nteract": {
          "transient": {
            "deleting": false
          }
        }
      }
    },
    {
      "cell_type": "markdown",
      "source": [
        "**Yearly real gold price data**"
      ],
      "metadata": {
        "nteract": {
          "transient": {
            "deleting": false
          }
        }
      }
    },
    {
      "cell_type": "code",
      "source": [
        "# Plot and format axis labels\n",
        "fcg = sns.relplot(data=dtinau_relppc_y, x=dtinau_relppc_y.index,\n",
        "                  y=inau_y_val_cln, hue=inau_var_cln, alpha=0.5,\n",
        "                  palette=clrpalette, kind='line');\n",
        "yt.frmt_yaxislbls(fcg, fmt='{:.0f}', fmt0='{:.0%}', tickscle=1, tickscle0=0.01)"
      ],
      "outputs": [],
      "execution_count": null,
      "metadata": {
        "collapsed": true,
        "jupyter": {
          "source_hidden": false,
          "outputs_hidden": false
        },
        "nteract": {
          "transient": {
            "deleting": false
          }
        }
      }
    },
    {
      "cell_type": "markdown",
      "source": [
        "**2020-09-23 Results Discussion**\n",
        "\n",
        "Difficult to identify any particular trends looking at the data this way.\n",
        "Likely easier to plot the data as scatter plots with inflation on the x-axis\n",
        "and change in gold price on the y-axis"
      ],
      "metadata": {
        "nteract": {
          "transient": {
            "deleting": false
          }
        }
      }
    },
    {
      "cell_type": "markdown",
      "source": [
        "## 3. Plot and Review Change in Inflation and Gold Price Levels\n",
        "### 3.1 Monthly Data"
      ],
      "metadata": {
        "nteract": {
          "transient": {
            "deleting": false
          }
        }
      }
    },
    {
      "cell_type": "code",
      "source": [
        "# Display the charts\n",
        "fcg_nomrelppc_m = yt.snslmplot(data=inau_nomrelppc_m, xcol=inau_nomppc_m_cln,\n",
        "                            ycol=au_nomrelppc_cln, yidcol=au_var, degree=1,\n",
        "                            col_wrap=2, aspect=1.1)\n",
        "plt_nomrelppc_m_title = ' vs. Inflation {} to {}'\n",
        "plt_nomrelppc_m_title =  plt_nomrelppc_m_title.format(dt_stp_ppc_m.strftime(\"%b %Y\"),\n",
        "                                                      dt_edp_ppc_m.strftime(\"%b %Y\"))\n",
        "fcg_nomrelppc_m = fcg_nomrelppc_m.set_titles(col_template=\"{col_name}\" +\n",
        "                                             plt_nomrelppc_m_title)"
      ],
      "outputs": [],
      "execution_count": null,
      "metadata": {
        "collapsed": true,
        "jupyter": {
          "source_hidden": false,
          "outputs_hidden": false
        },
        "nteract": {
          "transient": {
            "deleting": false
          }
        }
      }
    },
    {
      "cell_type": "markdown",
      "source": [
        "**2020-09-22 Results Discussion** *(See Appendices for Statistics)*\n",
        "\n",
        "1. For nominal prices, the low correlation coefficient (~0.15), poor ability\n",
        "of the model to explain movements (low R-squared and adjusted R-squareds of\n",
        "~0.02) indicate that inflation explains only a small amount of the movement\n",
        "in nominal gold prices. The t-stat and p-values are erroneously high as\n",
        "changes in inflation will be included in the nominal price. To correct for\n",
        "this we need to remove inflation and use real prices\n",
        "2. For real prices, all model statistics show a weaker link as expected"
      ],
      "metadata": {
        "nteract": {
          "transient": {
            "deleting": false
          }
        }
      }
    },
    {
      "cell_type": "markdown",
      "source": [
        "### 3.2 Yearly Data"
      ],
      "metadata": {
        "nteract": {
          "transient": {
            "deleting": false
          }
        }
      }
    },
    {
      "cell_type": "code",
      "source": [
        "# Pivot the dataframe from it's current melted shape\n",
        "dtinau_relppc_y = dtinau_relppc_y.pivot_table(values=inau_y_val_cln,\n",
        "                                              index=dtinau_relppc_y.index,\n",
        "                                              columns=inau_var_cln)"
      ],
      "outputs": [],
      "execution_count": null,
      "metadata": {
        "collapsed": true,
        "jupyter": {
          "source_hidden": false,
          "outputs_hidden": false
        },
        "nteract": {
          "transient": {
            "deleting": false
          }
        }
      }
    },
    {
      "cell_type": "code",
      "source": [
        "# Display the chart\n",
        "fcg_relppc_y = yt.snslmplot(data=dtinau_relppc_y, xcol=in_ppc_y_cln,\n",
        "                         ycol=au_relppc_y_cln, degree=1)\n",
        "plt_relppc_y_title = 'Yearly Change in Gold Price (Real USD) vs. Inflation {} to {}'\n",
        "plt_relppc_y_title =  plt_relppc_y_title.format(dt_stp_ppc_y.strftime(\"%b %Y\"),\n",
        "                                                dt_edp_ppc_y.strftime(\"%b %Y\"))\n",
        "for ax in fcg_relppc_y.axes.flat:\n",
        "    fcg_relppc_y_ax = ax.set_title(plt_relppc_y_title)"
      ],
      "outputs": [],
      "execution_count": null,
      "metadata": {
        "collapsed": true,
        "jupyter": {
          "source_hidden": false,
          "outputs_hidden": false
        },
        "nteract": {
          "transient": {
            "deleting": false
          }
        }
      }
    },
    {
      "cell_type": "markdown",
      "source": [
        "**2020-09-22 Results Discussion** *(See Appendices for Statistics)*\n",
        "\n",
        "1. A correlation coefficient of approx. 0.31 and a significant t-stat for the\n",
        "coefficient indicates that a yearly model is of better use than a monthly\n",
        "view. However, the r-squared and adjusted r-squareds are still small\n",
        "(approx. 0.1) indicating that the model is missing many other factors in\n",
        "determining the changes in gold price.\n",
        "\n",
        "2. Of some interest is the group of data points in the upper right hand\n",
        "side of the chart. Does this indicate that gold prices change significantly\n",
        "when inflation is much higher than normal? Will explore higher order\n",
        "polynomial models and cluster analysis to see if there is anything of\n",
        "interest."
      ],
      "metadata": {
        "nteract": {
          "transient": {
            "deleting": false
          }
        }
      }
    },
    {
      "cell_type": "markdown",
      "source": [
        "### 3.3 Yearly Data with Higher Order Polynomials"
      ],
      "metadata": {
        "nteract": {
          "transient": {
            "deleting": false
          }
        }
      }
    },
    {
      "cell_type": "code",
      "source": [
        "deg = 2     # Start at degree=2\n",
        "fig, axs = plt.subplots(ncols=2, nrows=2, figsize=(13.3, 10));\n",
        "for axx in axs:\n",
        "    for ax in axx:\n",
        "        fcg = sns.regplot(data=dtinau_relppc_y, x='Inflation',\n",
        "                          y=au_relppc_y_cln, order=deg, ax=ax)\n",
        "        _ = ax.set_title('Polynomial Order: {0}'.format(deg))\n",
        "        if deg != 4:\n",
        "            _ = ax.set_xlabel('')\n",
        "            _ = ax.set_ylabel('')\n",
        "        deg += 1\n",
        "# Provide some more white space to allow the plots to breathe\n",
        "plt.subplots_adjust(wspace = 0.2)\n",
        "plt.subplots_adjust(hspace = 0.2)"
      ],
      "outputs": [],
      "execution_count": null,
      "metadata": {
        "collapsed": true,
        "jupyter": {
          "source_hidden": false,
          "outputs_hidden": false
        },
        "nteract": {
          "transient": {
            "deleting": false
          }
        }
      }
    },
    {
      "cell_type": "code",
      "source": [
        "# TODO: Custom tick label formatting"
      ],
      "outputs": [],
      "execution_count": null,
      "metadata": {
        "collapsed": true,
        "jupyter": {
          "source_hidden": false,
          "outputs_hidden": false
        },
        "nteract": {
          "transient": {
            "deleting": false
          }
        }
      }
    },
    {
      "cell_type": "markdown",
      "source": [
        "**2020-09-22 Results Discussion** *(See Appendices for Statistics)*\n",
        "\n",
        "Adding more features sees the statistics improve suggesting higher order\n",
        "polynomial models are a better fit (see number discussion below). However, a\n",
        "polynomial of order 2 or 4 are not intuitively obvious given their\n",
        "implications of both high inflation and high deflation leading to a high\n",
        "positive change in the gold price. Polynomials of order 1, 3 and 5 are\n",
        "more intuitively understandable, with high inflation leading to a high\n",
        "positive increase in gold prices, and high inflation leading to a high\n",
        "negative decrease in gold prices.\n",
        "\n",
        "The issue with higher order polynomials is one of over-fit, with the BIC\n",
        "number indicating that order 3 may be the sweet spot.\n",
        "\n",
        "Going with a order 3 polynomial model implies that gold prices do not\n",
        "really do anything during low to moderate inflation (perhaps up to ~8%\n",
        "just by eyeballing the data), but really takes off when inflation is high.\n",
        "\n",
        "**So, in 2020, are we in the foreseeable future likely to have high inflation\n",
        "reminiscent of the 1970's?** Unlikely in my view.\n",
        "\n",
        "Model statistics detail: The r-squared and adjusted r-squared's move higher\n",
        "to values of ~0.21 for `order=2`, to ~0.28 for `order=[3,4,5]`. The\n",
        "coefficient t-starts and p-values are significant for `order=[2,3]`, but not\n",
        "for 'order=[4,5]'. Reviewing the Bayesian Information Criterion (BIC),\n",
        "indicates that 'order=3' is the preferred model. The Akaike Information\n",
        "Criterion (AIC) indicates either 'order=[4,5]', with `order=3` a second\n",
        "choice."
      ],
      "metadata": {
        "nteract": {
          "transient": {
            "deleting": false
          }
        }
      }
    },
    {
      "cell_type": "markdown",
      "source": [
        "## 4 Cluster Analysis"
      ],
      "metadata": {
        "nteract": {
          "transient": {
            "deleting": false
          }
        }
      }
    },
    {
      "cell_type": "code",
      "source": [
        "# Create NumPy array to hold data without the time series column\n",
        "inau_relppc_y = np.column_stack((dtin_ppc_y['Y'][dt_stp_ppc_y:dt_edp_ppc_y], dtau_relppc_y['Y'][dt_stp_ppc_y:dt_edp_ppc_y]))"
      ],
      "outputs": [],
      "execution_count": null,
      "metadata": {
        "collapsed": true,
        "jupyter": {
          "source_hidden": false,
          "outputs_hidden": false
        },
        "nteract": {
          "transient": {
            "deleting": false
          }
        }
      }
    },
    {
      "cell_type": "markdown",
      "source": [
        "### 4.1 Expectation-Maximization"
      ],
      "metadata": {
        "nteract": {
          "transient": {
            "deleting": false
          }
        }
      }
    },
    {
      "cell_type": "code",
      "source": [
        "# fit a GMM\n",
        "n_cpts = 3\n",
        "gmmmdl = mixture.GaussianMixture(n_components=n_cpts, covariance_type='full')\n",
        "gmmmdl.fit(inau_relppc_y)\n",
        "# display predicted scores by the model as a contour plot\n",
        "xln = np.linspace(math.floor(min(inau_relppc_y[:, 0])),\n",
        "                  math.ceil(max(inau_relppc_y[:, 0])))\n",
        "yln = np.linspace(math.floor(min(inau_relppc_y[:, 1])),\n",
        "                  math.ceil(max(inau_relppc_y[:, 1])))\n",
        "Xln, Yln = np.meshgrid(xln, yln)\n",
        "XX = np.array([Xln.ravel(), Yln.ravel()]).T\n",
        "Zln = -gmmmdl.score_samples(XX)\n",
        "Zln = Zln.reshape(Xln.shape);"
      ],
      "outputs": [],
      "execution_count": null,
      "metadata": {
        "collapsed": true,
        "jupyter": {
          "source_hidden": false,
          "outputs_hidden": false
        },
        "nteract": {
          "transient": {
            "deleting": false
          }
        }
      }
    },
    {
      "cell_type": "code",
      "source": [
        "# Create and display the plot\n",
        "fig = plt.figure(figsize=(12, 9))\n",
        "CS = plt.contour(Xln, Yln, Zln, norm=LogNorm(vmin=1, vmax=100.0),\n",
        "                 levels=np.logspace(0, 2, 25));\n",
        "CB = plt.colorbar(CS, shrink=0.8);\n",
        "fcg = plt.scatter(inau_relppc_y[:, 0], inau_relppc_y[:, 1], .8);\n",
        "plt.show()\n",
        "# TODO: Label axes\n",
        "# TODO: Add title\n",
        "# TODO: Do for n_cpts = [2, 3, 4, 6, 10]\n",
        "# TODO: For multiple n_cpts, draw as subplots"
      ],
      "outputs": [],
      "execution_count": null,
      "metadata": {
        "collapsed": true,
        "jupyter": {
          "source_hidden": false,
          "outputs_hidden": false
        },
        "nteract": {
          "transient": {
            "deleting": false
          }
        }
      }
    },
    {
      "cell_type": "markdown",
      "source": [
        "2020-09-15: For `n_cpts = 2`, GMM essentially places a high likelihood\n",
        "around the cluster of data centred on [3, 0] and doesn't pay much attention\n",
        "to the rest. Not until `n_cpts ~ 10` does GMM lend any importance to\n",
        "the data points in the upper left i.e. where this is a high change in\n",
        "inflation and gold prices"
      ],
      "metadata": {
        "nteract": {
          "transient": {
            "deleting": false
          }
        }
      }
    },
    {
      "cell_type": "markdown",
      "source": [
        "### 4.2 K-Means"
      ],
      "metadata": {
        "nteract": {
          "transient": {
            "deleting": false
          }
        }
      }
    },
    {
      "cell_type": "code",
      "source": [
        "# Compute the clustering with k-means\n",
        "n_clusters = 4\n",
        "ppc_y_kmeans = KMeans(init='k-means++',\n",
        "                    n_clusters=n_clusters, n_init=10).fit(inau_relppc_y)\n",
        "kmeans_cluster_centers = ppc_y_kmeans.cluster_centers_\n",
        "kmeans_lbls = pairwise_distances_argmin(inau_relppc_y, kmeans_cluster_centers)"
      ],
      "outputs": [],
      "execution_count": null,
      "metadata": {
        "collapsed": true,
        "jupyter": {
          "source_hidden": false,
          "outputs_hidden": false
        },
        "nteract": {
          "transient": {
            "deleting": false
          }
        }
      }
    },
    {
      "cell_type": "code",
      "source": [
        "# Plot the results\n",
        "colours = sns.color_palette('muted')\n",
        "fcg = plt.figure(figsize=(12, 9))\n",
        "for k, col in zip(range(n_clusters), colours):\n",
        "    my_members = kmeans_lbls == k\n",
        "    cluster_center = kmeans_cluster_centers[k]\n",
        "    fcg = plt.plot(inau_relppc_y[my_members, 0], inau_relppc_y[my_members, 1],\n",
        "                   'w', markerfacecolor=col, marker='.')\n",
        "    fcg = plt.plot(cluster_center[0], cluster_center[1], 'o',\n",
        "                   markerfacecolor=col, markeredgecolor='k', markersize=6)\n",
        "# TODO: Label axes\n",
        "# TODO: Add title\n",
        "# TODO: Do for n_clusters = [2, 3, 4, 5]\n",
        "# TODO: For multiple n_clusters, draw as subplots"
      ],
      "outputs": [],
      "execution_count": null,
      "metadata": {
        "collapsed": true,
        "jupyter": {
          "source_hidden": false,
          "outputs_hidden": false
        },
        "nteract": {
          "transient": {
            "deleting": false
          }
        }
      }
    },
    {
      "cell_type": "markdown",
      "source": [
        "2020-09-15: For `n_clusters = 2`, k-means splits the data essentially along\n",
        "horizontal axis, separating when the gold price change into two halves of\n",
        "when it is positive vs. negative. For `n_clusters = 3`, the data is further\n",
        "dissected along a horizontal line for gold change at approximately 50%.\n",
        "A similar trend occurs for `n_clusters = 4` with a further horizontal\n",
        "bisection. In summary, it is not obvious that horizontal clustering provides\n",
        "any insight into the gold vs. inflation relationship"
      ],
      "metadata": {
        "nteract": {
          "transient": {
            "deleting": false
          }
        }
      }
    },
    {
      "cell_type": "markdown",
      "source": [
        "### 4.3 OPTICS"
      ],
      "metadata": {
        "nteract": {
          "transient": {
            "deleting": false
          }
        }
      }
    },
    {
      "cell_type": "code",
      "source": [
        "# Define fit parameters\n",
        "clust = OPTICS(min_samples=5, xi=0.05, min_cluster_size=0.05)\n",
        "# Run the fit\n",
        "clust.fit(inau_relppc_y)\n",
        "eps = 2.0\n",
        "labels_200 = cluster_optics_dbscan(reachability=clust.reachability_,\n",
        "                                   core_distances=clust.core_distances_,\n",
        "                                   ordering=clust.ordering_, eps=eps);"
      ],
      "outputs": [],
      "execution_count": null,
      "metadata": {
        "collapsed": true,
        "jupyter": {
          "source_hidden": false,
          "outputs_hidden": false
        },
        "nteract": {
          "transient": {
            "deleting": false
          }
        }
      }
    },
    {
      "cell_type": "code",
      "source": [
        "# Create and display the plot using OPTICS\n",
        "fit = plt.figure(figsize=(12, 9))\n",
        "ax1 = plt.subplot(121)\n",
        "ax2 = plt.subplot(122)\n",
        "for klass, colour in zip(range(0, 5), colours):\n",
        "    inau_relppc_y_k = inau_relppc_y[clust.labels_ == klass]\n",
        "    fcg = ax1.plot(inau_relppc_y_k[:, 0], inau_relppc_y_k[:, 1], color=colour,\n",
        "                 marker='o', ls='', alpha=0.3);\n",
        "fcg = ax1.plot(inau_relppc_y[clust.labels_ == -1, 0],\n",
        "         inau_relppc_y[clust.labels_ == -1, 1], 'k+', alpha=0.1);\n",
        "title = ax1.set_title('Automatic Clustering: OPTICS')\n",
        "# plt.show()\n",
        "# DBSCAN at eps=2.\n",
        "for klass, colour in zip(range(0, 4), colours):\n",
        "    inau_relppc_y_k = inau_relppc_y[labels_200 == klass]\n",
        "    fcg = ax2.plot(inau_relppc_y_k[:, 0], inau_relppc_y_k[:, 1], color=colour,\n",
        "                   marker='o', ls='', alpha=0.3)\n",
        "fcg = ax2.plot(inau_relppc_y[labels_200 == -1, 0],\n",
        "               inau_relppc_y[labels_200 == -1, 1], 'k+', alpha=0.1);\n",
        "title = 'Clustering at {0:.2f} epsilon cut: DBSCAN'.format(eps)\n",
        "fcg = ax2.set_title(title)\n",
        "plt.show()\n",
        "# TODO: Label axes\n",
        "# TODO: Do for eps = [0.5, 2]\n",
        "# TODO: To explore and understand significance of changing min_samples=5,\n",
        "# xi=0.05, min_cluster_size=0.05"
      ],
      "outputs": [],
      "execution_count": null,
      "metadata": {
        "collapsed": true,
        "jupyter": {
          "source_hidden": false,
          "outputs_hidden": false
        },
        "nteract": {
          "transient": {
            "deleting": false
          }
        }
      }
    },
    {
      "cell_type": "markdown",
      "source": [
        "2020-09-15: So similar to previous methods, clustering appears as horizontal\n",
        "bisections"
      ],
      "metadata": {
        "nteract": {
          "transient": {
            "deleting": false
          }
        }
      }
    },
    {
      "cell_type": "markdown",
      "source": [
        "### 4.4 Mean-Shift (MS)"
      ],
      "metadata": {
        "nteract": {
          "transient": {
            "deleting": false
          }
        }
      }
    },
    {
      "cell_type": "code",
      "source": [
        "# Calculate the MS\n",
        "bandwidth = estimate_bandwidth(inau_relppc_y, quantile=0.25)\n",
        "apc_ms = MeanShift(bandwidth=bandwidth, bin_seeding=True)\n",
        "apc_ms.fit(inau_relppc_y)\n",
        "lbls = apc_ms.labels_\n",
        "cluster_centers = apc_ms.cluster_centers_\n",
        "lbls_unique = np.unique(lbls)\n",
        "n_clusters_ = len(lbls_unique);"
      ],
      "outputs": [],
      "execution_count": null,
      "metadata": {
        "collapsed": true,
        "jupyter": {
          "source_hidden": false,
          "outputs_hidden": false
        },
        "nteract": {
          "transient": {
            "deleting": false
          }
        }
      }
    },
    {
      "cell_type": "code",
      "source": [
        "# Plot result\n",
        "fig = plt.figure(figsize=(12, 9));\n",
        "for k, colour in zip(range(n_clusters_), colours):\n",
        "    my_members = lbls == k\n",
        "    cluster_center = cluster_centers[k]\n",
        "    fcg = plt.plot(inau_relppc_y[my_members, 0], inau_relppc_y[my_members, 1],\n",
        "                   color=colour, marker='o', ls='', alpha=0.3)\n",
        "    fcg = plt.plot(cluster_center[0], cluster_center[1], 'o',\n",
        "                   markerfacecolor=colour, markeredgecolor='k', markersize=14)\n",
        "title = plt.title('Estimated number of clusters: {}'.format(n_clusters_))\n",
        "plt.show()\n",
        "# TODO: Label axes\n",
        "# TODO: Add title\n",
        "# TODO: Do for quantile = [0.05, 0.1, 0.2, 0.25, 0.4]\n",
        "# TODO: For multiple quantile, draw as subplots"
      ],
      "outputs": [],
      "execution_count": null,
      "metadata": {
        "collapsed": true,
        "jupyter": {
          "source_hidden": false,
          "outputs_hidden": false
        },
        "nteract": {
          "transient": {
            "deleting": false
          }
        }
      }
    },
    {
      "cell_type": "markdown",
      "source": [
        "2020-09-15: And so the same story continues, clustering appears as horizontal\n",
        "bisections"
      ],
      "metadata": {
        "nteract": {
          "transient": {
            "deleting": false
          }
        }
      }
    },
    {
      "cell_type": "markdown",
      "source": [
        "## Appendices\n",
        "### A.1 Inflation vs. nominal gold prices, monthly, polynomial order = 1"
      ],
      "metadata": {
        "nteract": {
          "transient": {
            "deleting": false
          }
        }
      }
    },
    {
      "cell_type": "code",
      "source": [
        "# Pivot the dataframe from it's current melted shape\n",
        "dtinau_nomppc_m = dtinau_nomppc_m.pivot_table(values=inau_m_val_cln,\n",
        "                                              index=dtinau_nomppc_m.index,\n",
        "                                              columns=inau_var_cln)"
      ],
      "outputs": [],
      "execution_count": null,
      "metadata": {
        "collapsed": true,
        "jupyter": {
          "source_hidden": false,
          "outputs_hidden": false
        },
        "nteract": {
          "transient": {
            "deleting": false
          }
        }
      }
    },
    {
      "cell_type": "code",
      "source": [
        "yt.dispmodel(dtinau_nomppc_m, degree=1)"
      ],
      "outputs": [],
      "execution_count": null,
      "metadata": {
        "collapsed": true,
        "jupyter": {
          "source_hidden": false,
          "outputs_hidden": false
        },
        "nteract": {
          "transient": {
            "deleting": false
          }
        }
      }
    },
    {
      "cell_type": "markdown",
      "source": [
        "### A.2 Inflation vs. real gold prices, monthly, polynomial order = 1"
      ],
      "metadata": {
        "nteract": {
          "transient": {
            "deleting": false
          }
        }
      }
    },
    {
      "cell_type": "code",
      "source": [
        "# Pivot the dataframe from it's current melted shape\n",
        "dtinau_relppc_m = dtinau_relppc_m.pivot_table(values=inau_m_val_cln,\n",
        "                                              index=dtinau_relppc_m.index,\n",
        "                                              columns=inau_var_cln)"
      ],
      "outputs": [],
      "execution_count": null,
      "metadata": {
        "collapsed": true,
        "jupyter": {
          "source_hidden": false,
          "outputs_hidden": false
        },
        "nteract": {
          "transient": {
            "deleting": false
          }
        }
      }
    },
    {
      "cell_type": "code",
      "source": [
        "yt.dispmodel(dtinau_relppc_m)"
      ],
      "outputs": [],
      "execution_count": null,
      "metadata": {
        "collapsed": true,
        "jupyter": {
          "source_hidden": false,
          "outputs_hidden": false
        },
        "nteract": {
          "transient": {
            "deleting": false
          }
        }
      }
    },
    {
      "cell_type": "markdown",
      "source": [
        "### A.3 Inflation vs. real gold prices, yearly, polynomial order = 1"
      ],
      "metadata": {
        "nteract": {
          "transient": {
            "deleting": false
          }
        }
      }
    },
    {
      "cell_type": "code",
      "source": [
        "yt.dispmodel(dtinau_relppc_y, degree=1)"
      ],
      "outputs": [],
      "execution_count": null,
      "metadata": {
        "collapsed": true,
        "jupyter": {
          "source_hidden": false,
          "outputs_hidden": false
        },
        "nteract": {
          "transient": {
            "deleting": false
          }
        }
      }
    },
    {
      "cell_type": "markdown",
      "source": [
        "### A.4 Inflation vs. real gold prices, yearly, polynomial order = 2"
      ],
      "metadata": {
        "nteract": {
          "transient": {
            "deleting": false
          }
        }
      }
    },
    {
      "cell_type": "code",
      "source": [
        "yt.dispmodel(dtinau_relppc_y, degree=2)"
      ],
      "outputs": [],
      "execution_count": null,
      "metadata": {
        "collapsed": true,
        "jupyter": {
          "source_hidden": false,
          "outputs_hidden": false
        },
        "nteract": {
          "transient": {
            "deleting": false
          }
        }
      }
    },
    {
      "cell_type": "markdown",
      "source": [
        "### A.5 Inflation vs. real gold prices, yearly, polynomial order = 3"
      ],
      "metadata": {
        "nteract": {
          "transient": {
            "deleting": false
          }
        }
      }
    },
    {
      "cell_type": "code",
      "source": [
        "yt.dispmodel(dtinau_relppc_y, degree=3)"
      ],
      "outputs": [],
      "execution_count": null,
      "metadata": {
        "collapsed": true,
        "jupyter": {
          "source_hidden": false,
          "outputs_hidden": false
        },
        "nteract": {
          "transient": {
            "deleting": false
          }
        }
      }
    },
    {
      "cell_type": "markdown",
      "source": [
        "### A.6 Inflation vs. real gold prices, yearly, polynomial order = 4"
      ],
      "metadata": {
        "nteract": {
          "transient": {
            "deleting": false
          }
        }
      }
    },
    {
      "cell_type": "code",
      "source": [
        "yt.dispmodel(dtinau_relppc_y, degree=4)"
      ],
      "outputs": [],
      "execution_count": null,
      "metadata": {
        "collapsed": true,
        "jupyter": {
          "source_hidden": false,
          "outputs_hidden": false
        },
        "nteract": {
          "transient": {
            "deleting": false
          }
        }
      }
    },
    {
      "cell_type": "markdown",
      "source": [
        "### A.7 Inflation vs. real gold prices, yearly, polynomial order = 5"
      ],
      "metadata": {
        "nteract": {
          "transient": {
            "deleting": false
          }
        }
      }
    },
    {
      "cell_type": "code",
      "source": [
        "yt.dispmodel(dtinau_relppc_y, degree=5)"
      ],
      "outputs": [],
      "execution_count": null,
      "metadata": {
        "collapsed": true,
        "jupyter": {
          "source_hidden": false,
          "outputs_hidden": false
        },
        "nteract": {
          "transient": {
            "deleting": false
          }
        }
      }
    },
    {
      "cell_type": "markdown",
      "source": [
        "### End Of File"
      ],
      "metadata": {
        "nteract": {
          "transient": {
            "deleting": false
          }
        }
      }
    }
  ],
  "metadata": {
    "kernelspec": {
      "argv": [
        "C:\\Users\\Tom\\AppData\\Local\\Programs\\Python\\Python38-32\\python.exe",
        "-m",
        "ipykernel_launcher",
        "-f",
        "{connection_file}"
      ],
      "display_name": "Python 3",
      "language": "python",
      "name": "python3"
    }
  },
  "nbformat": 4,
  "nbformat_minor": 0
}