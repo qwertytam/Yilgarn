{
 "cells": [
  {
   "cell_type": "markdown",
   "metadata": {
    "nteract": {
     "transient": {
      "deleting": false
     }
    }
   },
   "source": [
    "# Gold and USD inflation\n",
    "Using monthly data we will explore the relationship between gold prices and\n",
    "inflation.\n",
    "\n",
    "### Inspirations\n",
    "- [The FRED® Blog: Is gold a good hedge against inflation?]\n",
    "(https://fredblog.stlouisfed.org/2019/03/is-gold-a-good-hedge-against-inflation/)\n",
    "\n",
    "### Definitions\n",
    "- Gold: The ICE Benchmark Administration Limited (IBA), Gold Fixing Price in\n",
    "the London Bullion Market, based in U.S. Dollars, retrieved from FRED,\n",
    "Federal Reserve Bank of St. Louis\n",
    "- CPI inflation: Consumer Price Index, seasonally adjusted monthly since 1947,\n",
    ", retrieved from FRED, Federal Reserve Bank of St. Louis\n",
    "- PCE inflation: Personal Consumption Expenditure, seasonally adjusted monthly\n",
    "since 1959, retrieved from FRED, Federal Reserve Bank of St. Louis\n",
    "- SYN inflation: Synthetic Inflation, normalized and averaged over CPI,\n",
    "CPI Core, PCE and PCE Core inflation measures, retrieved from FRED, Federal\n",
    "Reserve Bank of St. Louis\n",
    "\n",
    "### Dependencies:\n",
    "- Python: matplotlib, pandas, fecon236, statsmodels, sympy, pandas_datareader\n",
    "- Written using Python 3.8.5, Atom 1.51, Hydrogen 2.14.4\n"
   ]
  },
  {
   "cell_type": "markdown",
   "metadata": {
    "nteract": {
     "transient": {
      "deleting": false
     }
    }
   },
   "source": [
    "## 0. Preamble / Code Setup"
   ]
  },
  {
   "cell_type": "code",
   "execution_count": null,
   "metadata": {
    "collapsed": true,
    "jupyter": {
     "outputs_hidden": false,
     "source_hidden": false
    },
    "nteract": {
     "transient": {
      "deleting": false
     }
    }
   },
   "outputs": [],
   "source": [
    "# Check if required modules are installed in the kernel; and if not install them\n",
    "import sys\n",
    "import subprocess\n",
    "import pkg_resources\n",
    "\n",
    "required = {'fecon236', 'pandas', 'numpy', 'sklearn', 'statsmodels', 'sympy',\n",
    "            'pandas_datareader'}\n",
    "installed = {pkg.key for pkg in pkg_resources.working_set}\n",
    "missing = required - installed\n",
    "\n",
    "if missing:\n",
    "    print(missing)\n",
    "    python = sys.executable\n",
    "    subprocess.check_call([python, '-m', 'pip', 'install', *missing], stdout=subprocess.DEVNULL)\n",
    "else:\n",
    "    print('all ok')"
   ]
  },
  {
   "cell_type": "code",
   "execution_count": null,
   "metadata": {
    "collapsed": true,
    "jupyter": {
     "outputs_hidden": false,
     "source_hidden": false
    },
    "nteract": {
     "transient": {
      "deleting": false
     }
    }
   },
   "outputs": [],
   "source": [
    "# fecon236 is a useful econometrics python module for access and using U.S.\n",
    "# Federal Reserve and related data\n",
    "import fecon236 as fe\n",
    "fe.system.specs()\n",
    "pwd = fe.system.getpwd()\n",
    "print(\" :: $pwd\", pwd)\n",
    "\n",
    "#  If a module is modified, automatically reload it:\n",
    "%load_ext autoreload\n",
    "%autoreload 2   # Use 0 to disable this feature.\n",
    "#  Notebook DISPLAY options:\n",
    "# Represent pandas DataFrames as text; not HTML representation:\n",
    "import pandas as pd\n",
    "pd.set_option('display.notebook_repr_html', False)\n",
    "\n",
    "from matplotlib import pyplot as plt\n",
    "#  Generate PLOTS inside notebook, \"inline\" generates static png:\n",
    "%matplotlib inline\n",
    "# \"notebook\" argument allows interactive zoom and resize.\n",
    "\n",
    "import numpy as np\n",
    "import math\n",
    "\n",
    "# Will use sklearn and statsmodels for regression model testing\n",
    "from sklearn.preprocessing import PolynomialFeatures\n",
    "import statsmodels.api as sm\n",
    "\n",
    "# These are the \"Tableau 20\" colors as RGB for later use\n",
    "tableau20 = [(31, 119, 180), (174, 199, 232), (255, 127, 14), (255, 187, 120),\n",
    "             (44, 160, 44), (152, 223, 138), (214, 39, 40), (255, 152, 150),\n",
    "             (148, 103, 189), (197, 176, 213), (140, 86, 75), (196, 156, 148),\n",
    "             (227, 119, 194), (247, 182, 210), (127, 127, 127), (199, 199, 199),\n",
    "             (188, 189, 34), (219, 219, 141), (23, 190, 207), (158, 218, 229)]\n",
    "\n",
    "# Scale the RGB values to the [0, 1] range, which is the format\n",
    "# matplotlib accepts.\n",
    "for i in range(len(tableau20)):\n",
    "    rescalef = 255.\n",
    "    r, g, b = tableau20[i]\n",
    "    tableau20[i] = (r / rescalef, g / rescalef, b / rescalef)"
   ]
  },
  {
   "cell_type": "markdown",
   "metadata": {
    "nteract": {
     "transient": {
      "deleting": false
     }
    }
   },
   "source": [
    "## 1. Define Custom Functions\n",
    "### Custom Plotting Function to Make Charts *Pretty*"
   ]
  },
  {
   "cell_type": "code",
   "execution_count": null,
   "metadata": {
    "collapsed": true,
    "jupyter": {
     "outputs_hidden": false,
     "source_hidden": false
    },
    "nteract": {
     "transient": {
      "deleting": false
     }
    }
   },
   "outputs": [],
   "source": [
    "def plotfn(x, y, poly1d_fn):\n",
    "    \"\"\"Draws plot from data input and defined fit function\n",
    "\n",
    "    Parameters\n",
    "    ----------\n",
    "    x : panda series\n",
    "        x axis data\n",
    "    y : panda series\n",
    "        y axis data\n",
    "    poly1d_fun : numpy poly1d\n",
    "        the polynomial definition e.g. x**2 + 2*x + 3\n",
    "\n",
    "    Returns\n",
    "    -------\n",
    "    Null\n",
    "    \"\"\"\n",
    "    # Calculate ranges and intervals for chart display\n",
    "    xmin = int(math.floor(min(x)))\n",
    "    xmax = int(math.ceil(max(x)))\n",
    "    xrange = xmax - xmin\n",
    "    xnumticks = 8\n",
    "    xtickintvl = round(xrange / xnumticks * 2, 0) / 2\n",
    "\n",
    "    ymin = int(math.floor(min(y)))\n",
    "    ymax = int(math.ceil(max(y)))\n",
    "    yrange = ymax - ymin\n",
    "    ynumticks = 10\n",
    "    ytickintvl = int(math.ceil(yrange / ynumticks))\n",
    "\n",
    "    # Plot aspect ratio of ~1.33x\n",
    "    plt.figure(figsize=(12, 9))\n",
    "\n",
    "    # Remove the plot frame lines. They are unnecessary chartjunk.\n",
    "    ax = plt.subplot(111)\n",
    "    ax.spines[\"top\"].set_visible(False)\n",
    "    ax.spines[\"bottom\"].set_visible(False)\n",
    "    ax.spines[\"right\"].set_visible(False)\n",
    "    ax.spines[\"left\"].set_visible(False)\n",
    "\n",
    "    # Ensure that the axis ticks only show up on the bottom and left of the plot.\n",
    "    # Ticks on the right and top of the plot are generally unnecessary chartjunk.\n",
    "    ax.get_xaxis().tick_bottom()\n",
    "    ax.get_yaxis().tick_left()\n",
    "\n",
    "    # Limit the range of the plot to only where the data is to avoid unnecessary whitespace\n",
    "    plt.ylim(ymin, ymax)\n",
    "    plt.xlim(xmin, xmax)\n",
    "\n",
    "    # Make sure axis ticks are large enough to be easily read\n",
    "    # You don't want your viewers squinting to read your plot\n",
    "    tickfntsize = 14\n",
    "    plt.yticks(range(ymin, ymax + ytickintvl, ytickintvl),\n",
    "               [str(x) + \"%\" for x in range(ymin, ymax + ytickintvl, ytickintvl)],\n",
    "               fontsize=tickfntsize)\n",
    "    plt.xticks(np.arange(xmin, xmax + xtickintvl, xtickintvl),\n",
    "               [str(x) + \"%\" for x in np.arange(xmin, xmax + xtickintvl, xtickintvl)],\n",
    "               fontsize=tickfntsize)\n",
    "\n",
    "    # Provide tick lines across the plot to help viewers trace along\n",
    "    # the axis ticks; lines are light and small so they don't obscure the\n",
    "    # primary data lines.\n",
    "    xarange = np.arange(xmin, xmax + 0.001)\n",
    "    for yt in range(ymin, ymax + ytickintvl, ytickintvl):\n",
    "        plt.plot(xarange, [yt] * len(xarange), \"--\",\n",
    "                 lw=0.5, color=\"black\", alpha=0.3)\n",
    "\n",
    "    # Remove the tick marks; they are unnecessary with the tick lines\n",
    "    # we just plotted.\n",
    "    plt.tick_params(axis=\"both\", which=\"both\", bottom=False, top=False,\n",
    "                    labelbottom=True, left=False, right=False,\n",
    "                    labelleft=True)\n",
    "\n",
    "    # Plot the two data series\n",
    "    result = plt.plot(x, y, color=tableau20[1], marker='o', ls='')\n",
    "    result = plt.plot(x, poly1d_fn(x), color=tableau20[2], ls='-')\n",
    "    return"
   ]
  },
  {
   "cell_type": "markdown",
   "metadata": {
    "nteract": {
     "transient": {
      "deleting": false
     }
    }
   },
   "source": [
    "### Function to Define Polynomial Model"
   ]
  },
  {
   "cell_type": "code",
   "execution_count": null,
   "metadata": {
    "collapsed": true,
    "jupyter": {
     "outputs_hidden": false,
     "source_hidden": false
    },
    "nteract": {
     "transient": {
      "deleting": false
     }
    }
   },
   "outputs": [],
   "source": [
    "def defnmodel(x, y, degree: int=1):\n",
    "    \"\"\"Defines a polynomial model for data x and y of order degree using\n",
    "    ordinary least squares regression based\n",
    "\n",
    "    Parameters\n",
    "    ----------\n",
    "    x : panda series\n",
    "        x axis data\n",
    "    y : panda series\n",
    "        y axis data\n",
    "    degree : int, optional\n",
    "        the polynomial degree definition e.g. 2 for a quadractic polynomial\n",
    "\n",
    "    Returns\n",
    "    -------\n",
    "    xp : numpy array\n",
    "        array of degree columns containing the polynomial features e.g. for a 2\n",
    "        degree polynomial, features are [1, a, b, a^2, ab, b^2]\n",
    "    model : sm ols model\n",
    "        orindary least squares regression model produced by statsmodels\n",
    "    poly1d_fn : numpy poly1d\n",
    "        the polynomial definition e.g. x**2 + 2*x + 3\n",
    "    \"\"\"\n",
    "    polyFeatures = PolynomialFeatures(degree) # Define the polynomial\n",
    "\n",
    "    # Reshape data from 1 by n to n by 1\n",
    "    xarray = np.array(x)\n",
    "    xarray = xarray[:, np.newaxis]\n",
    "\n",
    "    # Calculate polynomials for x\n",
    "    xp = polyFeatures.fit_transform(xarray)\n",
    "    # Reshape y from 1 by n to n by 1\n",
    "    yarray = np.array(y)\n",
    "    yarray = yarray[:, np.newaxis]\n",
    "\n",
    "    # Calculate the model and predictions\n",
    "    model = sm.OLS(yarray, xp).fit()\n",
    "    coef = model.params.tolist()    # Model coefficients\n",
    "    coef.reverse()                  # Reverse as poly1d takes in decline order\n",
    "    poly1d_fn = np.poly1d(coef)     # Create function from coefficients\n",
    "\n",
    "    return xp, model, poly1d_fn"
   ]
  },
  {
   "cell_type": "markdown",
   "metadata": {
    "nteract": {
     "transient": {
      "deleting": false
     }
    }
   },
   "source": [
    "### Roll-up Function to Display Results"
   ]
  },
  {
   "cell_type": "code",
   "execution_count": null,
   "metadata": {
    "collapsed": true,
    "jupyter": {
     "outputs_hidden": false,
     "source_hidden": false
    },
    "nteract": {
     "transient": {
      "deleting": false
     }
    }
   },
   "outputs": [],
   "source": [
    "def displayresults(x, y, degree: int=1):\n",
    "    \"\"\"Displays summary statistics, regression results, and plot of data\n",
    "    versus polynomial model\n",
    "\n",
    "    Parameters\n",
    "    ----------\n",
    "    x : panda series\n",
    "        x axis data\n",
    "    y : panda series\n",
    "        y axis data\n",
    "    degree : int, optional\n",
    "        the polynomial degree definition e.g. 2 for a quadractic polynomial\n",
    "\n",
    "    Returns\n",
    "    -------\n",
    "    Null\n",
    "    \"\"\"\n",
    "    # Display the summary stats and chart\n",
    "    xp, model, poly1d_fn = defnmodel(x, y, degree)\n",
    "    print(\" ::  FIRST variable (y):\")\n",
    "    print(y.describe(), '\\n')\n",
    "    print(\" ::  SECOND variable (x):\")\n",
    "    print(x.describe(), '\\n')\n",
    "    print(model.summary())\n",
    "    plotfn(x, y, poly1d_fn)\n",
    "    return"
   ]
  },
  {
   "cell_type": "markdown",
   "metadata": {
    "nteract": {
     "transient": {
      "deleting": false
     }
    }
   },
   "source": [
    "## 1. Retrieve Data, Determine Appropiate Start and End Dates for Analysis"
   ]
  },
  {
   "cell_type": "code",
   "execution_count": null,
   "metadata": {
    "collapsed": true,
    "jupyter": {
     "outputs_hidden": false,
     "source_hidden": false
    },
    "nteract": {
     "transient": {
      "deleting": false
     }
    }
   },
   "outputs": [],
   "source": [
    "# Get gold and inflation rates, both as monthly frequency\n",
    "# Notes: fecon236 uses median to resample (instead of say mean) and also\n",
    "# replaces FRED empty data (marked with a \".\") with data from previously\n",
    "# occuring period; These adjustments will drive some small differences to\n",
    "# the analysis on th FRED blog\n",
    "# Daily London AM gold fix, nominal USD, converted to monthly\n",
    "gold_usdnom = fe.monthly(fe.get('GOLDAMGBD228NLBM'))\n",
    "# Daily London PM gold fix, nominal USD, converted to monthly\n",
    "# gold_usdnom = fe.get(fe.m4xau)\n",
    "# Percentage calcualtion for month on month i.e. frequency = 1\n",
    "freq = 1\n",
    "gold_usdnom_pc = fe.nona(fe.pcent(gold_usdnom, freq))"
   ]
  },
  {
   "cell_type": "code",
   "execution_count": null,
   "metadata": {
    "collapsed": true,
    "jupyter": {
     "outputs_hidden": false,
     "source_hidden": false
    },
    "nteract": {
     "transient": {
      "deleting": false
     }
    }
   },
   "outputs": [],
   "source": [
    "# Inflation in use\n",
    "infcode = fe.m4cpi      # FRED code 'CPIAUCSL'\n",
    "# infcode = fe.m4pce    # FRED code 'PCEPI'\n",
    "# Synthetic average of 'CPIAUCSL', 'CPILFESL', 'PCEPI', 'CPILFESL'\n",
    "# infcode = fe.m4infl\n",
    "infidx = fe.get (fe.m4cpi)        # Returns the index, not percentage change\n",
    "inf_pc = fe.nona(fe.pcent(infidx, freq))"
   ]
  },
  {
   "cell_type": "code",
   "execution_count": null,
   "metadata": {
    "collapsed": true,
    "jupyter": {
     "outputs_hidden": false,
     "source_hidden": false
    },
    "nteract": {
     "transient": {
      "deleting": false
     }
    }
   },
   "outputs": [],
   "source": [
    "# Gold with USD inflation removed i.e. in real USD\n",
    "# First, calculate rebased inflation index\n",
    "inf_basedate = '2020-08-01'              # The base date for our index\n",
    "inf_base = infidx['Y'][inf_basedate]\n",
    "infidx_rebased = fe.div(infidx, inf_base)"
   ]
  },
  {
   "cell_type": "code",
   "execution_count": null,
   "metadata": {
    "collapsed": true,
    "jupyter": {
     "outputs_hidden": false,
     "source_hidden": false
    },
    "nteract": {
     "transient": {
      "deleting": false
     }
    }
   },
   "outputs": [],
   "source": [
    "# Find the first and last overlapping dates for the two data series where\n",
    "# we are using values\n",
    "startv = max(fe.head(gold_usdnom, 1).index[0], fe.head(infidx, 1).index[0])\n",
    "endv = min(fe.tail(gold_usdnom, 1).index[0], fe.tail(infidx, 1).index[0])"
   ]
  },
  {
   "cell_type": "code",
   "execution_count": null,
   "metadata": {
    "collapsed": true,
    "jupyter": {
     "outputs_hidden": false,
     "source_hidden": false
    },
    "nteract": {
     "transient": {
      "deleting": false
     }
    }
   },
   "outputs": [],
   "source": [
    "# Calculate the real gold price\n",
    "gold_usdrl = fe.div(gold_usdnom.loc[startv:endv],\n",
    "                    infidx_rebased.loc[startv:endv])\n",
    "gold_usdrl_pc = fe.nona(fe.pcent(gold_usdrl, freq))"
   ]
  },
  {
   "cell_type": "code",
   "execution_count": null,
   "metadata": {
    "collapsed": true,
    "jupyter": {
     "outputs_hidden": false,
     "source_hidden": false
    },
    "nteract": {
     "transient": {
      "deleting": false
     }
    }
   },
   "outputs": [],
   "source": [
    "# Find the first and last overlapping dates for the two data series where we\n",
    "# are using month on month percentage change\n",
    "startpc = max(fe.head(gold_usdrl_pc, 1).index[0], fe.head(inf_pc, 1).index[0])\n",
    "endpc = min(fe.tail(gold_usdrl_pc, 1).index[0], fe.tail(inf_pc, 1).index[0])"
   ]
  },
  {
   "cell_type": "markdown",
   "metadata": {
    "nteract": {
     "transient": {
      "deleting": false
     }
    }
   },
   "source": [
    "## 2. Look at the Correlation of Month on Month Change in Inflation and Nominal Gold Prices"
   ]
  },
  {
   "cell_type": "code",
   "execution_count": null,
   "metadata": {
    "collapsed": true,
    "jupyter": {
     "outputs_hidden": false,
     "source_hidden": false
    },
    "nteract": {
     "transient": {
      "deleting": false
     }
    }
   },
   "outputs": [],
   "source": [
    "x = inf_pc['Y'][startpc:endpc]\n",
    "y = gold_usdnom_pc['Y'][startpc:endpc]\n",
    "displayresults(x, y, 1)"
   ]
  },
  {
   "cell_type": "markdown",
   "metadata": {
    "nteract": {
     "transient": {
      "deleting": false
     }
    }
   },
   "source": [
    "2020-09-15: The regression analysis shows a strong relationship\n",
    "(t-stat 3.896), however we need to remove the inflation contained in the\n",
    "nominal gold price"
   ]
  },
  {
   "cell_type": "markdown",
   "metadata": {
    "nteract": {
     "transient": {
      "deleting": false
     }
    }
   },
   "source": [
    "## 3. Look at the Correlation of Month on Month Change in Inflation and Real Gold Prices"
   ]
  },
  {
   "cell_type": "code",
   "execution_count": null,
   "metadata": {
    "collapsed": true,
    "jupyter": {
     "outputs_hidden": false,
     "source_hidden": false
    },
    "nteract": {
     "transient": {
      "deleting": false
     }
    }
   },
   "outputs": [],
   "source": [
    "x = inf_pc['Y'][startpc:endpc]\n",
    "y = gold_usdrl_pc['Y'][startpc:endpc]\n",
    "displayresults(x, y, 1)"
   ]
  },
  {
   "cell_type": "markdown",
   "metadata": {
    "nteract": {
     "transient": {
      "deleting": false
     }
    }
   },
   "source": [
    "2020-09-15: The regression analysis shows a relationship\n",
    "(t-stat 2.245), with a 1% increase in inflation having a 1.3573% increase in\n",
    "the real price of gold. However, the adj. r-squared is only 0.006, indicating\n",
    "there are many other factors at play that influence the change in gold prices."
   ]
  },
  {
   "cell_type": "markdown",
   "metadata": {
    "nteract": {
     "transient": {
      "deleting": false
     }
    }
   },
   "source": [
    "## 4. Look at the Correlation of Year on Year Change in Inflation and Real Gold Prices"
   ]
  },
  {
   "cell_type": "code",
   "execution_count": null,
   "metadata": {
    "collapsed": true,
    "jupyter": {
     "outputs_hidden": false,
     "source_hidden": false
    },
    "nteract": {
     "transient": {
      "deleting": false
     }
    }
   },
   "outputs": [],
   "source": [
    "# Change percentage calcualtion to every 12 months\n",
    "freq = 12\n",
    "gold_usdrl_apc = fe.nona(fe.pcent(gold_usdrl, freq))\n",
    "inf_apc = fe.nona(fe.pcent(infidx, freq))"
   ]
  },
  {
   "cell_type": "code",
   "execution_count": null,
   "metadata": {
    "collapsed": true,
    "jupyter": {
     "outputs_hidden": false,
     "source_hidden": false
    },
    "nteract": {
     "transient": {
      "deleting": false
     }
    }
   },
   "outputs": [],
   "source": [
    "# Find the first and last overlapping dates for the two data series\n",
    "startapc = max(fe.head(gold_usdrl_apc, 1).index[0], fe.head(inf_apc, 1).index[0])\n",
    "endapc = min(fe.tail(gold_usdrl_apc, 1).index[0], fe.tail(inf_apc, 1).index[0])"
   ]
  },
  {
   "cell_type": "code",
   "execution_count": null,
   "metadata": {
    "collapsed": true,
    "jupyter": {
     "outputs_hidden": false,
     "source_hidden": false
    },
    "nteract": {
     "transient": {
      "deleting": false
     }
    }
   },
   "outputs": [],
   "source": [
    "# Show same analysis as above\n",
    "x = inf_apc['Y'][startapc:endapc]\n",
    "y = gold_usdrl_apc['Y'][startapc:endapc]\n",
    "displayresults(x, y, 1)"
   ]
  },
  {
   "cell_type": "markdown",
   "metadata": {
    "nteract": {
     "transient": {
      "deleting": false
     }
    }
   },
   "source": [
    "2020-09-15: The regression analysis shows a relationship\n",
    "(t-stat 8.119), with a 1% increase in inflation having a 2.5554% increase in\n",
    "the real price of gold; the adj. r-squared has increased slightly to 0.095, so\n",
    "still many other factors at play in determing the gold price\n",
    "\n",
    "Another way to consider this is, yes gold may hedge inflation, but with so\n",
    "many other (so far unknown) factors impacting the price of gold, there is lot\n",
    "of risk in using gold to purely hedge inflation\n",
    "\n",
    "Potentially there is greater movement in the gold price when the inflation\n",
    "change is > ~8%"
   ]
  },
  {
   "cell_type": "markdown",
   "metadata": {
    "nteract": {
     "transient": {
      "deleting": false
     }
    }
   },
   "source": [
    "## 5. Alternative Models for Year on Year Change in Inflation and Real prices\n",
    "### First, lets explore a polynomial model"
   ]
  },
  {
   "cell_type": "code",
   "execution_count": null,
   "metadata": {
    "collapsed": true,
    "jupyter": {
     "outputs_hidden": false,
     "source_hidden": false
    },
    "nteract": {
     "transient": {
      "deleting": false
     }
    }
   },
   "outputs": [],
   "source": [
    "x = inf_apc['Y'][startapc:endapc]\n",
    "y = gold_usdrl_apc['Y'][startapc:endapc]\n",
    "displayresults(x, y, 2)"
   ]
  },
  {
   "cell_type": "markdown",
   "metadata": {
    "nteract": {
     "transient": {
      "deleting": false
     }
    }
   },
   "source": [
    "2020-09-15: For `degree = 2` We show a stronger relationship (higher t-stats\n",
    "and adj. r-squared of 0.212), however it is not clear why a quadractic\n",
    "equation is an appropiate relationship between inflation and gold prices"
   ]
  },
  {
   "cell_type": "code",
   "execution_count": null,
   "metadata": {
    "collapsed": true,
    "jupyter": {
     "outputs_hidden": false,
     "source_hidden": false
    },
    "nteract": {
     "transient": {
      "deleting": false
     }
    }
   },
   "outputs": [],
   "source": [
    "displayresults(x, y, 3)"
   ]
  },
  {
   "cell_type": "markdown",
   "metadata": {
    "nteract": {
     "transient": {
      "deleting": false
     }
    }
   },
   "source": [
    "2020-09-15: For `degree = 3`, relationship is weaker and not interesting"
   ]
  },
  {
   "cell_type": "code",
   "execution_count": null,
   "metadata": {
    "collapsed": true,
    "jupyter": {
     "outputs_hidden": false,
     "source_hidden": false
    },
    "nteract": {
     "transient": {
      "deleting": false
     }
    }
   },
   "outputs": [],
   "source": [
    "displayresults(x, y, 4)"
   ]
  },
  {
   "cell_type": "markdown",
   "metadata": {
    "nteract": {
     "transient": {
      "deleting": false
     }
    }
   },
   "source": [
    "2020-09-15: For `degree = 4`, relationship is even weaker and not interesting"
   ]
  },
  {
   "cell_type": "code",
   "execution_count": null,
   "metadata": {
    "collapsed": true,
    "jupyter": {
     "outputs_hidden": false,
     "source_hidden": false
    },
    "nteract": {
     "transient": {
      "deleting": false
     }
    }
   },
   "outputs": [],
   "source": [
    "displayresults(x, y, 5)"
   ]
  },
  {
   "cell_type": "markdown",
   "metadata": {
    "nteract": {
     "transient": {
      "deleting": false
     }
    }
   },
   "source": [
    "2020-09-15: For `degree = 5`, now relationships are unidentifiable"
   ]
  }
 ],
 "metadata": {
  "kernelspec": {
   "display_name": "Python 3",
   "language": "python",
   "name": "python3"
  },
  "language_info": {
   "codemirror_mode": {
    "name": "ipython",
    "version": 3
   },
   "file_extension": ".py",
   "mimetype": "text/x-python",
   "name": "python",
   "nbconvert_exporter": "python",
   "pygments_lexer": "ipython3",
   "version": "3.8.5"
  }
 },
 "nbformat": 4,
 "nbformat_minor": 1
}
