{
  "cells": [
    {
      "cell_type": "markdown",
      "source": [
        "# Gold and USD inflation\n",
        "Using monthly data we will explore the relationship between gold prices and\n",
        "inflation.\n",
        "\n",
        "### Inspirations\n",
        "- [The FRED® Blog: Is gold a good hedge against inflation?]\n",
        "(https://fredblog.stlouisfed.org/2019/03/is-gold-a-good-hedge-against-inflation/)\n",
        "\n",
        "### Definitions\n",
        "- Gold: The ICE Benchmark Administration Limited (IBA), Gold Fixing Price in\n",
        "the London Bullion Market, based in U.S. Dollars, retrieved from FRED,\n",
        "Federal Reserve Bank of St. Louis\n",
        "- CPI inflation: Consumer Price Index, seasonally adjusted monthly since 1947,\n",
        ", retrieved from FRED, Federal Reserve Bank of St. Louis\n",
        "- PCE inflation: Personal Consumption Expenditure, seasonally adjusted monthly\n",
        "since 1959, retrieved from FRED, Federal Reserve Bank of St. Louis\n",
        "- SYN inflation: Synthetic Inflation, normalized and averaged over CPI,\n",
        "CPI Core, PCE and PCE Core inflation measures, retrieved from FRED, Federal\n",
        "Reserve Bank of St. Louis\n",
        "\n",
        "### Dependencies:\n",
        "- Python: datetime, fecon236, matplotlib, numpy, pandas, pandas_datareader,\n",
        "sklearn, statsmodels, sympy, seaborn\n",
        "- Written using Python 3.8.5, Atom 1.51, Hydrogen 2.14.4\n",
        "\n",
        "### General To Do List:\n",
        "- Update result analysis\n",
        "- Understand cluster analysis in greater detail\n",
        "- Review peer work"
      ],
      "metadata": {
        "nteract": {
          "transient": {
            "deleting": false
          }
        }
      }
    },
    {
      "cell_type": "markdown",
      "source": [
        "## 0. Preamble: Code Setup and Function Definitions"
      ],
      "metadata": {
        "nteract": {
          "transient": {
            "deleting": false
          }
        }
      }
    },
    {
      "cell_type": "markdown",
      "source": [
        "### Check if required modules are installed in the kernel; and if not install them"
      ],
      "metadata": {
        "nteract": {
          "transient": {
            "deleting": false
          }
        }
      }
    },
    {
      "cell_type": "code",
      "source": [
        "import sys\n",
        "import subprocess\n",
        "import pkg_resources\n",
        "required = {'datetime', 'fecon236', 'matplotlib', 'numpy', 'pandas',\n",
        "            'pandas_datareader', 'sklearn', 'statsmodels', 'sympy', 'seaborn'}\n",
        "installed = {pkg.key for pkg in pkg_resources.working_set}\n",
        "missing = required - installed\n",
        "if missing:\n",
        "    python = sys.executable\n",
        "    subprocess.check_call([python, '-m', 'pip', 'install', *missing],\n",
        "                           stdout=subprocess.DEVNULL)"
      ],
      "outputs": [],
      "execution_count": null,
      "metadata": {
        "collapsed": true,
        "jupyter": {
          "source_hidden": false,
          "outputs_hidden": false
        },
        "nteract": {
          "transient": {
            "deleting": false
          }
        }
      }
    },
    {
      "cell_type": "code",
      "source": [
        "# fecon236 is a useful econometrics python module for access and using U.S.\n",
        "# Federal Reserve and related data\n",
        "import fecon236 as fe\n",
        "fe.system.specs()\n",
        "#  If a module is modified, automatically reload it:\n",
        "%load_ext autoreload\n",
        "%autoreload 2   # Use 0 to disable this feature."
      ],
      "outputs": [],
      "execution_count": null,
      "metadata": {
        "collapsed": true,
        "jupyter": {
          "source_hidden": false,
          "outputs_hidden": false
        },
        "nteract": {
          "transient": {
            "deleting": false
          }
        }
      }
    },
    {
      "cell_type": "markdown",
      "source": [
        "### Import useful modules for data wrangling"
      ],
      "metadata": {
        "nteract": {
          "transient": {
            "deleting": false
          }
        }
      }
    },
    {
      "cell_type": "code",
      "source": [
        "import numpy as np\n",
        "import math\n",
        "import datetime as dt"
      ],
      "outputs": [],
      "execution_count": null,
      "metadata": {
        "collapsed": true,
        "jupyter": {
          "source_hidden": false,
          "outputs_hidden": false
        },
        "nteract": {
          "transient": {
            "deleting": false
          }
        }
      }
    },
    {
      "cell_type": "code",
      "source": [
        "# Will use sklearn and statsmodels for model development and testing\n",
        "from sklearn import mixture\n",
        "from sklearn.cluster import OPTICS, cluster_optics_dbscan\n",
        "from sklearn.preprocessing import PolynomialFeatures\n",
        "from sklearn.cluster import MeanShift, estimate_bandwidth, MiniBatchKMeans, KMeans\n",
        "from sklearn.metrics.pairwise import pairwise_distances_argmin\n",
        "# from sklearn.datasets import make_blobs\n",
        "import statsmodels.api as sm"
      ],
      "outputs": [],
      "execution_count": null,
      "metadata": {
        "collapsed": true,
        "jupyter": {
          "source_hidden": false,
          "outputs_hidden": false
        },
        "nteract": {
          "transient": {
            "deleting": false
          }
        }
      }
    },
    {
      "cell_type": "code",
      "source": [
        "# Notebook display and formatting options\n",
        "# Represent pandas DataFrames as text; not HTML representation:\n",
        "import pandas as pd\n",
        "pd.set_option('display.notebook_repr_html', False)\n",
        "# Alter Jupyter option for the pretty display of variables\n",
        "from IPython.core.interactiveshell import InteractiveShell\n",
        "InteractiveShell.ast_node_interactivity = \"all\"\n",
        "# Import matplotlib and seaborn for plotting\n",
        "from matplotlib import pyplot as plt\n",
        "from matplotlib.colors import LogNorm   ### CAN WE GET RID OF THIS WITH SEABORN\n",
        "#  Generate plots inside notebook, \"inline\" generates static png\n",
        "%matplotlib inline\n",
        "# Use seaborn for to make matplotlib pretty and set the default theme styles\n",
        "import seaborn as sns\n",
        "sns.set_theme()\n",
        "sns.set_style(\"whitegrid\")"
      ],
      "outputs": [],
      "execution_count": null,
      "metadata": {
        "collapsed": true,
        "jupyter": {
          "source_hidden": false,
          "outputs_hidden": false
        },
        "nteract": {
          "transient": {
            "deleting": false
          }
        }
      }
    },
    {
      "cell_type": "markdown",
      "source": [
        "### Define Custom Functions"
      ],
      "metadata": {
        "nteract": {
          "transient": {
            "deleting": false
          }
        }
      }
    },
    {
      "cell_type": "code",
      "source": [
        "def getaxes(snsplt):\n",
        "    \"\"\"Returns list of matpotlib axes objects\n",
        "\n",
        "    Parameters\n",
        "    ----------\n",
        "    snsplt : seaborn plot\n",
        "        A reference to a seaborn plot that contains the axes\n",
        "\n",
        "    Returns\n",
        "    -------\n",
        "    [matplotlib.axes._subplots.AxesSubplot]\n",
        "        A list of axes objects\n",
        "    \"\"\"\n",
        "\n",
        "    # If only one plot, then snsplt.axes is a list of lists, so addressable\n",
        "    # via snsplt.axes[0][0]\n",
        "    if type(snsplt.axes[0]) == np.ndarray:\n",
        "            axobjs = snsplt.axes[0]\n",
        "    # If multiple plots, then it is a list of objects, so addressable via\n",
        "    # snsplt.axes[0]\n",
        "    else:\n",
        "        axobjs = snsplt.axes\n",
        "\n",
        "    return axobjs"
      ],
      "outputs": [],
      "execution_count": null,
      "metadata": {
        "collapsed": true,
        "jupyter": {
          "source_hidden": false,
          "outputs_hidden": false
        },
        "nteract": {
          "transient": {
            "deleting": false
          }
        }
      }
    },
    {
      "cell_type": "code",
      "source": [
        "def fmtticks(fmt, fmt0, ticks, tickscle, tickscle0):\n",
        "    \"\"\"Formats x and y axis tick labels for a seaborn plot\n",
        "\n",
        "    Parameters\n",
        "    ----------\n",
        "    fmt : str\n",
        "        The formatting string to use for all tick labels\n",
        "    fmt0 : str\n",
        "        The formatting string to use for only the first tick label\n",
        "    ticks : numpy.ndarray\n",
        "        1D array of tick labels to format\n",
        "    tickscle  : float, optional\n",
        "        Scale factor to apply to all tick labels e.g. if format string\n",
        "        is for a %, and the labels are in the range 0 to 100,\n",
        "        then numscle = 0.01 to change the range to 0 to 1\n",
        "    tickscle0 : float, optional\n",
        "        Scale factor to apply to only the first tick label\n",
        "\n",
        "    Returns\n",
        "    -------\n",
        "    list of str\n",
        "        List of formatted tick labels in string format\n",
        "    \"\"\"\n",
        "\n",
        "    tick0 = ticks[0]\n",
        "    lbls = [fmt.format(tick * tickscle) for tick in ticks]\n",
        "    lbl0 = fmt0.format(tick0 * tickscle0)\n",
        "    lbls[0] = lbl0\n",
        "\n",
        "    return lbls"
      ],
      "outputs": [],
      "execution_count": null,
      "metadata": {
        "collapsed": true,
        "jupyter": {
          "source_hidden": false,
          "outputs_hidden": false
        },
        "nteract": {
          "transient": {
            "deleting": false
          }
        }
      }
    },
    {
      "cell_type": "code",
      "source": [
        "def frmtaxislbls(snsplt, fmt: str='{:.0}', fmt0: str=':.0%',\n",
        "                 axis: str='x', tickscle: float=1.0, tickscle0: float=1.0):\n",
        "    \"\"\"Formats x and y axis tick labels for each axis on a seaborn plot\n",
        "\n",
        "    Parameters\n",
        "    ----------\n",
        "    snsplt : seaborn plot\n",
        "        A reference to a seaborn plot that contains the axis labels for\n",
        "        formatting\n",
        "    fmt : str, optional\n",
        "        The formatting string to use for all tick labels\n",
        "    fmt0 : str, optional\n",
        "        The formatting string to use for only the first tick label\n",
        "    axis : str, optional\n",
        "        Which axis to format, 'x' for horizontal, 'y' for vertical\n",
        "    numscle : float, optional\n",
        "        Scale factor to apply to all tick labels e.g. if format string\n",
        "        is for a %, and the labels are in the range 0 to 100,\n",
        "        then numscle = 0.01 to change the range to 0 to 1\n",
        "    numscle0 : float, optional\n",
        "        Scale factor to apply to only the first tick label\n",
        "\n",
        "    Returns\n",
        "    -------\n",
        "    Null\n",
        "    \"\"\"\n",
        "\n",
        "    axobjs = getaxes(snsplt)\n",
        "    if axis == 'x':\n",
        "        for ax in axobjs:\n",
        "            ticks = ax.get_xticks()\n",
        "            lbls = fmtticks(fmt, fmt0, ticks, tickscle, tickscle0)\n",
        "            snsplt.set_xticklabels(lbls)\n",
        "    elif axis == 'y':\n",
        "        for ax in axobjs:\n",
        "            ticks = ax.get_yticks()\n",
        "            lbls = fmtticks(fmt, fmt0, ticks, tickscle, tickscle0)\n",
        "            snsplt.set_yticklabels(lbls)\n",
        "\n",
        "    return"
      ],
      "outputs": [],
      "execution_count": null,
      "metadata": {
        "collapsed": true,
        "jupyter": {
          "source_hidden": false,
          "outputs_hidden": false
        },
        "nteract": {
          "transient": {
            "deleting": false
          }
        }
      }
    },
    {
      "cell_type": "code",
      "source": [
        "def snslmplot(data: pd.core.frame.DataFrame, xcol: str, ycol: str,\n",
        "              yidcol: str=None, degree: int=1, col_wrap: int=None,\n",
        "              title: str=None, axistitles: str=None):\n",
        "    \"\"\"Draws plot from data input with polynomial of order degree\n",
        "\n",
        "    Parameters\n",
        "    ----------\n",
        "    data : panda DataFrame\n",
        "        Panda melted data frame containing the data, m rows by 3 columns\n",
        "        The three columns are identified by the xcol, idcol, datacol function\n",
        "        parameters - see below\n",
        "    xcol : str\n",
        "        The name of the DataFrame column that contains data for the independent\n",
        "        variable i.e. x\n",
        "    ycol : str\n",
        "        The name of the DataFrame colum that contains the y data\n",
        "    yidcol : str, optional\n",
        "        The name of the DataFrame column that contains data identifying the y\n",
        "        data to select. For example, if the data has been melted from two\n",
        "        variables 'y1' and 'y2', this column would contain either 'y1' or 'y2'\n",
        "        to identify which rows pertain to the relevant y variable\n",
        "    degree : int, optional\n",
        "        The polynomial degree definition e.g. 2 for a quadratic polynomial\n",
        "    col_wrap : int, optional\n",
        "        The number of facets to display per row i.e. wrap on\n",
        "    title : str, optional\n",
        "        Title to include on the chart; can also be a list of strings\n",
        "    axistitles : str, optional\n",
        "        Title for each of the titles, x-axis first, y-axis second\n",
        "\n",
        "    Returns\n",
        "    -------\n",
        "    FacetGrid\n",
        "        The FacetGrid generated by seaborn\n",
        "    \"\"\"\n",
        "\n",
        "    snsfctgrid = sns.lmplot(data=data, x=xcol, y=ycol, col=yidcol, order=degree,\n",
        "                        col_wrap=col_wrap, aspect=1.333, palette=\"muted\")\n",
        "    snsfctgrid.despine(left=True)\n",
        "    frmtaxislbls(snsfctgrid, fmt='{:.2f}', fmt0='{:.2%}', axis='x',\n",
        "                 tickscle=1, tickscle0=0.01)\n",
        "    frmtaxislbls(snsfctgrid, fmt='{:.1f}', fmt0='{:.1%}', axis='y',\n",
        "                 tickscle=1, tickscle0=0.01)\n",
        "    plt.subplots_adjust(wspace = 0.1)\n",
        "\n",
        "    return snsfctgrid"
      ],
      "outputs": [],
      "execution_count": null,
      "metadata": {
        "collapsed": true,
        "jupyter": {
          "source_hidden": false,
          "outputs_hidden": false
        },
        "nteract": {
          "transient": {
            "deleting": false
          }
        }
      }
    },
    {
      "cell_type": "code",
      "source": [
        "def defnmodel(data: pd.core.frame.DataFrame, degree: int=1):\n",
        "    \"\"\"Defines a polynomial model for data x and y of order degree using\n",
        "    ordinary least squares regression based\n",
        "\n",
        "    Parameters\n",
        "    ----------\n",
        "    data : panda DataFrame\n",
        "        Panda data frame containing the data, m rows by 2 columns with the\n",
        "        first column containing the independent variable (i.e. x) and the second\n",
        "        column containing the dependent variable (i.e. y)\n",
        "    degree : int, optional\n",
        "        The polynomial degree definition e.g. 1 for linear, 2 for a\n",
        "        quadractic polynomial\n",
        "\n",
        "    Returns\n",
        "    -------\n",
        "    xp : numpy array\n",
        "        Array of degree columns containing the polynomial features e.g. for a 2\n",
        "        degree polynomial, features are [1, a, b, a^2, ab, b^2]\n",
        "    yarray : numpy array\n",
        "        Array of dependent variable data\n",
        "    modelresults : sm ols model fit results\n",
        "        Ordinary least squares regression model produced by statsmodels with\n",
        "        results\n",
        "    poly1d_fn : numpy poly1d\n",
        "        the polynomial definition e.g. x**2 + 2*x + 3\n",
        "    \"\"\"\n",
        "\n",
        "    xcol = 0\n",
        "    ycol = 1\n",
        "    polyFeatures = PolynomialFeatures(degree) # Define the polynomial\n",
        "    # Reshape data from 1 by n to n by 1\n",
        "    xarray = np.array(data.iloc[:, xcol])\n",
        "    xarray = xarray[:, np.newaxis]\n",
        "\n",
        "    # Calculate polynomials for x\n",
        "    xp = polyFeatures.fit_transform(xarray)\n",
        "\n",
        "    # Reshape y from 1 by n to n by 1\n",
        "    yarray = np.array(data.iloc[:, ycol])\n",
        "    yarray = yarray[:, np.newaxis]\n",
        "\n",
        "    # Calculate the model and predictions\n",
        "    modelresults = sm.OLS(yarray, xp).fit()\n",
        "    coef = modelresults.params.tolist()    # Model coefficients\n",
        "    coef.reverse()                  # Reverse as poly1d takes in decline order\n",
        "    poly1d_fn = np.poly1d(coef)     # Create function from coefficients\n",
        "\n",
        "    return xp, yarray, modelresults, poly1d_fn"
      ],
      "outputs": [],
      "execution_count": null,
      "metadata": {
        "collapsed": true,
        "jupyter": {
          "source_hidden": false,
          "outputs_hidden": false
        },
        "nteract": {
          "transient": {
            "deleting": false
          }
        }
      }
    },
    {
      "cell_type": "code",
      "source": [
        "def dispmodel(data: pd.core.frame.DataFrame, degree: int=1):\n",
        "    \"\"\"Displays summary statistics and regression results for polynomial model\n",
        "    or order 'degree'\n",
        "\n",
        "    Parameters\n",
        "    ----------\n",
        "    data : panda DataFrame\n",
        "        Panda data frame containing the data, m rows by 2 columns with the\n",
        "        first column containing the independent variable (i.e. x) and the second\n",
        "        column containing the dependent variable (i.e. y)\n",
        "    degree : int, optional\n",
        "        The polynomial degree definition e.g. 1 for linear, 2 for a\n",
        "        quadratic polynomial\n",
        "\n",
        "    Returns\n",
        "    -------\n",
        "    Null\n",
        "    \"\"\"\n",
        "\n",
        "    xcol = 0\n",
        "    ycol = 1\n",
        "\n",
        "    xp, yarray, modelresults, poly1d_fn = defnmodel(data, degree)\n",
        "    print(\" ::  FIRST variable (x):\")\n",
        "    print(data.iloc[:, xcol].describe(), '\\n')\n",
        "    print(\" ::  SECOND variable (y):\")\n",
        "    print(data.iloc[:, ycol].describe(), '\\n')\n",
        "    print(modelresults.summary())\n",
        "\n",
        "    return"
      ],
      "outputs": [],
      "execution_count": null,
      "metadata": {
        "collapsed": true,
        "jupyter": {
          "source_hidden": false,
          "outputs_hidden": false
        },
        "nteract": {
          "transient": {
            "deleting": false
          }
        }
      }
    },
    {
      "cell_type": "markdown",
      "source": [
        "## 1. Retrieve Data, Determine Appropriate Start and End Dates for Analysis"
      ],
      "metadata": {
        "nteract": {
          "transient": {
            "deleting": false
          }
        }
      }
    },
    {
      "cell_type": "code",
      "source": [
        "# Get gold and inflation rates, both as monthly frequency\n",
        "# Notes: fecon236 uses median to resample (instead of say mean) and also\n",
        "# replaces FRED empty data (marked with a \".\") with data from previously\n",
        "# occurring period; These adjustments will drive some small differences to\n",
        "# the analysis on the FRED blog\n",
        "# Daily London AM gold fix, nominal USD, converted to monthly\n",
        "gold_usdnom = fe.monthly(fe.get('GOLDAMGBD228NLBM'))\n",
        "# Daily London PM gold fix, nominal USD, converted to monthly\n",
        "# gold_usdnom = fe.get(fe.m4xau)\n",
        "# Percentage calculation for month on month i.e. frequency = 1\n",
        "freq = 1\n",
        "gold_usdnom_pc = fe.nona(fe.pcent(gold_usdnom, freq))"
      ],
      "outputs": [],
      "execution_count": null,
      "metadata": {
        "collapsed": true,
        "jupyter": {
          "source_hidden": false,
          "outputs_hidden": false
        },
        "nteract": {
          "transient": {
            "deleting": false
          }
        }
      }
    },
    {
      "cell_type": "code",
      "source": [
        "# Inflation in use\n",
        "infcode = fe.m4cpi      # FRED code 'CPIAUCSL'\n",
        "# infcode = fe.m4pce    # FRED code 'PCEPI'\n",
        "# Synthetic average of 'CPIAUCSL', 'CPILFESL', 'PCEPI', 'CPILFESL'\n",
        "# infcode = fe.m4infl\n",
        "infidx = fe.get (fe.m4cpi)        # Returns the index, not percentage change\n",
        "inf_pc = fe.nona(fe.pcent(infidx, freq))"
      ],
      "outputs": [],
      "execution_count": null,
      "metadata": {
        "collapsed": true,
        "jupyter": {
          "source_hidden": false,
          "outputs_hidden": false
        },
        "nteract": {
          "transient": {
            "deleting": false
          }
        }
      }
    },
    {
      "cell_type": "code",
      "source": [
        "# Gold with USD inflation removed i.e. in real USD\n",
        "# First, calculate rebased inflation index\n",
        "inf_basedate = '2020-08-01'              # The base date for our index\n",
        "inf_base = infidx['Y'][inf_basedate]\n",
        "infidx_rebased = fe.div(infidx, inf_base)"
      ],
      "outputs": [],
      "execution_count": null,
      "metadata": {
        "collapsed": true,
        "jupyter": {
          "source_hidden": false,
          "outputs_hidden": false
        },
        "nteract": {
          "transient": {
            "deleting": false
          }
        }
      }
    },
    {
      "cell_type": "code",
      "source": [
        "# Find the first and last overlapping dates for the two data series where\n",
        "# we are using values\n",
        "startv = max(fe.head(gold_usdnom, 1).index[0], fe.head(infidx, 1).index[0])\n",
        "endv = min(fe.tail(gold_usdnom, 1).index[0], fe.tail(infidx, 1).index[0])"
      ],
      "outputs": [],
      "execution_count": null,
      "metadata": {
        "collapsed": true,
        "jupyter": {
          "source_hidden": false,
          "outputs_hidden": false
        },
        "nteract": {
          "transient": {
            "deleting": false
          }
        }
      }
    },
    {
      "cell_type": "code",
      "source": [
        "# Calculate the real gold price\n",
        "gold_usdrl = fe.div(gold_usdnom.loc[startv:endv],\n",
        "                    infidx_rebased.loc[startv:endv])\n",
        "gold_usdrl_pc = fe.nona(fe.pcent(gold_usdrl, freq))"
      ],
      "outputs": [],
      "execution_count": null,
      "metadata": {
        "collapsed": true,
        "jupyter": {
          "source_hidden": false,
          "outputs_hidden": false
        },
        "nteract": {
          "transient": {
            "deleting": false
          }
        }
      }
    },
    {
      "cell_type": "code",
      "source": [
        "# Find the first and last overlapping dates for the two data series where we\n",
        "# are using month on month percentage change\n",
        "startpc = max(fe.head(gold_usdrl_pc, 1).index[0], fe.head(inf_pc, 1).index[0])\n",
        "endpc = min(fe.tail(gold_usdrl_pc, 1).index[0], fe.tail(inf_pc, 1).index[0])"
      ],
      "outputs": [],
      "execution_count": null,
      "metadata": {
        "collapsed": true,
        "jupyter": {
          "source_hidden": false,
          "outputs_hidden": false
        },
        "nteract": {
          "transient": {
            "deleting": false
          }
        }
      }
    },
    {
      "cell_type": "markdown",
      "source": [
        "## 2. Plot and Review Time Series of Monthly Inflation and Gold Price Levels"
      ],
      "metadata": {
        "nteract": {
          "transient": {
            "deleting": false
          }
        }
      }
    },
    {
      "cell_type": "code",
      "source": [
        "# TODO: Plot time series charts: nominal au in USD vs inf index, real au in USD vs inf index"
      ],
      "outputs": [],
      "execution_count": null,
      "metadata": {
        "collapsed": true,
        "jupyter": {
          "source_hidden": false,
          "outputs_hidden": false
        },
        "nteract": {
          "transient": {
            "deleting": false
          }
        }
      }
    },
    {
      "cell_type": "code",
      "source": [
        "# TODO: Plot time series charts: change in: nominal au vs inf, real au vs inf"
      ],
      "outputs": [],
      "execution_count": null,
      "metadata": {
        "collapsed": true,
        "jupyter": {
          "source_hidden": false,
          "outputs_hidden": false
        },
        "nteract": {
          "transient": {
            "deleting": false
          }
        }
      }
    },
    {
      "cell_type": "markdown",
      "source": [
        "## 3. Plot and Review Change in Inflation and Gold Price Levels\n",
        "### 3.1 Monthly Data"
      ],
      "metadata": {
        "nteract": {
          "transient": {
            "deleting": false
          }
        }
      }
    },
    {
      "cell_type": "code",
      "source": [
        "# Nominal USD data\n",
        "mom_npc = pd.concat([inf_pc[startpc:endpc],\n",
        "                    gold_usdnom_pc[startpc:endpc]], axis=1)\n",
        "inf_pc_colnm = 'Monthly Change in Inflation'\n",
        "gold_usdnom_pc_colnm = 'Monthly Change in Gold Price (Nom. USD)'\n",
        "mom_npc.columns = [inf_pc_colnm, gold_usdnom_pc_colnm]"
      ],
      "outputs": [],
      "execution_count": null,
      "metadata": {
        "collapsed": true,
        "jupyter": {
          "source_hidden": false,
          "outputs_hidden": false
        },
        "nteract": {
          "transient": {
            "deleting": false
          }
        }
      }
    },
    {
      "cell_type": "code",
      "source": [
        "# Real USD data\n",
        "mom_rpc = pd.concat([inf_pc[startpc:endpc],\n",
        "                     gold_usdrl_pc[startpc:endpc]], axis=1)\n",
        "gold_usdrl_pc_colnm = 'Monthly Change in Gold Price (Real USD)'\n",
        "mom_rpc.columns = [inf_pc_colnm, gold_usdrl_pc_colnm]"
      ],
      "outputs": [],
      "execution_count": null,
      "metadata": {
        "collapsed": true,
        "jupyter": {
          "source_hidden": false,
          "outputs_hidden": false
        },
        "nteract": {
          "transient": {
            "deleting": false
          }
        }
      }
    },
    {
      "cell_type": "code",
      "source": [
        "# *Melt* the data together so we can display the charts side-by-side\n",
        "mom_pc = mom_npc.join(mom_rpc.loc[:, mom_rpc.columns != inf_pc_colnm],\n",
        "                      how='inner', sort=True)\n",
        "mom_pc = pd.melt(mom_pc,\n",
        "                 id_vars=inf_pc_colnm,\n",
        "                 value_vars=[gold_usdnom_pc_colnm, gold_usdrl_pc_colnm])\n",
        "norrl_colnm = 'Nominal or Real'\n",
        "aupc_colnm = 'Monthly Change in Gold Price'\n",
        "mom_pc.columns = [inf_pc_colnm,\n",
        "                  norrl_colnm, aupc_colnm]"
      ],
      "outputs": [],
      "execution_count": null,
      "metadata": {
        "collapsed": true,
        "jupyter": {
          "source_hidden": false,
          "outputs_hidden": false
        },
        "nteract": {
          "transient": {
            "deleting": false
          }
        }
      }
    },
    {
      "cell_type": "code",
      "source": [
        "# Display the charts\n",
        "snsfcg_mom = snslmplot(data=mom_pc, xcol=inf_pc_colnm, ycol=aupc_colnm,\n",
        "                       yidcol=norrl_colnm, degree=1, col_wrap=2)\n",
        "mom_pc_title_tmplte = ' vs. Inflation {} to {}'\n",
        "mom_pc_title_tmplte =  mom_pc_title_tmplte.format(startpc.strftime(\"%b %Y\"),\n",
        "                                                  endpc.strftime(\"%b %Y\"))\n",
        "snsfcg_mom = snsfcg_mom.set_titles(col_template=\"{col_name}\" + mom_pc_title_tmplte)"
      ],
      "outputs": [],
      "execution_count": null,
      "metadata": {
        "collapsed": true,
        "jupyter": {
          "source_hidden": false,
          "outputs_hidden": false
        },
        "nteract": {
          "transient": {
            "deleting": false
          }
        }
      }
    },
    {
      "cell_type": "markdown",
      "source": [
        "2020-09-15: The regression analysis shows a relationship\n",
        "(t-stat 2.245), with a 1% increase in inflation having a 1.3573% increase in\n",
        "the real price of gold. However, the adj. r-squared is only 0.006, indicating\n",
        "there are many other factors at play that influence the change in gold prices.\n",
        "2020-09-15: The regression analysis shows a strong relationship\n",
        "(t-stat 3.896), however we need to remove the inflation contained in the\n",
        "nominal gold price"
      ],
      "metadata": {
        "nteract": {
          "transient": {
            "deleting": false
          }
        }
      }
    },
    {
      "cell_type": "markdown",
      "source": [
        "### 3.2 Yearly Data"
      ],
      "metadata": {
        "nteract": {
          "transient": {
            "deleting": false
          }
        }
      }
    },
    {
      "cell_type": "code",
      "source": [
        "# Change percentage calculation to every 12 months\n",
        "freq = 12\n",
        "gold_usdrl_apc = fe.nona(fe.pcent(gold_usdrl, freq))\n",
        "inf_apc = fe.nona(fe.pcent(infidx, freq))"
      ],
      "outputs": [],
      "execution_count": null,
      "metadata": {
        "collapsed": true,
        "jupyter": {
          "source_hidden": false,
          "outputs_hidden": false
        },
        "nteract": {
          "transient": {
            "deleting": false
          }
        }
      }
    },
    {
      "cell_type": "code",
      "source": [
        "# Find the first and last overlapping dates for the two data series\n",
        "startapc = max(fe.head(gold_usdrl_apc, 1).index[0], fe.head(inf_apc, 1).index[0])\n",
        "endapc = min(fe.tail(gold_usdrl_apc, 1).index[0], fe.tail(inf_apc, 1).index[0])"
      ],
      "outputs": [],
      "execution_count": null,
      "metadata": {
        "collapsed": true,
        "jupyter": {
          "source_hidden": false,
          "outputs_hidden": false
        },
        "nteract": {
          "transient": {
            "deleting": false
          }
        }
      }
    },
    {
      "cell_type": "code",
      "source": [
        "# Show same analysis as above\n",
        "yoy_rpc = pd.concat([inf_apc[startapc:endapc],\n",
        "                     gold_usdrl_apc[startapc:endapc]], axis=1)\n",
        "inf_apc_colnm = 'Yearly Inflation'\n",
        "gold_usdrl_apc_colnm = 'Yearly Change in Gold Price (Real USD)'\n",
        "yoy_rpc.columns = [inf_apc_colnm, gold_usdrl_apc_colnm]"
      ],
      "outputs": [],
      "execution_count": null,
      "metadata": {
        "collapsed": true,
        "jupyter": {
          "source_hidden": false,
          "outputs_hidden": false
        },
        "nteract": {
          "transient": {
            "deleting": false
          }
        }
      }
    },
    {
      "cell_type": "code",
      "source": [
        "# Display the chart\n",
        "snsfcg_yoy = snslmplot(data=yoy_rpc, xcol=inf_apc_colnm,\n",
        "                       ycol=gold_usdrl_apc_colnm, degree=1)\n",
        "yoy_pc_title_tmplte = 'Yearly Change in Gold Price (Real USD) vs. Inflation {} to {}'\n",
        "yoy_pc_title_tmplte =  yoy_pc_title_tmplte.format(startapc.strftime(\"%b %Y\"),\n",
        "                                                  endapc.strftime(\"%b %Y\"))\n",
        "# snsfcg_yoy = snsfcg_yoy.set_titles(col_template=\"{col_name}\" + yoy_pc_title_tmplte)\n",
        "for ax in snsfcg_yoy.axes.flat:\n",
        "    gax = ax.set_title(yoy_pc_title_tmplte)"
      ],
      "outputs": [],
      "execution_count": null,
      "metadata": {
        "collapsed": true,
        "jupyter": {
          "source_hidden": false,
          "outputs_hidden": false
        },
        "nteract": {
          "transient": {
            "deleting": false
          }
        }
      }
    },
    {
      "cell_type": "markdown",
      "source": [
        "2020-09-15: The regression analysis shows a relationship\n",
        "(t-stat 8.119), with a 1% increase in inflation having a 2.5554% increase in\n",
        "the real price of gold; the adj. r-squared has increased slightly to 0.095, so\n",
        "still many other factors at play in determining the gold price\n",
        "\n",
        "Another way to consider this is, yes gold may hedge inflation, but with so\n",
        "many other (so far unknown) factors impacting the price of gold, there is lot\n",
        "of risk in using gold to purely hedge inflation\n",
        "\n",
        "Potentially there is greater movement in the gold price when the inflation\n",
        "change is > ~8%"
      ],
      "metadata": {
        "nteract": {
          "transient": {
            "deleting": false
          }
        }
      }
    },
    {
      "cell_type": "markdown",
      "source": [
        "### 3.3 Yearly Data with Higher Order Polynomials"
      ],
      "metadata": {
        "nteract": {
          "transient": {
            "deleting": false
          }
        }
      }
    },
    {
      "cell_type": "code",
      "source": [
        "for deg in range(2, 6):\n",
        "    snsfcg_yoy = snslmplot(data=yoy_rpc, xcol=inf_apc_colnm,\n",
        "                           ycol=gold_usdrl_apc_colnm, degree=deg)\n",
        "    for ax in snsfcg_yoy.axes.flat:\n",
        "        gax = ax.set_title('Polynomial Order: {0}'.format(deg))"
      ],
      "outputs": [],
      "execution_count": null,
      "metadata": {
        "collapsed": true,
        "jupyter": {
          "source_hidden": false,
          "outputs_hidden": false
        },
        "nteract": {
          "transient": {
            "deleting": false
          }
        }
      }
    },
    {
      "cell_type": "code",
      "source": [
        "# TODO: Change plotting method so that each plot is a subplot...use custom\n",
        "# function with map? ref: https://seaborn.pydata.org/generated/seaborn.FacetGrid.html"
      ],
      "outputs": [],
      "execution_count": null,
      "metadata": {
        "collapsed": true,
        "jupyter": {
          "source_hidden": false,
          "outputs_hidden": false
        },
        "nteract": {
          "transient": {
            "deleting": false
          }
        }
      }
    },
    {
      "cell_type": "markdown",
      "source": [
        "2020-09-15: For `degree = 2` We show a stronger relationship (higher t-stats\n",
        "and adj. r-squared of 0.212), however it is not clear why a quadratic\n",
        "equation is an appropriate relationship between inflation and gold prices"
      ],
      "metadata": {
        "nteract": {
          "transient": {
            "deleting": false
          }
        }
      }
    },
    {
      "cell_type": "markdown",
      "source": [
        "2020-09-15: For `degree = 3`, relationship is weaker and not interesting"
      ],
      "metadata": {
        "nteract": {
          "transient": {
            "deleting": false
          }
        }
      }
    },
    {
      "cell_type": "markdown",
      "source": [
        "2020-09-15: For `degree = 4`, relationship is even weaker and not interesting"
      ],
      "metadata": {
        "nteract": {
          "transient": {
            "deleting": false
          }
        }
      }
    },
    {
      "cell_type": "markdown",
      "source": [
        "2020-09-15: For `degree = 5`, now relationships are unidentifiable"
      ],
      "metadata": {
        "nteract": {
          "transient": {
            "deleting": false
          }
        }
      }
    },
    {
      "cell_type": "markdown",
      "source": [
        "## 4 Cluster Analysis"
      ],
      "metadata": {
        "nteract": {
          "transient": {
            "deleting": false
          }
        }
      }
    },
    {
      "cell_type": "code",
      "source": [
        "# Create NumPy array to hold data\n",
        "apc_npa = np.column_stack((inf_apc['Y'][startapc:endapc], gold_usdrl_apc['Y'][startapc:endapc]))"
      ],
      "outputs": [],
      "execution_count": null,
      "metadata": {
        "collapsed": true,
        "jupyter": {
          "source_hidden": false,
          "outputs_hidden": false
        },
        "nteract": {
          "transient": {
            "deleting": false
          }
        }
      }
    },
    {
      "cell_type": "markdown",
      "source": [
        "### 4.1 Expectation-Maximization"
      ],
      "metadata": {
        "nteract": {
          "transient": {
            "deleting": false
          }
        }
      }
    },
    {
      "cell_type": "code",
      "source": [
        "# fit a GMM\n",
        "n_components = 3\n",
        "gmmmdl = mixture.GaussianMixture(n_components=n_components, covariance_type='full')\n",
        "gmmmdl.fit(apc_npa)\n",
        "# display predicted scores by the model as a contour plot\n",
        "xln = np.linspace(math.floor(min(apc_npa[:, 0])), math.ceil(max(apc_npa[:, 0])))\n",
        "yln = np.linspace(math.floor(min(apc_npa[:, 1])), math.ceil(max(apc_npa[:, 1])))\n",
        "Xln, Yln = np.meshgrid(xln, yln)\n",
        "XX = np.array([Xln.ravel(), Yln.ravel()]).T\n",
        "Zln = -gmmmdl.score_samples(XX)\n",
        "Zln = Zln.reshape(Xln.shape);"
      ],
      "outputs": [],
      "execution_count": null,
      "metadata": {
        "collapsed": true,
        "jupyter": {
          "source_hidden": false,
          "outputs_hidden": false
        },
        "nteract": {
          "transient": {
            "deleting": false
          }
        }
      }
    },
    {
      "cell_type": "code",
      "source": [
        "# Create and display the plot\n",
        "fig = plt.figure(figsize=(12, 9))\n",
        "CS = plt.contour(Xln, Yln, Zln, norm=LogNorm(vmin=1, vmax=100.0),\n",
        "                 levels=np.logspace(0, 2, 25));\n",
        "CB = plt.colorbar(CS, shrink=0.8);\n",
        "g = plt.scatter(apc_npa[:, 0], apc_npa[:, 1], .8);\n",
        "plt.show()\n",
        "# TODO: Label axes\n",
        "# TODO: Add title\n",
        "# TODO: Do for n_components = [2, 3, 4, 6, 10]\n",
        "# TODO: For multiple n_components, draw as subplots"
      ],
      "outputs": [],
      "execution_count": null,
      "metadata": {
        "collapsed": true,
        "jupyter": {
          "source_hidden": false,
          "outputs_hidden": false
        },
        "nteract": {
          "transient": {
            "deleting": false
          }
        }
      }
    },
    {
      "cell_type": "markdown",
      "source": [
        "2020-09-15: For `n_components = 2`, GMM essentially places a high likelihood\n",
        "around the cluster of data centred on [3, 0] and doesn't pay much attention\n",
        "to the rest. Not until `n_components ~ 10` does GMM lend any importance to\n",
        "the data points in the upper left i.e. where this is a high change in\n",
        "inflation and gold prices"
      ],
      "metadata": {
        "nteract": {
          "transient": {
            "deleting": false
          }
        }
      }
    },
    {
      "cell_type": "markdown",
      "source": [
        "### 4.2 K-Means"
      ],
      "metadata": {
        "nteract": {
          "transient": {
            "deleting": false
          }
        }
      }
    },
    {
      "cell_type": "code",
      "source": [
        "# Compute the clustering with k-means\n",
        "n_clusters = 4\n",
        "apc_kmeans = KMeans(init='k-means++', n_clusters=n_clusters, n_init=10).fit(apc_npa)\n",
        "k_means_cluster_centers = apc_kmeans.cluster_centers_\n",
        "k_means_labels = pairwise_distances_argmin(apc_npa, k_means_cluster_centers)"
      ],
      "outputs": [],
      "execution_count": null,
      "metadata": {
        "collapsed": true,
        "jupyter": {
          "source_hidden": false,
          "outputs_hidden": false
        },
        "nteract": {
          "transient": {
            "deleting": false
          }
        }
      }
    },
    {
      "cell_type": "code",
      "source": [
        "# Plot the results\n",
        "colours = sns.color_palette('muted')\n",
        "g = plt.figure(figsize=(12, 9))\n",
        "for k, col in zip(range(n_clusters), colours):\n",
        "    my_members = k_means_labels == k\n",
        "    cluster_center = k_means_cluster_centers[k]\n",
        "    g = plt.plot(apc_npa[my_members, 0], apc_npa[my_members, 1], 'w',\n",
        "            markerfacecolor=col, marker='.')\n",
        "    g = plt.plot(cluster_center[0], cluster_center[1], 'o', markerfacecolor=col,\n",
        "            markeredgecolor='k', markersize=6)\n",
        "# TODO: Label axes\n",
        "# TODO: Add title\n",
        "# TODO: Do for n_clusters = [2, 3, 4, 5]\n",
        "# TODO: For multiple n_clusters, draw as subplots"
      ],
      "outputs": [],
      "execution_count": null,
      "metadata": {
        "collapsed": true,
        "jupyter": {
          "source_hidden": false,
          "outputs_hidden": false
        },
        "nteract": {
          "transient": {
            "deleting": false
          }
        }
      }
    },
    {
      "cell_type": "markdown",
      "source": [
        "2020-09-15: For `n_clusters = 2`, k-means splits the data essentially along\n",
        "horizontal axis, separating when the gold price change into two halves of\n",
        "when it is positive vs. negative. For `n_clusters = 3`, the data is further\n",
        "dissected along a horizontal line for gold change at approximately 50%.\n",
        "A similar trend occurs for `n_clusters = 4` with a further horizontal\n",
        "bisection. In summary, it is not obvious that horizontal clustering provides\n",
        "any insight into the gold vs. inflation relationship"
      ],
      "metadata": {
        "nteract": {
          "transient": {
            "deleting": false
          }
        }
      }
    },
    {
      "cell_type": "markdown",
      "source": [
        "### 4.3 OPTICS"
      ],
      "metadata": {
        "nteract": {
          "transient": {
            "deleting": false
          }
        }
      }
    },
    {
      "cell_type": "code",
      "source": [
        "# Define fit parameters\n",
        "clust = OPTICS(min_samples=5, xi=0.05, min_cluster_size=0.05)\n",
        "# Run the fit\n",
        "clust.fit(apc_npa)\n",
        "eps = 2.0\n",
        "labels_200 = cluster_optics_dbscan(reachability=clust.reachability_,\n",
        "                                   core_distances=clust.core_distances_,\n",
        "                                   ordering=clust.ordering_, eps=eps);"
      ],
      "outputs": [],
      "execution_count": null,
      "metadata": {
        "collapsed": true,
        "jupyter": {
          "source_hidden": false,
          "outputs_hidden": false
        },
        "nteract": {
          "transient": {
            "deleting": false
          }
        }
      }
    },
    {
      "cell_type": "code",
      "source": [
        "# Create and display the plot using OPTICS\n",
        "fit = plt.figure(figsize=(12, 9))\n",
        "ax1 = plt.subplot(121)\n",
        "ax2 = plt.subplot(122)\n",
        "for klass, color in zip(range(0, 5), colors):\n",
        "    apc_npak = apc_npa[clust.labels_ == klass]\n",
        "    g = ax1.plot(apc_npak[:, 0], apc_npak[:, 1], color=color, marker='o',\n",
        "             ls='', alpha=0.3);\n",
        "\n",
        "g = ax1.plot(apc_npa[clust.labels_ == -1, 0],\n",
        "         apc_npa[clust.labels_ == -1, 1], 'k+', alpha=0.1);\n",
        "title = ax1.set_title('Automatic Clustering: OPTICS')\n",
        "# plt.show()\n",
        "# DBSCAN at eps=2.\n",
        "for klass, color in zip(range(0, 4), colors):\n",
        "    apc_npak = apc_npa[labels_200 == klass]\n",
        "    g = ax2.plot(apc_npak[:, 0], apc_npak[:, 1], color=color, marker='o',\n",
        "             ls='', alpha=0.3)\n",
        "g = ax2.plot(apc_npa[labels_200 == -1, 0], apc_npa[labels_200 == -1, 1],\n",
        "         'k+', alpha=0.1);\n",
        "title = 'Clustering at {0:.2f} epsilon cut: DBSCAN'.format(eps)\n",
        "g = ax2.set_title(title)\n",
        "plt.show()\n",
        "# TODO: Label axes\n",
        "# TODO: Do for eps = [0.5, 2]\n",
        "# TODO: To explore and understand significance of changing min_samples=5,\n",
        "# xi=0.05, min_cluster_size=0.05"
      ],
      "outputs": [],
      "execution_count": null,
      "metadata": {
        "collapsed": true,
        "jupyter": {
          "source_hidden": false,
          "outputs_hidden": false
        },
        "nteract": {
          "transient": {
            "deleting": false
          }
        }
      }
    },
    {
      "cell_type": "markdown",
      "source": [
        "2020-09-15: So similar to previous methods, clustering appears as horizontal\n",
        "bisections"
      ],
      "metadata": {
        "nteract": {
          "transient": {
            "deleting": false
          }
        }
      }
    },
    {
      "cell_type": "markdown",
      "source": [
        "### 4.4 Mean-Shift (MS)"
      ],
      "metadata": {
        "nteract": {
          "transient": {
            "deleting": false
          }
        }
      }
    },
    {
      "cell_type": "code",
      "source": [
        "# Calculate the MS\n",
        "bandwidth = estimate_bandwidth(apc_npa, quantile=0.25)\n",
        "apc_ms = MeanShift(bandwidth=bandwidth, bin_seeding=True)\n",
        "apc_ms.fit(apc_npa)\n",
        "labels = apc_ms.labels_\n",
        "cluster_centers = apc_ms.cluster_centers_\n",
        "labels_unique = np.unique(labels)\n",
        "n_clusters_ = len(labels_unique);"
      ],
      "outputs": [],
      "execution_count": null,
      "metadata": {
        "collapsed": true,
        "jupyter": {
          "source_hidden": false,
          "outputs_hidden": false
        },
        "nteract": {
          "transient": {
            "deleting": false
          }
        }
      }
    },
    {
      "cell_type": "code",
      "source": [
        "# Plot result\n",
        "fig = plt.figure(figsize=(12, 9));\n",
        "for k, color in zip(range(n_clusters_), colors):\n",
        "    my_members = labels == k\n",
        "    cluster_center = cluster_centers[k]\n",
        "    g = plt.plot(apc_npa[my_members, 0], apc_npa[my_members, 1], color=color,\n",
        "             marker='o', ls='', alpha=0.3)\n",
        "    g = plt.plot(cluster_center[0], cluster_center[1], 'o', markerfacecolor=color,\n",
        "             markeredgecolor='k', markersize=14)\n",
        "title = plt.title('Estimated number of clusters: {}'.format(n_clusters_))\n",
        "plt.show()\n",
        "# TODO: Label axes\n",
        "# TODO: Add title\n",
        "# TODO: Do for quantile = [0.05, 0.1, 0.2, 0.25, 0.4]\n",
        "# TODO: For multiple quantile, draw as subplots"
      ],
      "outputs": [],
      "execution_count": null,
      "metadata": {
        "collapsed": true,
        "jupyter": {
          "source_hidden": false,
          "outputs_hidden": false
        },
        "nteract": {
          "transient": {
            "deleting": false
          }
        }
      }
    },
    {
      "cell_type": "markdown",
      "source": [
        "2020-09-15: And so the same story continues, clustering appears as horizontal\n",
        "bisections"
      ],
      "metadata": {
        "nteract": {
          "transient": {
            "deleting": false
          }
        }
      }
    },
    {
      "cell_type": "markdown",
      "source": [
        "## Appendices\n",
        "### A.1 Inflation vs. nominal gold prices, monthly, polynomial order = 1"
      ],
      "metadata": {
        "nteract": {
          "transient": {
            "deleting": false
          }
        }
      }
    },
    {
      "cell_type": "code",
      "source": [
        "dispmodel(mom_npc)"
      ],
      "outputs": [],
      "execution_count": null,
      "metadata": {
        "collapsed": true,
        "jupyter": {
          "source_hidden": false,
          "outputs_hidden": false
        },
        "nteract": {
          "transient": {
            "deleting": false
          }
        }
      }
    },
    {
      "cell_type": "markdown",
      "source": [
        "### A.2 Inflation vs. real gold prices, monthly, polynomial order = 1"
      ],
      "metadata": {
        "nteract": {
          "transient": {
            "deleting": false
          }
        }
      }
    },
    {
      "cell_type": "code",
      "source": [
        "dispmodel(mom_rpc)"
      ],
      "outputs": [],
      "execution_count": null,
      "metadata": {
        "collapsed": true,
        "jupyter": {
          "source_hidden": false,
          "outputs_hidden": false
        },
        "nteract": {
          "transient": {
            "deleting": false
          }
        }
      }
    },
    {
      "cell_type": "markdown",
      "source": [
        "### A.3 Inflation vs. real gold prices, yearly, polynomial order = 1"
      ],
      "metadata": {
        "nteract": {
          "transient": {
            "deleting": false
          }
        }
      }
    },
    {
      "cell_type": "code",
      "source": [
        "dispmodel(mom_npc)"
      ],
      "outputs": [],
      "execution_count": null,
      "metadata": {
        "collapsed": true,
        "jupyter": {
          "source_hidden": false,
          "outputs_hidden": false
        },
        "nteract": {
          "transient": {
            "deleting": false
          }
        }
      }
    },
    {
      "cell_type": "markdown",
      "source": [
        "### A.4 Inflation vs. real gold prices, yearly, polynomial order = 2"
      ],
      "metadata": {
        "nteract": {
          "transient": {
            "deleting": false
          }
        }
      }
    },
    {
      "cell_type": "code",
      "source": [
        "dispmodel(mom_npc, degree=2)"
      ],
      "outputs": [],
      "execution_count": null,
      "metadata": {
        "collapsed": true,
        "jupyter": {
          "source_hidden": false,
          "outputs_hidden": false
        },
        "nteract": {
          "transient": {
            "deleting": false
          }
        }
      }
    },
    {
      "cell_type": "markdown",
      "source": [
        "### A.5 Inflation vs. real gold prices, yearly, polynomial order = 3"
      ],
      "metadata": {
        "nteract": {
          "transient": {
            "deleting": false
          }
        }
      }
    },
    {
      "cell_type": "code",
      "source": [
        "dispmodel(mom_npc, degree=3)"
      ],
      "outputs": [],
      "execution_count": null,
      "metadata": {
        "collapsed": true,
        "jupyter": {
          "source_hidden": false,
          "outputs_hidden": false
        },
        "nteract": {
          "transient": {
            "deleting": false
          }
        }
      }
    },
    {
      "cell_type": "markdown",
      "source": [
        "### A.6 Inflation vs. real gold prices, yearly, polynomial order = 4"
      ],
      "metadata": {
        "nteract": {
          "transient": {
            "deleting": false
          }
        }
      }
    },
    {
      "cell_type": "code",
      "source": [
        "dispmodel(mom_npc, degree=4)"
      ],
      "outputs": [],
      "execution_count": null,
      "metadata": {
        "collapsed": true,
        "jupyter": {
          "source_hidden": false,
          "outputs_hidden": false
        },
        "nteract": {
          "transient": {
            "deleting": false
          }
        }
      }
    },
    {
      "cell_type": "markdown",
      "source": [
        "### A.7 Inflation vs. real gold prices, yearly, polynomial order = 5"
      ],
      "metadata": {
        "nteract": {
          "transient": {
            "deleting": false
          }
        }
      }
    },
    {
      "cell_type": "code",
      "source": [
        "dispmodel(mom_npc, degree=5)"
      ],
      "outputs": [],
      "execution_count": null,
      "metadata": {
        "collapsed": true,
        "jupyter": {
          "source_hidden": false,
          "outputs_hidden": false
        },
        "nteract": {
          "transient": {
            "deleting": false
          }
        }
      }
    },
    {
      "cell_type": "markdown",
      "source": [
        "### End Of File"
      ],
      "metadata": {
        "nteract": {
          "transient": {
            "deleting": false
          }
        }
      }
    }
  ],
  "metadata": {
    "kernelspec": {
      "argv": [
        "C:\\Users\\Tom\\AppData\\Local\\Programs\\Python\\Python38-32\\python.exe",
        "-m",
        "ipykernel_launcher",
        "-f",
        "{connection_file}"
      ],
      "display_name": "Python 3",
      "language": "python",
      "name": "python3"
    }
  },
  "nbformat": 4,
  "nbformat_minor": 0
}