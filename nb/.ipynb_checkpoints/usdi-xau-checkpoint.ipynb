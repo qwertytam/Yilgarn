{
 "cells": [
  {
   "cell_type": "markdown",
   "metadata": {
    "nteract": {
     "transient": {
      "deleting": false
     }
    }
   },
   "source": [
    "# Gold and USD inflation\n",
    "Using monthly data we will explore the relationship between gold prices and\n",
    "inflation.\n",
    "\n",
    "### Inspirations\n",
    "- [The FRED® Blog: Is gold a good hedge against inflation?]\n",
    "(https://fredblog.stlouisfed.org/2019/03/is-gold-a-good-hedge-against-inflation/)\n",
    "\n",
    "### Definitions\n",
    "- Gold: The ICE Benchmark Administration Limited (IBA), Gold Fixing Price in\n",
    "the London Bullion Market, based in U.S. Dollars, retrieved from FRED,\n",
    "Federal Reserve Bank of St. Louis\n",
    "- CPI inflation: Consumer Price Index, seasonally adjusted monthly since 1947,\n",
    ", retrieved from FRED, Federal Reserve Bank of St. Louis\n",
    "- PCE inflation: Personal Consumption Expenditure, seasonally adjusted monthly\n",
    "since 1959, retrieved from FRED, Federal Reserve Bank of St. Louis\n",
    "- SYN inflation: Synthetic Inflation, normalized and averaged over CPI,\n",
    "CPI Core, PCE and PCE Core inflation measures, retrieved from FRED, Federal\n",
    "Reserve Bank of St. Louis\n",
    "\n",
    "### version\n",
    "- Written using Python 3.8.5\n",
    "\n",
    "### Dependencies:\n",
    "- Python: matplotlib, pandas, fecon236, statsmodels, sympy, pandas_datareader\n"
   ]
  },
  {
   "cell_type": "code",
   "execution_count": 1,
   "metadata": {
    "jupyter": {
     "outputs_hidden": false,
     "source_hidden": false
    },
    "nteract": {
     "transient": {
      "deleting": false
     }
    }
   },
   "outputs": [
    {
     "name": "stdout",
     "output_type": "stream",
     "text": [
      " !:  Code for this project straddles python27 and python3.\n",
      " ::  Python 3.8.5\n",
      " ::  IPython 7.18.1\n",
      " ::  jupyter_core 4.6.3\n",
      " ::  jupyter_client 6.1.7\n",
      " ::  notebook 6.1.4\n",
      " ::  matplotlib 3.3.1\n",
      " ::  numpy 1.19.2\n",
      " ::  scipy 1.5.2\n",
      " ::  statsmodels 0.12.0\n",
      " ::  sympy 1.6.2\n",
      " ::  pandas 1.1.2\n",
      " ::  pandas_datareader 0.9.0\n",
      " ::  fecon236 10.8.0\n",
      " ::  Repository: git_repo_None tag_None branch_None\n",
      " ::  Timestamp: 2020-09-15T22:35:58Z\n",
      " :: $pwd E:\\GitRepos\\Yilgarn\\nb\n"
     ]
    }
   ],
   "source": [
    "# SETUP :: Settings, system details, import modules as necessary\n",
    "import fecon236 as fe   # Useful econometrics python module for access and using U.S. Federal Reserve and related data\n",
    "fe.system.specs()\n",
    "pwd = fe.system.getpwd()   # present working directory as a variable\n",
    "print(\" :: $pwd\", pwd)\n",
    "#  If a module is modified, automatically reload it:\n",
    "%load_ext autoreload\n",
    "%autoreload 2\n",
    "#       Use 0 to disable this feature.\n",
    "\n",
    "#  Notebook DISPLAY options:\n",
    "#      Represent pandas DataFrames as text; not HTML representation:\n",
    "import pandas as pd\n",
    "pd.set_option( 'display.notebook_repr_html', False )\n",
    "\n",
    "from matplotlib import pyplot as plt\n",
    "#  Generate PLOTS inside notebook, \"inline\" generates static png:\n",
    "%matplotlib inline\n",
    "#          \"notebook\" argument allows interactive zoom and resize.\n",
    "import numpy as np\n",
    "from sklearn.preprocessing import PolynomialFeatures\n",
    "import statsmodels.api as sm\n"
   ]
  },
  {
   "cell_type": "markdown",
   "metadata": {
    "nteract": {
     "transient": {
      "deleting": false
     }
    }
   },
   "source": [
    "## Retrieve Data, Determine Appropiate Start and End Dates for Analysis\n"
   ]
  },
  {
   "cell_type": "code",
   "execution_count": 2,
   "metadata": {
    "jupyter": {
     "outputs_hidden": false,
     "source_hidden": false
    },
    "nteract": {
     "transient": {
      "deleting": false
     }
    }
   },
   "outputs": [],
   "source": [
    "# Get gold and inflation rates, both as monthly frequency\n",
    "# Notes: fecon236 uses median to resample (instead of say mean) and also\n",
    "# replaces FRED empty data (marked with a \".\") with data from previously\n",
    "# occuring period; These adjustments will drive some small differences to\n",
    "# the analysis on th FRED blog\n",
    "# Daily London AM gold fix, nominal USD, converted to monthly\n",
    "goldN = fe.monthly( fe.get( 'GOLDAMGBD228NLBM' ) )\n",
    "# Daily London PM gold fix, nominal USD, converted to monthly\n",
    "# goldN = fe.get( fe.m4xau )\n",
    "goldNpchg = fe.nona( fe.pcent( goldN ) )    # Percentage change, removed NaN's\n"
   ]
  },
  {
   "cell_type": "code",
   "execution_count": 3,
   "metadata": {
    "jupyter": {
     "outputs_hidden": false,
     "source_hidden": false
    },
    "nteract": {
     "transient": {
      "deleting": false
     }
    }
   },
   "outputs": [],
   "source": [
    "# Inflation in use\n",
    "infcode = fe.m4cpi      # FRED code 'CPIAUCSL'\n",
    "# infcode = fe.m4pce    # FRED code 'PCEPI'\n",
    "# Synthetic average of 'CPIAUCSL', 'CPILFESL', 'PCEPI', 'CPILFESL'\n",
    "# infcode = fe.m4infl\n",
    "infIdx = fe.get ( fe.m4cpi )        # Index, not percentage change\n",
    "infpchg = fe.nona( fe.pcent(infIdx ) )  # Percentage change, removed NaN's\n"
   ]
  },
  {
   "cell_type": "code",
   "execution_count": 4,
   "metadata": {
    "jupyter": {
     "outputs_hidden": false,
     "source_hidden": false
    },
    "nteract": {
     "transient": {
      "deleting": false
     }
    }
   },
   "outputs": [],
   "source": [
    "# Gold with USD inflation removed i.e. in real USD\n",
    "infBasedate = '2020-08-01'              # The base date for our index\n",
    "infBase = infIdx['Y'][infBasedate]      # Base date index value\n",
    "infIdxRebased = fe.div(infIdx, infBase) # Index rebased\n"
   ]
  },
  {
   "cell_type": "code",
   "execution_count": 5,
   "metadata": {
    "jupyter": {
     "outputs_hidden": false,
     "source_hidden": false
    },
    "nteract": {
     "transient": {
      "deleting": false
     }
    }
   },
   "outputs": [],
   "source": [
    "# Find the first and last overlapping dates for the two data series\n",
    "start = max(fe.head( goldN, 1).index[0], fe.head( infIdx, 1).index[0])\n",
    "end = min(fe.tail( goldN, 1).index[0], fe.tail( infIdx, 1).index[0])\n"
   ]
  },
  {
   "cell_type": "code",
   "execution_count": 6,
   "metadata": {
    "jupyter": {
     "outputs_hidden": false,
     "source_hidden": false
    },
    "nteract": {
     "transient": {
      "deleting": false
     }
    }
   },
   "outputs": [],
   "source": [
    "# Calculate the real gold price\n",
    "goldR = fe.div(goldN.loc[start:end], infIdxRebased.loc[start:end])\n",
    "goldRpchg = fe.nona( fe.pcent( goldR ) )    # Percentage change, removed NaN's\n"
   ]
  },
  {
   "cell_type": "code",
   "execution_count": 7,
   "metadata": {
    "jupyter": {
     "outputs_hidden": false,
     "source_hidden": false
    },
    "nteract": {
     "transient": {
      "deleting": false
     }
    }
   },
   "outputs": [],
   "source": [
    "# Manual start and ending date over-rides\n",
    "start = '1970-01-01'    # Date to align with Fed blog\n",
    "end = '2020-08-01'    # Date to align with Fed blog\n"
   ]
  },
  {
   "cell_type": "markdown",
   "metadata": {
    "nteract": {
     "transient": {
      "deleting": false
     }
    }
   },
   "source": [
    "## Look at the Correlation of Month on Month Inflation and Change in Nominal Gold Prices\n"
   ]
  },
  {
   "cell_type": "code",
   "execution_count": 8,
   "metadata": {
    "jupyter": {
     "outputs_hidden": false,
     "source_hidden": false
    },
    "nteract": {
     "transient": {
      "deleting": false
     }
    }
   },
   "outputs": [
    {
     "name": "stdout",
     "output_type": "stream",
     "text": [
      " ::  FIRST variable:\n",
      "count    608.000000\n",
      "mean       0.785983\n",
      "std        5.076597\n",
      "min      -17.549793\n",
      "25%       -1.836479\n",
      "50%        0.071386\n",
      "75%        2.709308\n",
      "max       41.120278\n",
      "Name: Y, dtype: float64\n",
      "\n",
      " ::  SECOND variable:\n",
      "count    608.000000\n",
      "mean       0.318447\n",
      "std        0.330304\n",
      "min       -1.770548\n",
      "25%        0.150792\n",
      "50%        0.267113\n",
      "75%        0.469649\n",
      "max        1.809955\n",
      "Name: Y, dtype: float64\n",
      "\n",
      " ::  CORRELATION\n",
      "0.16271693542025506\n",
      "                            OLS Regression Results                            \n",
      "==============================================================================\n",
      "Dep. Variable:                      Y   R-squared:                       0.026\n",
      "Model:                            OLS   Adj. R-squared:                  0.025\n",
      "Method:                 Least Squares   F-statistic:                     16.48\n",
      "Date:                Tue, 15 Sep 2020   Prob (F-statistic):           5.56e-05\n",
      "Time:                        18:36:04   Log-Likelihood:                -1841.8\n",
      "No. Observations:                 608   AIC:                             3688.\n",
      "Df Residuals:                     606   BIC:                             3696.\n",
      "Df Model:                           1                                         \n",
      "Covariance Type:            nonrobust                                         \n",
      "==============================================================================\n",
      "                 coef    std err          t      P>|t|      [0.025      0.975]\n",
      "------------------------------------------------------------------------------\n",
      "Intercept     -0.0104      0.283     -0.037      0.971      -0.565       0.544\n",
      "X              2.5009      0.616      4.060      0.000       1.291       3.711\n",
      "==============================================================================\n",
      "Omnibus:                      189.379   Durbin-Watson:                   1.584\n",
      "Prob(Omnibus):                  0.000   Jarque-Bera (JB):             1551.286\n",
      "Skew:                           1.140   Prob(JB):                         0.00\n",
      "Kurtosis:                      10.486   Cond. No.                         3.37\n",
      "==============================================================================\n",
      "\n",
      "Notes:\n",
      "[1] Standard Errors assume that the covariance matrix of the errors is correctly specified.\n"
     ]
    },
    {
     "data": {
      "image/png": "[encoded data removed]",
      "text/plain": [
       "<Figure size 432x288 with 1 Axes>"
      ]
     },
     "metadata": {
      "needs_background": "light"
     },
     "output_type": "display_data"
    }
   ],
   "source": [
    "# Calculate useful series information and correlation analysis\n",
    "x = infpchg['Y'][start:end]\n",
    "y = goldNpchg['Y'][start:end]\n",
    "fe.stat2( y, x)\n",
    "model = fe.regress( y, x )\n",
    "coef = model.params.tolist()\n",
    "poly1d_fn = np.poly1d(coef)\n",
    "result = plt.plot( x, y, 'yo', x, poly1d_fn(x), '--k')\n",
    "\n"
   ]
  },
  {
   "cell_type": "markdown",
   "metadata": {
    "nteract": {
     "transient": {
      "deleting": false
     }
    }
   },
   "source": [
    "2020-09-15: The regression analysis shows a strong relationship\n",
    "(t-stat 4.06), however we need to remove the inflation contained in the\n",
    "nominal gold price\n"
   ]
  },
  {
   "cell_type": "markdown",
   "metadata": {
    "nteract": {
     "transient": {
      "deleting": false
     }
    }
   },
   "source": [
    "## Look at the Correlation of Month on Month Inflation and Change in Real Gold Prices\n"
   ]
  },
  {
   "cell_type": "code",
   "execution_count": 9,
   "metadata": {
    "jupyter": {
     "outputs_hidden": false,
     "source_hidden": false
    },
    "nteract": {
     "transient": {
      "deleting": false
     }
    }
   },
   "outputs": [
    {
     "name": "stdout",
     "output_type": "stream",
     "text": [
      " ::  FIRST variable:\n",
      "count    608.000000\n",
      "mean       0.464436\n",
      "std        5.005076\n",
      "min      -18.682068\n",
      "25%       -2.099698\n",
      "50%       -0.153297\n",
      "75%        2.425197\n",
      "max       39.130120\n",
      "Name: Y, dtype: float64\n",
      "\n",
      " ::  SECOND variable:\n",
      "count    608.000000\n",
      "mean       0.318447\n",
      "std        0.330304\n",
      "min       -1.770548\n",
      "25%        0.150792\n",
      "50%        0.267113\n",
      "75%        0.469649\n",
      "max        1.809955\n",
      "Name: Y, dtype: float64\n",
      "\n",
      " ::  CORRELATION\n",
      "0.09822065376682196\n",
      "                            OLS Regression Results                            \n",
      "==============================================================================\n",
      "Dep. Variable:                      Y   R-squared:                       0.010\n",
      "Model:                            OLS   Adj. R-squared:                  0.008\n",
      "Method:                 Least Squares   F-statistic:                     5.903\n",
      "Date:                Tue, 15 Sep 2020   Prob (F-statistic):             0.0154\n",
      "Time:                        18:36:09   Log-Likelihood:                -1838.4\n",
      "No. Observations:                 608   AIC:                             3681.\n",
      "Df Residuals:                     606   BIC:                             3690.\n",
      "Df Model:                           1                                         \n",
      "Covariance Type:            nonrobust                                         \n",
      "==============================================================================\n",
      "                 coef    std err          t      P>|t|      [0.025      0.975]\n",
      "------------------------------------------------------------------------------\n",
      "Intercept     -0.0095      0.281     -0.034      0.973      -0.561       0.542\n",
      "X              1.4883      0.613      2.430      0.015       0.285       2.691\n",
      "==============================================================================\n",
      "Omnibus:                      186.675   Durbin-Watson:                   1.587\n",
      "Prob(Omnibus):                  0.000   Jarque-Bera (JB):             1482.850\n",
      "Skew:                           1.130   Prob(JB):                         0.00\n",
      "Kurtosis:                      10.310   Cond. No.                         3.37\n",
      "==============================================================================\n",
      "\n",
      "Notes:\n",
      "[1] Standard Errors assume that the covariance matrix of the errors is correctly specified.\n"
     ]
    },
    {
     "data": {
      "image/png": "[encoded data removed]",
      "text/plain": [
       "<Figure size 432x288 with 1 Axes>"
      ]
     },
     "metadata": {
      "needs_background": "light"
     },
     "output_type": "display_data"
    }
   ],
   "source": [
    "x = infpchg['Y'][start:end]\n",
    "y = goldRpchg['Y'][start:end]\n",
    "fe.stat2( y, x)\n",
    "model = fe.regress( y, x )\n",
    "coef = model.params.tolist()\n",
    "poly1d_fn = np.poly1d(coef)\n",
    "result = plt.plot( x, y, 'yo', x, poly1d_fn(x), '--k')\n"
   ]
  },
  {
   "cell_type": "markdown",
   "metadata": {
    "nteract": {
     "transient": {
      "deleting": false
     }
    }
   },
   "source": [
    "2020-09-15: The regression analysis shows a relationship\n",
    "(t-stat 2.43), with a 1% increase in inflation having a 0.0095% decrease in\n",
    "the real price of gold. This is a very small movement.\n"
   ]
  },
  {
   "cell_type": "markdown",
   "metadata": {
    "nteract": {
     "transient": {
      "deleting": false
     }
    }
   },
   "source": [
    "## Look at the Correlation of Year on Year Inflation and Change in Nominal Gold Prices\n"
   ]
  },
  {
   "cell_type": "code",
   "execution_count": 10,
   "metadata": {
    "jupyter": {
     "outputs_hidden": false,
     "source_hidden": false
    },
    "nteract": {
     "transient": {
      "deleting": false
     }
    }
   },
   "outputs": [],
   "source": [
    "# Change percentage calcualtion to every 12 months\n",
    "freq = 12\n",
    "goldRpchg = fe.nona( fe.pcent( goldR, freq ) )\n",
    "infpchg = fe.nona( fe.pcent(infIdx, freq ) )\n"
   ]
  },
  {
   "cell_type": "code",
   "execution_count": 11,
   "metadata": {
    "jupyter": {
     "outputs_hidden": false,
     "source_hidden": false
    },
    "nteract": {
     "transient": {
      "deleting": false
     }
    }
   },
   "outputs": [
    {
     "name": "stdout",
     "output_type": "stream",
     "text": [
      " ::  FIRST variable:\n",
      "count    608.000000\n",
      "mean       5.925751\n",
      "std       24.263099\n",
      "min      -42.941169\n",
      "25%       -9.228558\n",
      "50%        2.156939\n",
      "75%       17.315337\n",
      "max      151.801206\n",
      "Name: Y, dtype: float64\n",
      "\n",
      " ::  SECOND variable:\n",
      "count    608.000000\n",
      "mean       3.964192\n",
      "std        2.952517\n",
      "min       -1.958761\n",
      "25%        2.071569\n",
      "50%        3.139299\n",
      "75%        4.812267\n",
      "max       14.592275\n",
      "Name: Y, dtype: float64\n",
      "\n",
      " ::  CORRELATION\n",
      "0.3157299019262588\n",
      "                            OLS Regression Results                            \n",
      "==============================================================================\n",
      "Dep. Variable:                      Y   R-squared:                       0.100\n",
      "Model:                            OLS   Adj. R-squared:                  0.098\n",
      "Method:                 Least Squares   F-statistic:                     67.10\n",
      "Date:                Tue, 15 Sep 2020   Prob (F-statistic):           1.54e-15\n",
      "Time:                        18:36:11   Log-Likelihood:                -2769.2\n",
      "No. Observations:                 608   AIC:                             5542.\n",
      "Df Residuals:                     606   BIC:                             5551.\n",
      "Df Model:                           1                                         \n",
      "Covariance Type:            nonrobust                                         \n",
      "==============================================================================\n",
      "                 coef    std err          t      P>|t|      [0.025      0.975]\n",
      "------------------------------------------------------------------------------\n",
      "Intercept     -4.3597      1.565     -2.785      0.006      -7.434      -1.286\n",
      "X              2.5946      0.317      8.191      0.000       1.973       3.217\n",
      "==============================================================================\n",
      "Omnibus:                       62.927   Durbin-Watson:                   0.112\n",
      "Prob(Omnibus):                  0.000   Jarque-Bera (JB):              154.671\n",
      "Skew:                           0.550   Prob(JB):                     2.59e-34\n",
      "Kurtosis:                       5.213   Cond. No.                         8.50\n",
      "==============================================================================\n",
      "\n",
      "Notes:\n",
      "[1] Standard Errors assume that the covariance matrix of the errors is correctly specified.\n"
     ]
    },
    {
     "data": {
      "image/png": "[encoded data removed]",
      "text/plain": [
       "<Figure size 432x288 with 1 Axes>"
      ]
     },
     "metadata": {
      "needs_background": "light"
     },
     "output_type": "display_data"
    }
   ],
   "source": [
    "# Show same analysis as above\n",
    "x = infpchg['Y'][start:end]\n",
    "y = goldRpchg['Y'][start:end]\n",
    "fe.stat2( y, x)\n",
    "model = fe.regress( y, x )\n",
    "coef = model.params.tolist()\n",
    "poly1d_fn = np.poly1d(coef)\n",
    "result = plt.plot( x, y, 'yo', x, poly1d_fn(x), '--k')\n"
   ]
  },
  {
   "cell_type": "markdown",
   "metadata": {
    "nteract": {
     "transient": {
      "deleting": false
     }
    }
   },
   "source": [
    "2020-09-15: The regression analysis shows a relationship\n",
    "(t-stat 8.191), with a 1% increase in inflation having a 4.36% decrease in\n",
    "the real price of gold; so actually showing a decrease in the real price\n",
    "when the inflation increases; **an unexpected result**\n"
   ]
  },
  {
   "cell_type": "markdown",
   "metadata": {
    "nteract": {
     "transient": {
      "deleting": false
     }
    }
   },
   "source": [
    "### Alternative Models for Yearly Inflation and Real prices\n",
    "First, lets explore a polynomial model\n"
   ]
  },
  {
   "cell_type": "code",
   "execution_count": 12,
   "metadata": {
    "jupyter": {
     "outputs_hidden": false,
     "source_hidden": false
    },
    "nteract": {
     "transient": {
      "deleting": false
     }
    }
   },
   "outputs": [
    {
     "name": "stdout",
     "output_type": "stream",
     "text": [
      "                            OLS Regression Results                            \n",
      "==============================================================================\n",
      "Dep. Variable:                      y   R-squared:                       0.214\n",
      "Model:                            OLS   Adj. R-squared:                  0.212\n",
      "Method:                 Least Squares   F-statistic:                     82.50\n",
      "Date:                Tue, 15 Sep 2020   Prob (F-statistic):           2.08e-32\n",
      "Time:                        18:36:14   Log-Likelihood:                -2727.8\n",
      "No. Observations:                 608   AIC:                             5462.\n",
      "Df Residuals:                     605   BIC:                             5475.\n",
      "Df Model:                           2                                         \n",
      "Covariance Type:            nonrobust                                         \n",
      "==============================================================================\n",
      "                 coef    std err          t      P>|t|      [0.025      0.975]\n",
      "------------------------------------------------------------------------------\n",
      "const         12.3537      2.304      5.362      0.000       7.829      16.878\n",
      "x1            -5.8708      0.949     -6.189      0.000      -7.734      -4.008\n",
      "x2             0.6899      0.073      9.394      0.000       0.546       0.834\n",
      "==============================================================================\n",
      "Omnibus:                       44.854   Durbin-Watson:                   0.133\n",
      "Prob(Omnibus):                  0.000   Jarque-Bera (JB):              105.593\n",
      "Skew:                           0.399   Prob(JB):                     1.18e-23\n",
      "Kurtosis:                       4.879   Cond. No.                         128.\n",
      "==============================================================================\n",
      "\n",
      "Notes:\n",
      "[1] Standard Errors assume that the covariance matrix of the errors is correctly specified.\n"
     ]
    },
    {
     "data": {
      "image/png": "[encoded data removed]",
      "text/plain": [
       "<Figure size 432x288 with 1 Axes>"
      ]
     },
     "metadata": {
      "needs_background": "light"
     },
     "output_type": "display_data"
    }
   ],
   "source": [
    "# Define our model\n",
    "degree = 2\n",
    "polyFeatures = PolynomialFeatures(degree)\n",
    "\n",
    "# Reshape data from 1 by n to n by 1\n",
    "xarray = np.array(x)\n",
    "xarray = xarray[:, np.newaxis]\n",
    "\n",
    "# Calculate polynomials for x\n",
    "xp = polyFeatures.fit_transform(xarray)\n",
    "\n",
    "# Reshape y from 1 by n to n by 1\n",
    "yarray = np.array(y)\n",
    "yarray = yarray[:, np.newaxis]\n",
    "\n",
    "# Calculate the model and predictions\n",
    "model = sm.OLS( yarray, xp ).fit()\n",
    "ypred = model.predict(xp)\n",
    "\n",
    "# Display the result\n",
    "result = plt.plot( x, y, 'yo', x, ypred, '--k')\n",
    "\n",
    "print(model.summary())\n"
   ]
  },
  {
   "cell_type": "markdown",
   "metadata": {
    "nteract": {
     "transient": {
      "deleting": false
     }
    }
   },
   "source": [
    "2020-09-15: For `degree=2` We show a stronger relationship, however it is\n",
    "not clear why a quadractic equation is an appropiate relationship between\n",
    "inflation and gold prices\n"
   ]
  },
  {
   "cell_type": "markdown",
   "metadata": {
    "nteract": {
     "transient": {
      "deleting": false
     }
    }
   },
   "source": [
    " STOP\n",
    " STOP\n",
    " STOP\n",
    " STOP\n",
    " STOP\n",
    " STOP\n",
    "\n",
    "\n",
    "\n",
    "#############################################\n",
    "##\n",
    "## Scratch pad code\n",
    "##\n",
    "#############################################\n",
    "\n",
    "goldUSDd = fe.get( 'GOLDAMGBD228NLBM' )\n",
    "\n",
    "goldUSDd['Y']['1969-12-01':'1969-12-31']\n",
    "\n",
    "droprws = ['1969-12-25', '1969-12-26', '1970-01-01', '1970-03-27', '1970-03-30', '1970-05-25']\n",
    "goldUSDdrop = goldUSDd[~goldUSDd.index.isin(droprws)]\n",
    "goldUSDdrop['Y']['1969-12-01':'1969-12-31']\n",
    "\n",
    "dataframe = goldUSDdrop\n",
    "rule = 'MS'\n",
    "dfmean = dataframe.resample(rule, closed='left', label='left').mean()\n",
    "dfmean['Y']['1969-12-01':'1970-05-01']\n",
    "\n",
    "dfmeanpc  = dfmean.pct_change( periods=1 )\n",
    "dfmeanpc = dfmeanpc.dropna()\n",
    "dfmeanpc['Y'][start:'1970-05-01']\n",
    "\n",
    "dfmdn = fe.monthly( goldUSDd )\n",
    "dfmdn['Y']['1969-12-01':'1970-05-01']\n",
    "dfmdnpc  = dfmdn.pct_change( periods=1 )\n",
    "dfmdnpc = dfmdnpc.dropna()\n",
    "dfmdnpc['Y'][start:'1970-05-01']\n",
    "\n",
    "from sklearn.metrics import mean_squared_error\n",
    "mean_squared_error(dfmeanpc, dfmdnpc)\n",
    "\n",
    "df = inf\n",
    "df['Y']['1969-12-01':'1970-05-01']\n",
    "\n",
    "dfpc  = df.pct_change( periods=1 )\n",
    "dfpc['Y']['1969-12-01':'1970-05-01']"
   ]
  },
  {
   "cell_type": "code",
   "execution_count": null,
   "metadata": {},
   "outputs": [],
   "source": []
  },
  {
   "cell_type": "code",
   "execution_count": null,
   "metadata": {},
   "outputs": [],
   "source": []
  }
 ],
 "metadata": {
  "kernelspec": {
   "display_name": "Python 3",
   "language": "python",
   "name": "python3"
  },
  "language_info": {
   "codemirror_mode": {
    "name": "ipython",
    "version": 3
   },
   "file_extension": ".py",
   "mimetype": "text/x-python",
   "name": "python",
   "nbconvert_exporter": "python",
   "pygments_lexer": "ipython3",
   "version": "3.8.5"
  }
 },
 "nbformat": 4,
 "nbformat_minor": 1
}
